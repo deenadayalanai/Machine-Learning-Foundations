{
  "nbformat": 4,
  "nbformat_minor": 0,
  "metadata": {
    "colab": {
      "provenance": [],
      "authorship_tag": "ABX9TyM3G4Ky596VcPbA6CqM5bvf",
      "include_colab_link": true
    },
    "kernelspec": {
      "name": "python3",
      "display_name": "Python 3"
    },
    "language_info": {
      "name": "python"
    }
  },
  "cells": [
    {
      "cell_type": "markdown",
      "metadata": {
        "id": "view-in-github",
        "colab_type": "text"
      },
      "source": [
        "<a href=\"https://colab.research.google.com/github/deenadayalandms/Maths-for-ML/blob/main/Intro_to_Linear_Algebra.ipynb\" target=\"_parent\"><img src=\"https://colab.research.google.com/assets/colab-badge.svg\" alt=\"Open In Colab\"/></a>"
      ]
    },
    {
      "cell_type": "markdown",
      "source": [
        "#**Segment 1: Data Structures for Algebra**"
      ],
      "metadata": {
        "id": "VvIens8BsaHx"
      }
    },
    {
      "cell_type": "markdown",
      "source": [
        "##Scalars (Rank 0 Tensors) in Base Python"
      ],
      "metadata": {
        "id": "lBPl5lc5pA20"
      }
    },
    {
      "cell_type": "markdown",
      "source": [],
      "metadata": {
        "id": "HkFYzaCPcIAT"
      }
    },
    {
      "cell_type": "code",
      "execution_count": null,
      "metadata": {
        "id": "QQ6hn7wiQd0h"
      },
      "outputs": [],
      "source": [
        "x = 25"
      ]
    },
    {
      "cell_type": "code",
      "source": [
        "type(x)"
      ],
      "metadata": {
        "id": "Y2asI2YUshKO",
        "colab": {
          "base_uri": "https://localhost:8080/"
        },
        "outputId": "8e66072c-142d-4987-c6a8-6e38c3f2f16a"
      },
      "execution_count": null,
      "outputs": [
        {
          "output_type": "execute_result",
          "data": {
            "text/plain": [
              "int"
            ]
          },
          "metadata": {},
          "execution_count": 50
        }
      ]
    },
    {
      "cell_type": "code",
      "source": [
        "y = 3"
      ],
      "metadata": {
        "id": "qfzhkbdmipD8"
      },
      "execution_count": null,
      "outputs": []
    },
    {
      "cell_type": "code",
      "source": [
        "sum = x + y\n",
        "sum"
      ],
      "metadata": {
        "colab": {
          "base_uri": "https://localhost:8080/"
        },
        "id": "6dOlu5iTix6u",
        "outputId": "de0b9856-614d-45d2-d535-7980f95bb16a"
      },
      "execution_count": null,
      "outputs": [
        {
          "output_type": "execute_result",
          "data": {
            "text/plain": [
              "28"
            ]
          },
          "metadata": {},
          "execution_count": 52
        }
      ]
    },
    {
      "cell_type": "code",
      "source": [
        "x_float= 25.0\n",
        "float_sum = x_float + y\n",
        "float_sum"
      ],
      "metadata": {
        "colab": {
          "base_uri": "https://localhost:8080/"
        },
        "id": "4tVsEFiai3Vf",
        "outputId": "e3632744-525c-4e8e-cea3-600cb207458b"
      },
      "execution_count": null,
      "outputs": [
        {
          "output_type": "execute_result",
          "data": {
            "text/plain": [
              "28.0"
            ]
          },
          "metadata": {},
          "execution_count": 53
        }
      ]
    },
    {
      "cell_type": "code",
      "source": [
        "type(x_float)"
      ],
      "metadata": {
        "id": "l3Fa-7mxjNqE",
        "colab": {
          "base_uri": "https://localhost:8080/"
        },
        "outputId": "9f95f144-8545-42b7-9419-3f5c55ec5fb2"
      },
      "execution_count": null,
      "outputs": [
        {
          "output_type": "execute_result",
          "data": {
            "text/plain": [
              "float"
            ]
          },
          "metadata": {},
          "execution_count": 54
        }
      ]
    },
    {
      "cell_type": "markdown",
      "source": [
        "Scalars in PyTorch"
      ],
      "metadata": {
        "id": "Yg9DJ8Besje6"
      }
    },
    {
      "cell_type": "code",
      "source": [
        "import torch"
      ],
      "metadata": {
        "id": "P611L1AHpDxI"
      },
      "execution_count": null,
      "outputs": []
    },
    {
      "cell_type": "code",
      "source": [
        "X_pt= torch.tensor(25)\n",
        "X_pt"
      ],
      "metadata": {
        "id": "xpJxbkahx5gp",
        "colab": {
          "base_uri": "https://localhost:8080/"
        },
        "outputId": "650ca692-8b67-47e3-a629-a75142905074"
      },
      "execution_count": null,
      "outputs": [
        {
          "output_type": "execute_result",
          "data": {
            "text/plain": [
              "tensor(25)"
            ]
          },
          "metadata": {},
          "execution_count": 56
        }
      ]
    },
    {
      "cell_type": "code",
      "source": [
        "X_pt.shape"
      ],
      "metadata": {
        "colab": {
          "base_uri": "https://localhost:8080/"
        },
        "id": "zsoVHgaErjrQ",
        "outputId": "ce1c74d0-a0e0-4d94-e9fd-c27c226377d8"
      },
      "execution_count": null,
      "outputs": [
        {
          "output_type": "execute_result",
          "data": {
            "text/plain": [
              "torch.Size([])"
            ]
          },
          "metadata": {},
          "execution_count": 57
        }
      ]
    },
    {
      "cell_type": "markdown",
      "source": [
        "##Vectors (Rank 1 Tensors)"
      ],
      "metadata": {
        "id": "HEm-WPeWy2Ez"
      }
    },
    {
      "cell_type": "markdown",
      "source": [
        "Vectors in NumPy"
      ],
      "metadata": {
        "id": "CzPQrHvbsH-h"
      }
    },
    {
      "cell_type": "code",
      "source": [
        "import numpy as np"
      ],
      "metadata": {
        "id": "Tk5neX-krsMQ"
      },
      "execution_count": null,
      "outputs": []
    },
    {
      "cell_type": "code",
      "source": [
        "x = np.array([25,2,5])  # type argument is optional, e.g.: dtype=np.float16\n",
        "x"
      ],
      "metadata": {
        "colab": {
          "base_uri": "https://localhost:8080/"
        },
        "id": "MkISnbopZYMB",
        "outputId": "af3ee9eb-aabc-4ca0-976e-4c40b6b76791"
      },
      "execution_count": null,
      "outputs": [
        {
          "output_type": "execute_result",
          "data": {
            "text/plain": [
              "array([25,  2,  5])"
            ]
          },
          "metadata": {},
          "execution_count": 59
        }
      ]
    },
    {
      "cell_type": "code",
      "source": [
        "len(x)"
      ],
      "metadata": {
        "colab": {
          "base_uri": "https://localhost:8080/"
        },
        "id": "WdaQqtl0ZdUI",
        "outputId": "fa2ce569-c1fd-4173-896a-7402b3d17805"
      },
      "execution_count": null,
      "outputs": [
        {
          "output_type": "execute_result",
          "data": {
            "text/plain": [
              "3"
            ]
          },
          "metadata": {},
          "execution_count": 60
        }
      ]
    },
    {
      "cell_type": "code",
      "source": [
        "x.shape"
      ],
      "metadata": {
        "colab": {
          "base_uri": "https://localhost:8080/"
        },
        "id": "30CcV_cdZhQp",
        "outputId": "bcaa0764-4f91-4d2e-badb-035834459300"
      },
      "execution_count": null,
      "outputs": [
        {
          "output_type": "execute_result",
          "data": {
            "text/plain": [
              "(3,)"
            ]
          },
          "metadata": {},
          "execution_count": 61
        }
      ]
    },
    {
      "cell_type": "code",
      "source": [
        "type(x)"
      ],
      "metadata": {
        "colab": {
          "base_uri": "https://localhost:8080/"
        },
        "id": "BonGitIPZin6",
        "outputId": "951fd29b-7452-4c0a-d80c-dda859c8c7f4"
      },
      "execution_count": null,
      "outputs": [
        {
          "output_type": "execute_result",
          "data": {
            "text/plain": [
              "numpy.ndarray"
            ]
          },
          "metadata": {},
          "execution_count": 62
        }
      ]
    },
    {
      "cell_type": "code",
      "source": [
        "x[0]"
      ],
      "metadata": {
        "colab": {
          "base_uri": "https://localhost:8080/"
        },
        "id": "3Bl9noCZZkT4",
        "outputId": "1fd94c6a-b2ad-4eb8-aa0d-0206eccd2899"
      },
      "execution_count": null,
      "outputs": [
        {
          "output_type": "execute_result",
          "data": {
            "text/plain": [
              "25"
            ]
          },
          "metadata": {},
          "execution_count": 63
        }
      ]
    },
    {
      "cell_type": "code",
      "source": [
        "type(x[0])"
      ],
      "metadata": {
        "colab": {
          "base_uri": "https://localhost:8080/"
        },
        "id": "t3P6Lg3hZrdA",
        "outputId": "1376fb54-1f29-41f3-dd4d-0c86ea2cb27c"
      },
      "execution_count": null,
      "outputs": [
        {
          "output_type": "execute_result",
          "data": {
            "text/plain": [
              "numpy.int64"
            ]
          },
          "metadata": {},
          "execution_count": 64
        }
      ]
    },
    {
      "cell_type": "markdown",
      "source": [
        "Vector Transposition"
      ],
      "metadata": {
        "id": "RCiAQKUeaLpC"
      }
    },
    {
      "cell_type": "code",
      "source": [
        "x_t = x.T\n",
        "x_t"
      ],
      "metadata": {
        "colab": {
          "base_uri": "https://localhost:8080/"
        },
        "id": "tYAMHNo4Z5Kt",
        "outputId": "1bcd9451-ca63-43b1-f5b0-0f8d3f52c47e"
      },
      "execution_count": null,
      "outputs": [
        {
          "output_type": "execute_result",
          "data": {
            "text/plain": [
              "array([25,  2,  5])"
            ]
          },
          "metadata": {},
          "execution_count": 65
        }
      ]
    },
    {
      "cell_type": "code",
      "source": [
        "y = np.array([[25, 2, 5]]) #doubt\n",
        "y"
      ],
      "metadata": {
        "colab": {
          "base_uri": "https://localhost:8080/"
        },
        "id": "23JTCVuXaTvm",
        "outputId": "a803bad4-7548-410d-a2cb-92f539b6281a"
      },
      "execution_count": null,
      "outputs": [
        {
          "output_type": "execute_result",
          "data": {
            "text/plain": [
              "array([[25,  2,  5]])"
            ]
          },
          "metadata": {},
          "execution_count": 66
        }
      ]
    },
    {
      "cell_type": "code",
      "source": [
        "y_t = y.T\n",
        "y_t"
      ],
      "metadata": {
        "colab": {
          "base_uri": "https://localhost:8080/"
        },
        "id": "hBXawJkJbQbC",
        "outputId": "4c4efe1f-14a7-4f65-8da0-1b95a6b15580"
      },
      "execution_count": null,
      "outputs": [
        {
          "output_type": "execute_result",
          "data": {
            "text/plain": [
              "array([[25],\n",
              "       [ 2],\n",
              "       [ 5]])"
            ]
          },
          "metadata": {},
          "execution_count": 67
        }
      ]
    },
    {
      "cell_type": "code",
      "source": [
        "y_t.shape"
      ],
      "metadata": {
        "colab": {
          "base_uri": "https://localhost:8080/"
        },
        "id": "9JRgz8YSbXjo",
        "outputId": "b59581d0-61ed-4038-f087-82c817d8c6eb"
      },
      "execution_count": null,
      "outputs": [
        {
          "output_type": "execute_result",
          "data": {
            "text/plain": [
              "(3, 1)"
            ]
          },
          "metadata": {},
          "execution_count": 68
        }
      ]
    },
    {
      "cell_type": "markdown",
      "source": [
        "Zero vectors"
      ],
      "metadata": {
        "id": "R-Aykn8lcBSp"
      }
    },
    {
      "cell_type": "code",
      "source": [
        "z = np.zeros(3)\n",
        "z"
      ],
      "metadata": {
        "colab": {
          "base_uri": "https://localhost:8080/"
        },
        "id": "9cwG2kZNbsBp",
        "outputId": "5f616a41-7ba4-4c29-e3fe-0152e79b9d2d"
      },
      "execution_count": null,
      "outputs": [
        {
          "output_type": "execute_result",
          "data": {
            "text/plain": [
              "array([0., 0., 0.])"
            ]
          },
          "metadata": {},
          "execution_count": 69
        }
      ]
    },
    {
      "cell_type": "markdown",
      "source": [
        "Vectors in PyTorch"
      ],
      "metadata": {
        "id": "7heP4JS5cLaL"
      }
    },
    {
      "cell_type": "code",
      "source": [
        "x_pt = torch.tensor([25,2,5])\n",
        "x_pt"
      ],
      "metadata": {
        "colab": {
          "base_uri": "https://localhost:8080/"
        },
        "id": "IzX7PAVCcIls",
        "outputId": "e917ab5b-452a-45fa-e6f8-73edcad3b965"
      },
      "execution_count": null,
      "outputs": [
        {
          "output_type": "execute_result",
          "data": {
            "text/plain": [
              "tensor([25,  2,  5])"
            ]
          },
          "metadata": {},
          "execution_count": 70
        }
      ]
    },
    {
      "cell_type": "markdown",
      "source": [
        "##Norms and Units\n"
      ],
      "metadata": {
        "id": "6yo-53BFn3Yi"
      }
    },
    {
      "cell_type": "markdown",
      "source": [
        "L2 Norm"
      ],
      "metadata": {
        "id": "8j8EfqUyqySu"
      }
    },
    {
      "cell_type": "code",
      "source": [
        "(25**2 + 2**2 + 5**2 )**(1/2)"
      ],
      "metadata": {
        "colab": {
          "base_uri": "https://localhost:8080/"
        },
        "id": "t6pgZQ52n9KK",
        "outputId": "fff95f25-11e6-4e89-b04b-5a258ffe55a8"
      },
      "execution_count": null,
      "outputs": [
        {
          "output_type": "execute_result",
          "data": {
            "text/plain": [
              "25.573423705088842"
            ]
          },
          "metadata": {},
          "execution_count": 106
        }
      ]
    },
    {
      "cell_type": "code",
      "source": [
        "np.linalg.norm(x)"
      ],
      "metadata": {
        "colab": {
          "base_uri": "https://localhost:8080/"
        },
        "id": "InnPsIl5ob5o",
        "outputId": "7361c11f-94c5-442a-f922-7808118e2e71"
      },
      "execution_count": null,
      "outputs": [
        {
          "output_type": "execute_result",
          "data": {
            "text/plain": [
              "25.573423705088842"
            ]
          },
          "metadata": {},
          "execution_count": 107
        }
      ]
    },
    {
      "cell_type": "markdown",
      "source": [
        "L1 Norm"
      ],
      "metadata": {
        "id": "DS1ROcILifRn"
      }
    },
    {
      "cell_type": "code",
      "source": [
        "np.abs(25) + np.abs(2) + np.abs(5)"
      ],
      "metadata": {
        "colab": {
          "base_uri": "https://localhost:8080/"
        },
        "id": "zp1HFOkhir2Z",
        "outputId": "dd2f361f-65bb-460c-aec1-58bd4cf9fda6"
      },
      "execution_count": null,
      "outputs": [
        {
          "output_type": "execute_result",
          "data": {
            "text/plain": [
              "32"
            ]
          },
          "metadata": {},
          "execution_count": 108
        }
      ]
    },
    {
      "cell_type": "markdown",
      "source": [
        "Squared L^2 Norm"
      ],
      "metadata": {
        "id": "OH6Y2-ZGkDMk"
      }
    },
    {
      "cell_type": "code",
      "source": [
        "(25**2)+(2**2)+(5**2)"
      ],
      "metadata": {
        "colab": {
          "base_uri": "https://localhost:8080/"
        },
        "id": "kxZ3OQbWkE7w",
        "outputId": "b1f734ab-3443-4c19-97f5-9f982bcbc0b5"
      },
      "execution_count": null,
      "outputs": [
        {
          "output_type": "execute_result",
          "data": {
            "text/plain": [
              "654"
            ]
          },
          "metadata": {},
          "execution_count": 109
        }
      ]
    },
    {
      "cell_type": "code",
      "source": [
        "np.dot(x, x)"
      ],
      "metadata": {
        "colab": {
          "base_uri": "https://localhost:8080/"
        },
        "id": "uWqHcIKekLUJ",
        "outputId": "85f3d25b-9036-4980-b1aa-5ce836722432"
      },
      "execution_count": null,
      "outputs": [
        {
          "output_type": "execute_result",
          "data": {
            "text/plain": [
              "654"
            ]
          },
          "metadata": {},
          "execution_count": 110
        }
      ]
    },
    {
      "cell_type": "markdown",
      "source": [
        "Max Norm"
      ],
      "metadata": {
        "id": "9VK60INnk4EI"
      }
    },
    {
      "cell_type": "code",
      "source": [
        "np.max([np.abs(25), np.abs(2) , np.abs(5)])"
      ],
      "metadata": {
        "colab": {
          "base_uri": "https://localhost:8080/"
        },
        "id": "2V9jKTbZk7qU",
        "outputId": "0dd78049-c2fd-4816-8dbd-eb595d60fe3b"
      },
      "execution_count": null,
      "outputs": [
        {
          "output_type": "execute_result",
          "data": {
            "text/plain": [
              "25"
            ]
          },
          "metadata": {},
          "execution_count": 111
        }
      ]
    },
    {
      "cell_type": "markdown",
      "source": [
        "Orthogonal Vectors\n"
      ],
      "metadata": {
        "id": "DjFkk-e1o54Y"
      }
    },
    {
      "cell_type": "code",
      "source": [
        "i = np.array([1, 0])\n",
        "i"
      ],
      "metadata": {
        "colab": {
          "base_uri": "https://localhost:8080/"
        },
        "id": "wm5ftPnmlIFK",
        "outputId": "ab64b958-a032-4d0f-bb87-604a39a5c5b8"
      },
      "execution_count": null,
      "outputs": [
        {
          "output_type": "execute_result",
          "data": {
            "text/plain": [
              "array([1, 0])"
            ]
          },
          "metadata": {},
          "execution_count": 112
        }
      ]
    },
    {
      "cell_type": "code",
      "source": [
        "j = np.array([0, 1])\n",
        "j"
      ],
      "metadata": {
        "colab": {
          "base_uri": "https://localhost:8080/"
        },
        "id": "H0LICcEio9fp",
        "outputId": "40f1c7f8-71fb-4c3e-c0e7-982dcf64f305"
      },
      "execution_count": null,
      "outputs": [
        {
          "output_type": "execute_result",
          "data": {
            "text/plain": [
              "array([0, 1])"
            ]
          },
          "metadata": {},
          "execution_count": 113
        }
      ]
    },
    {
      "cell_type": "code",
      "source": [
        "np.dot(i, j)"
      ],
      "metadata": {
        "colab": {
          "base_uri": "https://localhost:8080/"
        },
        "id": "QIIBih0Go_Mx",
        "outputId": "b9850bb1-4927-440f-e9b6-2dcc4e40c068"
      },
      "execution_count": null,
      "outputs": [
        {
          "output_type": "execute_result",
          "data": {
            "text/plain": [
              "0"
            ]
          },
          "metadata": {},
          "execution_count": 114
        }
      ]
    },
    {
      "cell_type": "markdown",
      "source": [
        "## Matrices  (Rank 2 Tensors)"
      ],
      "metadata": {
        "id": "-fnoQRgMpgWB"
      }
    },
    {
      "cell_type": "markdown",
      "source": [
        "Matrices in Numpy"
      ],
      "metadata": {
        "id": "I6OBPMgss7Cb"
      }
    },
    {
      "cell_type": "code",
      "source": [
        "# Use array() with nested brackets:\n",
        "X = np.array([[25, 2], [5, 26], [3, 7]])\n",
        "X"
      ],
      "metadata": {
        "colab": {
          "base_uri": "https://localhost:8080/"
        },
        "id": "jdn5oXSzpC6_",
        "outputId": "d8534278-9584-40bf-c251-9c7aead83865"
      },
      "execution_count": null,
      "outputs": [
        {
          "output_type": "execute_result",
          "data": {
            "text/plain": [
              "array([[25,  2],\n",
              "       [ 5, 26],\n",
              "       [ 3,  7]])"
            ]
          },
          "metadata": {},
          "execution_count": 90
        }
      ]
    },
    {
      "cell_type": "code",
      "source": [
        "X.shape"
      ],
      "metadata": {
        "colab": {
          "base_uri": "https://localhost:8080/"
        },
        "id": "o4FdB9SIxbwn",
        "outputId": "7e1acd06-dbed-405d-a68b-b37c21eff225"
      },
      "execution_count": null,
      "outputs": [
        {
          "output_type": "execute_result",
          "data": {
            "text/plain": [
              "(3, 2)"
            ]
          },
          "metadata": {},
          "execution_count": 91
        }
      ]
    },
    {
      "cell_type": "code",
      "source": [
        "X.size"
      ],
      "metadata": {
        "colab": {
          "base_uri": "https://localhost:8080/"
        },
        "id": "lmZQ_53ryYSr",
        "outputId": "def3edc7-5134-4053-8014-94c3be4b55d3"
      },
      "execution_count": null,
      "outputs": [
        {
          "output_type": "execute_result",
          "data": {
            "text/plain": [
              "6"
            ]
          },
          "metadata": {},
          "execution_count": 92
        }
      ]
    },
    {
      "cell_type": "code",
      "source": [
        "# Select left column of matrix X (zero-indexed)\n",
        "X[:,0]"
      ],
      "metadata": {
        "colab": {
          "base_uri": "https://localhost:8080/"
        },
        "id": "fKITq_7xyaQ7",
        "outputId": "511aa642-d7b0-4ff7-e6b9-d4dd8cb9decc"
      },
      "execution_count": null,
      "outputs": [
        {
          "output_type": "execute_result",
          "data": {
            "text/plain": [
              "array([25,  5,  3])"
            ]
          },
          "metadata": {},
          "execution_count": 93
        }
      ]
    },
    {
      "cell_type": "code",
      "source": [
        "# Select middle row of matrix X:\n",
        "X[1,:]"
      ],
      "metadata": {
        "colab": {
          "base_uri": "https://localhost:8080/"
        },
        "id": "uYJqRn0gys3z",
        "outputId": "25d9c947-5bdc-4828-bebc-dfaaa6980df1"
      },
      "execution_count": null,
      "outputs": [
        {
          "output_type": "execute_result",
          "data": {
            "text/plain": [
              "array([ 5, 26])"
            ]
          },
          "metadata": {},
          "execution_count": 94
        }
      ]
    },
    {
      "cell_type": "code",
      "source": [
        "# Another slicing-by-index example:\n",
        "X[0:2, 0:2]"
      ],
      "metadata": {
        "colab": {
          "base_uri": "https://localhost:8080/"
        },
        "id": "BZoaaq_FytY4",
        "outputId": "244990f6-e3a5-4311-95bb-ee4048b88d7d"
      },
      "execution_count": null,
      "outputs": [
        {
          "output_type": "execute_result",
          "data": {
            "text/plain": [
              "array([[25,  2],\n",
              "       [ 5, 26]])"
            ]
          },
          "metadata": {},
          "execution_count": 95
        }
      ]
    },
    {
      "cell_type": "markdown",
      "source": [
        "Matrices in PyTorch"
      ],
      "metadata": {
        "id": "0TryDs0_U1PT"
      }
    },
    {
      "cell_type": "code",
      "source": [
        "X_pt = torch.tensor([[25, 2], [5, 26], [3, 7]])\n",
        "X_pt"
      ],
      "metadata": {
        "colab": {
          "base_uri": "https://localhost:8080/"
        },
        "id": "s4YWOzD7yzzd",
        "outputId": "d59be7c3-c0c5-40fe-8cb6-d335d86f4a49"
      },
      "execution_count": null,
      "outputs": [
        {
          "output_type": "execute_result",
          "data": {
            "text/plain": [
              "tensor([[25,  2],\n",
              "        [ 5, 26],\n",
              "        [ 3,  7]])"
            ]
          },
          "metadata": {},
          "execution_count": 99
        }
      ]
    },
    {
      "cell_type": "code",
      "source": [
        "X_pt.shape # more pythonic"
      ],
      "metadata": {
        "colab": {
          "base_uri": "https://localhost:8080/"
        },
        "id": "lsLyUvljVC_C",
        "outputId": "d8b23dd3-924d-4d69-f5ed-262b56d5adf0"
      },
      "execution_count": null,
      "outputs": [
        {
          "output_type": "execute_result",
          "data": {
            "text/plain": [
              "torch.Size([3, 2])"
            ]
          },
          "metadata": {},
          "execution_count": 100
        }
      ]
    },
    {
      "cell_type": "code",
      "source": [
        "X_pt[1,:]"
      ],
      "metadata": {
        "colab": {
          "base_uri": "https://localhost:8080/"
        },
        "id": "0o5QPMnVVRXf",
        "outputId": "464a4790-a16f-4583-8d0c-321b5833d2cb"
      },
      "execution_count": null,
      "outputs": [
        {
          "output_type": "execute_result",
          "data": {
            "text/plain": [
              "tensor([ 5, 26])"
            ]
          },
          "metadata": {},
          "execution_count": 101
        }
      ]
    },
    {
      "cell_type": "markdown",
      "source": [
        "## Higher-Rank Tensors\n",
        "As an example, rank 4 tensors are common for images, where each dimension corresponds to:\n",
        "\n",
        "1.   Number of images in training batch, e.g., 32\n",
        "2.   Image height in pixels, e.g., 28 for MNIST digits\n",
        "3. Image width in pixels, e.g., 28\n",
        "4. Number of color channels, e.g., 3 for full-color images (RGB)"
      ],
      "metadata": {
        "id": "9v2qK1MJVgvh"
      }
    },
    {
      "cell_type": "code",
      "source": [
        "images_pt = torch.zeros([32, 28, 28, 3]) #PyTorch"
      ],
      "metadata": {
        "id": "gvMTadH3Wyvy"
      },
      "execution_count": null,
      "outputs": []
    },
    {
      "cell_type": "code",
      "source": [
        "images_pt"
      ],
      "metadata": {
        "id": "mQhgo-ipYVVB"
      },
      "execution_count": null,
      "outputs": []
    },
    {
      "cell_type": "markdown",
      "source": [
        "#Segment 2: Common Tensor Operations"
      ],
      "metadata": {
        "id": "-GpjADM6c99J"
      }
    },
    {
      "cell_type": "markdown",
      "source": [
        "##Tensor Transposition"
      ],
      "metadata": {
        "id": "S-PAlUU1doqg"
      }
    },
    {
      "cell_type": "code",
      "source": [
        "X"
      ],
      "metadata": {
        "colab": {
          "base_uri": "https://localhost:8080/"
        },
        "id": "0xylNpWfdF1l",
        "outputId": "547b25f3-641a-4227-b82a-56e55078925c"
      },
      "execution_count": null,
      "outputs": [
        {
          "output_type": "execute_result",
          "data": {
            "text/plain": [
              "array([[25,  2],\n",
              "       [ 5, 26],\n",
              "       [ 3,  7]])"
            ]
          },
          "metadata": {},
          "execution_count": 115
        }
      ]
    },
    {
      "cell_type": "code",
      "source": [
        "X.T"
      ],
      "metadata": {
        "colab": {
          "base_uri": "https://localhost:8080/"
        },
        "id": "M-MbIXG8dxa4",
        "outputId": "1303def5-6d9a-4faf-a526-60d97d370593"
      },
      "execution_count": null,
      "outputs": [
        {
          "output_type": "execute_result",
          "data": {
            "text/plain": [
              "array([[25,  5,  3],\n",
              "       [ 2, 26,  7]])"
            ]
          },
          "metadata": {},
          "execution_count": 117
        }
      ]
    },
    {
      "cell_type": "code",
      "source": [
        "X_pt.T #PyTorch"
      ],
      "metadata": {
        "colab": {
          "base_uri": "https://localhost:8080/"
        },
        "id": "rVr64L1bd_7O",
        "outputId": "2b9b43ea-069e-4a9c-c90a-6c9d48c079d0"
      },
      "execution_count": null,
      "outputs": [
        {
          "output_type": "execute_result",
          "data": {
            "text/plain": [
              "tensor([[25,  5,  3],\n",
              "        [ 2, 26,  7]])"
            ]
          },
          "metadata": {},
          "execution_count": 119
        }
      ]
    },
    {
      "cell_type": "markdown",
      "source": [
        "##Basic Arithmetical Properties"
      ],
      "metadata": {
        "id": "dgdDMb5mehiJ"
      }
    },
    {
      "cell_type": "code",
      "source": [],
      "metadata": {
        "id": "LyHNO8c3eYcL"
      },
      "execution_count": null,
      "outputs": []
    },
    {
      "cell_type": "code",
      "source": [],
      "metadata": {
        "id": "qQsPoIK2ekq_"
      },
      "execution_count": null,
      "outputs": []
    }
  ]
}