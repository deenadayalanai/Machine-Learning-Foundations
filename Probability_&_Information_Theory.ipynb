{
  "nbformat": 4,
  "nbformat_minor": 0,
  "metadata": {
    "colab": {
      "provenance": [],
      "collapsed_sections": [
        "j4G2fA0iRTfC",
        "mc2kNGi-5341",
        "fqwn6JC-84rE"
      ],
      "authorship_tag": "ABX9TyMQl5UJ69Wne7EDYDV4dJgn",
      "include_colab_link": true
    },
    "kernelspec": {
      "name": "python3",
      "display_name": "Python 3"
    },
    "language_info": {
      "name": "python"
    }
  },
  "cells": [
    {
      "cell_type": "markdown",
      "metadata": {
        "id": "view-in-github",
        "colab_type": "text"
      },
      "source": [
        "<a href=\"https://colab.research.google.com/github/deenadayalanai/Maths-for-ML/blob/main/Probability_%26_Information_Theory.ipynb\" target=\"_parent\"><img src=\"https://colab.research.google.com/assets/colab-badge.svg\" alt=\"Open In Colab\"/></a>"
      ]
    },
    {
      "cell_type": "code",
      "source": [
        "import numpy as np\n",
        "import scipy.stats as st\n",
        "import matplotlib.pyplot as plt\n",
        "import seaborn as sns"
      ],
      "metadata": {
        "id": "hBAu1azUf57D"
      },
      "execution_count": 4,
      "outputs": []
    },
    {
      "cell_type": "markdown",
      "source": [
        "#Segment 1: Introduction to Probability"
      ],
      "metadata": {
        "id": "iOuZ-Vofcst5"
      }
    },
    {
      "cell_type": "markdown",
      "source": [
        "##What Probability Theory Is"
      ],
      "metadata": {
        "id": "H1Zzscqif54j"
      }
    },
    {
      "cell_type": "markdown",
      "source": [
        "###Events and Sample Spaces"
      ],
      "metadata": {
        "id": "Raxa3oi7f517"
      }
    },
    {
      "cell_type": "markdown",
      "source": [
        "Let's assume we have a fair coin, which is equally likely to come up heads (H) or tails (T)."
      ],
      "metadata": {
        "id": "rpDv-62sf5zP"
      }
    },
    {
      "cell_type": "markdown",
      "source": [
        "In instances like this, where the two outcomes are equally likely, we can use probability theory to express the likelihood of a particular **event** by comparing it with the **sample space** (the set of all possible outcomes; can be denoted as $\\Omega$):"
      ],
      "metadata": {
        "id": "eBZrWNO4f5wd"
      }
    },
    {
      "cell_type": "markdown",
      "source": [
        "$$ P(\\text{event}) = \\frac{\\text{# of outcomes of event}}{\\text{# of outcomes in }\\Omega} $$"
      ],
      "metadata": {
        "id": "I-HuL1b8f5tm"
      }
    },
    {
      "cell_type": "markdown",
      "source": [
        "If we're only flipping the coin once, then there are only two possible outcomes in the sample space $\\Omega$: it will either be H or T (using set notation, we could write this as $\\Omega$ = {H, T})."
      ],
      "metadata": {
        "id": "OOSkRs7qf5qr"
      }
    },
    {
      "cell_type": "markdown",
      "source": [
        "Therefore: $$ P(H) = \\frac{1}{2} = 0.5 $$"
      ],
      "metadata": {
        "id": "1xPIIIwcf5n7"
      }
    },
    {
      "cell_type": "markdown",
      "source": [
        "Equally: $$ P(T) = \\frac{1}{2} = 0.5 $$"
      ],
      "metadata": {
        "id": "Ttd4n3c5f5lD"
      }
    },
    {
      "cell_type": "markdown",
      "source": [
        "As a separate example, consider drawing a single card from a standard deck of 52 playing cards. In this case, the number of possible outcomes in the sample space $\\Omega$ is 52."
      ],
      "metadata": {
        "id": "L_UDvMRKf5iT"
      }
    },
    {
      "cell_type": "markdown",
      "source": [
        "There is only one ace of spades in the deck, so the probability of drawing it is: $$ P(\\text{ace of spades}) = \\frac{1}{52} \\approx 0.019 $$"
      ],
      "metadata": {
        "id": "Z8qpOAHtf5fk"
      }
    },
    {
      "cell_type": "markdown",
      "source": [
        "In contrast there are four aces, so the probability of drawing an ace is: $$ P(\\text{ace}) = \\frac{4}{52} \\approx 0.077 $$"
      ],
      "metadata": {
        "id": "_6XBBCydf5cs"
      }
    },
    {
      "cell_type": "markdown",
      "source": [
        "Some additional examples:\n",
        "$$ P(\\text{spade}) = \\frac{13}{52} = 0.25 $$\n",
        "$$ P(\\text{ace OR spade}) = \\frac{16}{52} \\approx 0.307 $$\n",
        "$$ P(\\text{card}) = \\frac{52}{52} = 1 $$\n",
        "$$ P(\\text{turnip}) = \\frac{0}{52} = 0 $$"
      ],
      "metadata": {
        "id": "kQ8UO_N6f5Zz"
      }
    },
    {
      "cell_type": "markdown",
      "source": [
        "###Multiple Independent Observations"
      ],
      "metadata": {
        "id": "bm6bSj_3f5W7"
      }
    },
    {
      "cell_type": "markdown",
      "source": [
        "Let's return to coin flipping to illustrate situations where we have an event consisting of multiple independent observations. For example, the probability of throwing two consecutive heads is: $$ P(\\text{HH}) = \\frac{1}{4} = 0.25 $$ ...because there is one HH event in the sample set of four possible events ($\\Omega$ = {HH, HT, TH, TT})."
      ],
      "metadata": {
        "id": "3ryxG2bef5UK"
      }
    },
    {
      "cell_type": "markdown",
      "source": [
        "Likewise, the probability of throwing *three* consecutive heads is: $$ P(\\text{HHH}) = \\frac{1}{8} = 0.125 $$ ...because there is one HHH event in the sample set of eight possible events ($\\Omega$ = {HHH, HHT, HTH, THH, HTT, THT, TTH, TTT})."
      ],
      "metadata": {
        "id": "NEf4ZpgIf5Rj"
      }
    },
    {
      "cell_type": "markdown",
      "source": [
        "As final examples, the probability of throwing exactly two heads in three tosses is $ P = \\frac{3}{8} = 0.375 $ while the probability of throwing at least two heads in three tosses is $ P = \\frac{4}{8} = 0.5 $."
      ],
      "metadata": {
        "id": "l1bWka0a3_Cw"
      }
    },
    {
      "cell_type": "markdown",
      "source": [
        "###Combining Probabilities"
      ],
      "metadata": {
        "id": "3PMqPvRm3_AP"
      }
    },
    {
      "cell_type": "markdown",
      "source": [
        "In order to combine probabilities, we can multiply them. So the probability of throwing five consecutive heads, for example, is the product of probabilities we've already calculated: $$ P(\\text{HHHHH}) = P(\\text{HH}) \\times P(\\text{HHH}) = \\frac{1}{4} \\times \\frac{1}{8} = \\frac{1}{32} \\approx 0.031 $$"
      ],
      "metadata": {
        "id": "FH9xojEL3-9w"
      }
    },
    {
      "cell_type": "markdown",
      "source": [
        "###Combinatorics"
      ],
      "metadata": {
        "id": "psBdtST13-63"
      }
    },
    {
      "cell_type": "markdown",
      "source": [
        "*Combinatorics* is a field of mathematics devoted to counting that can be helpful to studying probabilities. We can use **factorials** (e.g., $4! = 4 \\times 3 \\times 2 \\times 1 = 24$), which feature prominently in combinatorics, to calculate probabilities instead of painstakingly determining all of the members of the sample space $\\Omega$ and counting subsets within $\\Omega$."
      ],
      "metadata": {
        "id": "UnpqVbYX3-4A"
      }
    },
    {
      "cell_type": "markdown",
      "source": [
        "More specifically, we can calculate the number of outcomes of an event using the \"number of combinations\" equation: $$ {n \\choose k} = \\frac{n!}{k!(n - k)!} $$"
      ],
      "metadata": {
        "id": "LHhM8AuG3-1J"
      }
    },
    {
      "cell_type": "markdown",
      "source": [
        "The left-hand side of the equation is read \"$n$ choose $k$\" and is most quickly understood via an example: If we have three coin flips, $n = 3$, and if we're interested in the number of ways to get two head flips (or two tail flips, for that matter), $k = 2$. We would read this as \"3 choose 2\" and calculate it as:\n",
        "$$ {n \\choose k} = {3 \\choose 2} = \\frac{3!}{2!(3 - 2)!} = \\frac{3!}{(2!)(1!)} = \\frac{3 \\times 2 \\times 1}{(2 \\times 1)(1)} = \\frac{6}{(2)(1)} = \\frac{6}{2} = 3 $$"
      ],
      "metadata": {
        "id": "TmT8l_wG3-yR"
      }
    },
    {
      "cell_type": "markdown",
      "source": [
        "This provide us with the numerator for event-probability equation from above: $$ P(\\text{event}) = \\frac{\\text{# of outcomes of event}}{\\text{# of outcomes in }\\Omega} $$"
      ],
      "metadata": {
        "id": "vy06_ynt3-vP"
      }
    },
    {
      "cell_type": "markdown",
      "source": [
        "In the case of coin-flipping (or any binary process with equally probable outcomes), the denominator can be calculated with $2^n$ (where $n$ is again the number of coin flips), so: $$ \\frac{\\text{# of outcomes of event}}{\\text{# of outcomes in }\\Omega} = \\frac{3}{2^n} = \\frac{3}{2^3} = \\frac{3}{8} = 0.375 $$"
      ],
      "metadata": {
        "id": "hExbfPvL3-sZ"
      }
    },
    {
      "cell_type": "markdown",
      "source": [
        "**Exercises**:\n",
        "\n",
        "1. What is the probability of drawing the ace of spades twice in a row? (Assume that any card drawn on the first draw will be put back in the deck before the second draw.)\n",
        "2. You draw a card from a deck of cards. After replacing the drawn card back in the deck and shuffling thoroughly, what is the probability of drawing the same card again?\n",
        "3. Use $n \\choose k$ to calculate the probability of throwing three heads in five coin tosses.\n",
        "4. Create a Python method that solves exercise 3 and incorporates the $n \\choose k$ formula $\\frac{n!}{k!(n - k)!}$. With the method in hand, calculate the probability of -- in five tosses -- throwing each of zero, one, two, three, four, and five heads."
      ],
      "metadata": {
        "id": "TLglRTwL3-pY"
      }
    },
    {
      "cell_type": "markdown",
      "source": [
        "**Solutions**:"
      ],
      "metadata": {
        "id": "jWNnEzg33-mo"
      }
    },
    {
      "cell_type": "markdown",
      "source": [
        "1. $$ P(\\text{ace of spades}) \\times P(\\text{ace of spades}) = \\left(\\frac{1}{52}\\right)^2 = \\frac{1}{2704} = 0.00037 = 0.037\\% $$"
      ],
      "metadata": {
        "id": "-K9MXPyP3-kA"
      }
    },
    {
      "cell_type": "markdown",
      "source": [
        "2. $$ P(\\text{any card}) = \\frac{52}{52} = 1 $$\n",
        "$$ P(\\text{same card as first draw}) = \\frac{1}{52} \\approx 0.019 $$\n",
        "$$ P(\\text{any card})P(\\text{same card as first draw}) = (1)(\\frac{1}{52}) = \\frac{1}{52} \\approx 0.019$$"
      ],
      "metadata": {
        "id": "JlSTu_2I3-g3"
      }
    },
    {
      "cell_type": "markdown",
      "source": [
        "3. $$ {n \\choose k} = {5 \\choose 3} = \\frac{5!}{3!(5 - 3)!} = \\frac{5!}{(3!)(2!)} = \\frac{5 \\times 4 \\times 3 \\times 2 \\times 1}{(3 \\times 2 \\times 1)(2 \\times 1)} = \\frac{120}{(6)(2)} = \\frac{120}{12} = 10 $$"
      ],
      "metadata": {
        "id": "wIX7eNSt3-dn"
      }
    },
    {
      "cell_type": "markdown",
      "source": [
        "$$P = \\frac{10}{2^n} = \\frac{10}{2^5} = \\frac{10}{32} = 0.3125 $$"
      ],
      "metadata": {
        "id": "E3h1AG1r3-a5"
      }
    },
    {
      "cell_type": "code",
      "source": [
        "from math import factorial"
      ],
      "metadata": {
        "id": "i2M8vA_-3-YI"
      },
      "execution_count": 5,
      "outputs": []
    },
    {
      "cell_type": "code",
      "source": [
        "def coinflip_prob(n, k):\n",
        "    n_choose_k = factorial(n)/(factorial(k)*factorial(n-k))\n",
        "    return n_choose_k/2**n"
      ],
      "metadata": {
        "id": "-0FOy6_t3-VQ"
      },
      "execution_count": 6,
      "outputs": []
    },
    {
      "cell_type": "code",
      "source": [
        "coinflip_prob(5, 3)"
      ],
      "metadata": {
        "colab": {
          "base_uri": "https://localhost:8080/"
        },
        "id": "epqQAegj3-SQ",
        "outputId": "2c3df77b-14b8-4cce-8bfa-ec574ddbaf6d"
      },
      "execution_count": 7,
      "outputs": [
        {
          "output_type": "execute_result",
          "data": {
            "text/plain": [
              "0.3125"
            ]
          },
          "metadata": {},
          "execution_count": 7
        }
      ]
    },
    {
      "cell_type": "code",
      "source": [
        "[coinflip_prob(5, h) for h in range(6)]"
      ],
      "metadata": {
        "colab": {
          "base_uri": "https://localhost:8080/"
        },
        "id": "tLwJLGCl4pHv",
        "outputId": "f6f61b22-def2-435b-a58e-3a5e6d2dc967"
      },
      "execution_count": 8,
      "outputs": [
        {
          "output_type": "execute_result",
          "data": {
            "text/plain": [
              "[0.03125, 0.15625, 0.3125, 0.3125, 0.15625, 0.03125]"
            ]
          },
          "metadata": {},
          "execution_count": 8
        }
      ]
    },
    {
      "cell_type": "markdown",
      "source": [
        "###The Law of Large Numbers"
      ],
      "metadata": {
        "id": "LP8nDQLD4pFH"
      }
    },
    {
      "cell_type": "markdown",
      "source": [
        "While a fair coin should land heads up 50% of the time, as we've seen above, with small sample sizes, there is a non-trivial possibility that in a given experiment we could flip heads on all of the tosses. For example, we've calculated that there's a 3.1% chance that we'll get heads on every toss in a small five-toss experiment."
      ],
      "metadata": {
        "id": "Olavz8Le4pB_"
      }
    },
    {
      "cell_type": "markdown",
      "source": [
        "The **law of large numbers** states that the more experiments we run, the closer we will tend to get to the expected probability."
      ],
      "metadata": {
        "id": "ANWhbIK54o_J"
      }
    },
    {
      "cell_type": "markdown",
      "source": [
        "Let's run some code to examine this in practice. To start, we'll create a vector of exponentially increasing $n$umbers of coin tosses per experiment:"
      ],
      "metadata": {
        "id": "a_dvUOn64o8I"
      }
    },
    {
      "cell_type": "code",
      "source": [
        "ns = np.array([2, 4, 8, 16, 32, 64, 128, 256, 512, 1024, 2048, 4096])"
      ],
      "metadata": {
        "id": "JQcJEUO34o2H"
      },
      "execution_count": 9,
      "outputs": []
    },
    {
      "cell_type": "code",
      "source": [
        "np.random.seed(42) # for reproducibility"
      ],
      "metadata": {
        "id": "w1Hzb9YI4ozf"
      },
      "execution_count": 10,
      "outputs": []
    },
    {
      "cell_type": "code",
      "source": [
        "np.random.binomial(1, 0.5)"
      ],
      "metadata": {
        "colab": {
          "base_uri": "https://localhost:8080/"
        },
        "id": "Qy1s67Su4os_",
        "outputId": "5cdc2d76-5ac9-47f6-cf6e-4f9a0e7e5493"
      },
      "execution_count": 11,
      "outputs": [
        {
          "output_type": "execute_result",
          "data": {
            "text/plain": [
              "0"
            ]
          },
          "metadata": {},
          "execution_count": 11
        }
      ]
    },
    {
      "cell_type": "code",
      "source": [
        "heads_count = [np.random.binomial(n, 0.5) for n in ns]\n",
        "heads_count"
      ],
      "metadata": {
        "colab": {
          "base_uri": "https://localhost:8080/"
        },
        "id": "mtkSKnVK4opv",
        "outputId": "0a32f621-044f-461f-e858-f394eb96b71a"
      },
      "execution_count": 12,
      "outputs": [
        {
          "output_type": "execute_result",
          "data": {
            "text/plain": [
              "[2, 3, 4, 6, 13, 27, 54, 136, 258, 509, 1038, 2094]"
            ]
          },
          "metadata": {},
          "execution_count": 12
        }
      ]
    },
    {
      "cell_type": "code",
      "source": [
        "proportion_heads = heads_count/ns\n",
        "proportion_heads"
      ],
      "metadata": {
        "colab": {
          "base_uri": "https://localhost:8080/"
        },
        "id": "HWoQiKuE50V6",
        "outputId": "aa13e081-9dc5-43fa-a62f-8f7982556c14"
      },
      "execution_count": 13,
      "outputs": [
        {
          "output_type": "execute_result",
          "data": {
            "text/plain": [
              "array([1.        , 0.75      , 0.5       , 0.375     , 0.40625   ,\n",
              "       0.421875  , 0.421875  , 0.53125   , 0.50390625, 0.49707031,\n",
              "       0.50683594, 0.51123047])"
            ]
          },
          "metadata": {},
          "execution_count": 13
        }
      ]
    },
    {
      "cell_type": "code",
      "source": [
        "fig, ax = plt.subplots()\n",
        "plt.xlabel('Number of coin flips in experiment')\n",
        "plt.ylabel('Proportion of flips that are heads')\n",
        "plt.axhline(0.5, color='orange')\n",
        "_ = ax.scatter(ns, proportion_heads)"
      ],
      "metadata": {
        "colab": {
          "base_uri": "https://localhost:8080/",
          "height": 449
        },
        "id": "5bs-sj1X50S5",
        "outputId": "68c56d71-42f2-4b08-d771-3a5ae0111766"
      },
      "execution_count": 14,
      "outputs": [
        {
          "output_type": "display_data",
          "data": {
            "text/plain": [
              "<Figure size 640x480 with 1 Axes>"
            ],
            "image/png": "[encoded data removed]"
          },
          "metadata": {}
        }
      ]
    },
    {
      "cell_type": "markdown",
      "source": [
        "It is important at this juncture to address the **gambler's fallacy**. It is a common misconception that the law of large numbers dictates that if, say, five heads have been flipped in a row, then the probability of tails is higher on the sixth flip. In fact, probability theory holds that each coin flip is completely independent of all others. Thus, every single flip of a fair coin has a 50% chance of being heads, no matter what happened on preceding flips."
      ],
      "metadata": {
        "id": "qW4-tsbS50P4"
      }
    },
    {
      "cell_type": "markdown",
      "source": [
        "(To capitalize on this misunderstanding, roulette tables at casinos often have prominent displays tracking the history of red versus black even though there's a 47.4% chance of each on every spin of the roulette wheel no matter what happened on preceding spins. Gamblers will note, say, five reds in a row at a given table and flock to it to bet on black.)"
      ],
      "metadata": {
        "id": "mAWMS7PX50M4"
      }
    },
    {
      "cell_type": "markdown",
      "source": [
        "###Statistics"
      ],
      "metadata": {
        "id": "X8DJJta950KI"
      }
    },
    {
      "cell_type": "markdown",
      "source": [
        "The field of statistics applies probability theory to make inferences with a quantifiable degree of confidence. For example, let's say we ran the five-coin-flip experiment 1000 times with a fair coin:"
      ],
      "metadata": {
        "id": "uEQER_0R50HI"
      }
    },
    {
      "cell_type": "code",
      "source": [
        "n_experiments = 1000\n",
        "heads_count = np.random.binomial(5, 0.5, n_experiments)"
      ],
      "metadata": {
        "id": "usr19bLj50EQ"
      },
      "execution_count": 15,
      "outputs": []
    },
    {
      "cell_type": "markdown",
      "source": [
        "We can plot the results of our experiment to create a **probability distribution**:"
      ],
      "metadata": {
        "id": "Tdtbvb2F50BY"
      }
    },
    {
      "cell_type": "code",
      "source": [
        "heads, event_count = np.unique(heads_count, return_counts=True)"
      ],
      "metadata": {
        "id": "IzYfKWYk5z-g"
      },
      "execution_count": 16,
      "outputs": []
    },
    {
      "cell_type": "code",
      "source": [
        "heads"
      ],
      "metadata": {
        "colab": {
          "base_uri": "https://localhost:8080/"
        },
        "id": "0wIYqWtt5z7g",
        "outputId": "2208bebb-02b5-498f-c2ea-0aab6b45f4b2"
      },
      "execution_count": 17,
      "outputs": [
        {
          "output_type": "execute_result",
          "data": {
            "text/plain": [
              "array([0, 1, 2, 3, 4, 5])"
            ]
          },
          "metadata": {},
          "execution_count": 17
        }
      ]
    },
    {
      "cell_type": "code",
      "source": [
        "event_count"
      ],
      "metadata": {
        "colab": {
          "base_uri": "https://localhost:8080/"
        },
        "id": "-3sfY6PrQeSz",
        "outputId": "139a9e5d-edd5-48fb-cda6-6a1e5b7f7c0a"
      },
      "execution_count": 18,
      "outputs": [
        {
          "output_type": "execute_result",
          "data": {
            "text/plain": [
              "array([ 33, 181, 285, 313, 160,  28])"
            ]
          },
          "metadata": {},
          "execution_count": 18
        }
      ]
    },
    {
      "cell_type": "code",
      "source": [
        "event_prob = event_count/n_experiments\n",
        "event_prob"
      ],
      "metadata": {
        "colab": {
          "base_uri": "https://localhost:8080/"
        },
        "id": "K3X_OQcoQeQb",
        "outputId": "1f0ff37b-d08c-4528-f02b-e2389af819af"
      },
      "execution_count": 19,
      "outputs": [
        {
          "output_type": "execute_result",
          "data": {
            "text/plain": [
              "array([0.033, 0.181, 0.285, 0.313, 0.16 , 0.028])"
            ]
          },
          "metadata": {},
          "execution_count": 19
        }
      ]
    },
    {
      "cell_type": "code",
      "source": [
        "plt.bar(heads, event_prob, color='mediumpurple')\n",
        "plt.xlabel('Heads flips (out of 5 tosses)')\n",
        "_ = plt.ylabel('Event probability')"
      ],
      "metadata": {
        "colab": {
          "base_uri": "https://localhost:8080/",
          "height": 449
        },
        "id": "1bL-0YL_QeNb",
        "outputId": "25d54f7f-fa06-4364-ddc4-a3117394ade6"
      },
      "execution_count": 20,
      "outputs": [
        {
          "output_type": "display_data",
          "data": {
            "text/plain": [
              "<Figure size 640x480 with 1 Axes>"
            ],
            "image/png": "[encoded data removed]"
          },
          "metadata": {}
        }
      ]
    },
    {
      "cell_type": "markdown",
      "source": [
        "Let's say we'd like to now test a coin as to whether it's fair or not. We flip it five times and all five times it comes up heads. Does this imply it's not a fair coin? Statistics arms us with tools to use the probability distribution above to answer this question with a particular degree of confidence."
      ],
      "metadata": {
        "id": "Phw6ICmgQeKz"
      }
    },
    {
      "cell_type": "markdown",
      "source": [
        "###Expected Value"
      ],
      "metadata": {
        "id": "HQK9y9t4RMqa"
      }
    },
    {
      "cell_type": "code",
      "source": [
        "P = [coinflip_prob(5, x) for x in range(6)] # discrete/PMF\n",
        "P"
      ],
      "metadata": {
        "id": "nTUkhLCxRMlB",
        "colab": {
          "base_uri": "https://localhost:8080/"
        },
        "outputId": "ea15927f-b724-4915-a43e-d3b685c1fb76"
      },
      "execution_count": 21,
      "outputs": [
        {
          "output_type": "execute_result",
          "data": {
            "text/plain": [
              "[0.03125, 0.15625, 0.3125, 0.3125, 0.15625, 0.03125]"
            ]
          },
          "metadata": {},
          "execution_count": 21
        }
      ]
    },
    {
      "cell_type": "markdown",
      "source": [
        "$$ \\mathbb{E} = \\sum_x xP(x) $$"
      ],
      "metadata": {
        "id": "hZTv18t7RMiK"
      }
    },
    {
      "cell_type": "code",
      "source": [
        "E = sum([P[x]*x for x in range(6)])\n",
        "E"
      ],
      "metadata": {
        "id": "PW31X2UFRMfJ",
        "colab": {
          "base_uri": "https://localhost:8080/"
        },
        "outputId": "2e0cefd3-a778-4bad-9a9f-0fc4bbf6bd52"
      },
      "execution_count": 22,
      "outputs": [
        {
          "output_type": "execute_result",
          "data": {
            "text/plain": [
              "2.5"
            ]
          },
          "metadata": {},
          "execution_count": 22
        }
      ]
    },
    {
      "cell_type": "markdown",
      "source": [
        "**Exercises**:\n",
        "\n",
        "1. Assuming heads = 1 and tails = 0, what’s the expected value of the toss of a fair coin?\n",
        "2. ...and of two tosses of a fair coin?\n",
        "3. You are one of a thousand people to purchase a lottery ticket. The ticket costs \\$10 and pays out \\$5000. What value should you expect from this transaction?\n"
      ],
      "metadata": {
        "id": "Jpjt86LjRMci"
      }
    },
    {
      "cell_type": "markdown",
      "source": [
        "**Solutions**:\n",
        "\n",
        "1. (½)0 + (½)1 = 0 + ½ = ½\n",
        "2. (¼)0 + (½)1 + (¼)2 = 0 + ½ + ½ = 1\n",
        "\n",
        "3.\n",
        "(1/1000)(\\$5000-\\$10) + (999/1000)(-\\$10) \\\n",
        "= (1/1000)(\\$4990) + (999/1000)(-\\$10) \\\n",
        "= \\$4.99 + (\\$-9.99) \\\n",
        "= -\\$5\n"
      ],
      "metadata": {
        "id": "qnJsB9pvRToJ"
      }
    },
    {
      "cell_type": "markdown",
      "source": [
        "##Measures of Central Tendency"
      ],
      "metadata": {
        "id": "e8AoszzgRTlJ"
      }
    },
    {
      "cell_type": "markdown",
      "source": [
        "Measures of central tendency provide a summary statistic on the center of a given distribution, a.k.a., the \"average\" value of the distribution."
      ],
      "metadata": {
        "id": "_SS9dHrQRTiS"
      }
    },
    {
      "cell_type": "markdown",
      "source": [
        "###Mean"
      ],
      "metadata": {
        "id": "j4G2fA0iRTfC"
      }
    },
    {
      "cell_type": "markdown",
      "source": [
        "The most common measure of central tendency, synonomous with the term \"average\", is the **mean**, often symbolized with $\\mu$ (population) or $\\bar{x}$ (sample):"
      ],
      "metadata": {
        "id": "tvuD53CuRTcB"
      }
    },
    {
      "cell_type": "markdown",
      "source": [
        "$$ \\bar{x} = \\frac{\\sum_{i=1}^n x_i}{n} $$"
      ],
      "metadata": {
        "id": "tfTCpN4FRTY5"
      }
    },
    {
      "cell_type": "markdown",
      "source": [
        "Expected value is in fact the long-term *mean* of some function (i.e., $\\mu = \\mathbb{E}$). Let's calculate how close the sample mean, $\\bar{x}$, of our five-coin-flip experiments comes to the expected value, $\\mathbb{E} = 2.5$."
      ],
      "metadata": {
        "id": "7TWiWUsIRTWZ"
      }
    },
    {
      "cell_type": "markdown",
      "source": [
        "![image.png](data:image/png;base64,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)"
      ],
      "metadata": {
        "id": "w9E8S84sesju"
      }
    },
    {
      "cell_type": "code",
      "source": [
        "len(heads_count)"
      ],
      "metadata": {
        "colab": {
          "base_uri": "https://localhost:8080/"
        },
        "id": "2g_fjv2q1nC0",
        "outputId": "d62c4aec-6191-4bc4-a95f-e0aff19f8452"
      },
      "execution_count": 23,
      "outputs": [
        {
          "output_type": "execute_result",
          "data": {
            "text/plain": [
              "1000"
            ]
          },
          "metadata": {},
          "execution_count": 23
        }
      ]
    },
    {
      "cell_type": "code",
      "source": [
        "heads_count[0:20]"
      ],
      "metadata": {
        "colab": {
          "base_uri": "https://localhost:8080/"
        },
        "id": "k28_Orc61m_0",
        "outputId": "a4607d16-2a5c-422e-e44e-5dcab81196d6"
      },
      "execution_count": 24,
      "outputs": [
        {
          "output_type": "execute_result",
          "data": {
            "text/plain": [
              "array([2, 2, 2, 3, 2, 3, 3, 1, 3, 1, 1, 4, 4, 3, 2, 1, 3, 2, 1, 2])"
            ]
          },
          "metadata": {},
          "execution_count": 24
        }
      ]
    },
    {
      "cell_type": "code",
      "source": [
        "sum(heads_count)/len(heads_count)"
      ],
      "metadata": {
        "colab": {
          "base_uri": "https://localhost:8080/"
        },
        "id": "AG9eTBD41m87",
        "outputId": "624e9445-3c7b-47a9-cea3-19460346fb93"
      },
      "execution_count": 25,
      "outputs": [
        {
          "output_type": "execute_result",
          "data": {
            "text/plain": [
              "2.47"
            ]
          },
          "metadata": {},
          "execution_count": 25
        }
      ]
    },
    {
      "cell_type": "markdown",
      "source": [
        "NumPy comes with a built-in function\n"
      ],
      "metadata": {
        "id": "9uBpwlqZ1m6E"
      }
    },
    {
      "cell_type": "code",
      "source": [
        "np.mean(heads_count)"
      ],
      "metadata": {
        "colab": {
          "base_uri": "https://localhost:8080/"
        },
        "id": "OopsEQaF1m3E",
        "outputId": "b835fdcd-2480-45ca-e8d9-91169b3727f2"
      },
      "execution_count": 26,
      "outputs": [
        {
          "output_type": "execute_result",
          "data": {
            "text/plain": [
              "2.47"
            ]
          },
          "metadata": {},
          "execution_count": 26
        }
      ]
    },
    {
      "cell_type": "code",
      "source": [
        "heads_count.mean()"
      ],
      "metadata": {
        "colab": {
          "base_uri": "https://localhost:8080/"
        },
        "id": "-k98C5EY1mzt",
        "outputId": "c51076e5-81bb-4ac3-9756-ecc0c964378d"
      },
      "execution_count": 27,
      "outputs": [
        {
          "output_type": "execute_result",
          "data": {
            "text/plain": [
              "2.47"
            ]
          },
          "metadata": {},
          "execution_count": 27
        }
      ]
    },
    {
      "cell_type": "markdown",
      "source": [
        "Pretty close! The law of large numbers implies that as we increase the number of experiments (e.g., to a million -- you're welcome to try it), we'll converge on $\\mathbb{E}=2.5$."
      ],
      "metadata": {
        "id": "ycAFFwlD53-F"
      }
    },
    {
      "cell_type": "markdown",
      "source": [
        "###Median"
      ],
      "metadata": {
        "id": "mc2kNGi-5341"
      }
    },
    {
      "cell_type": "markdown",
      "source": [
        "The second most common measure of central tendency is the **median**, the midpoint value in the distribution:"
      ],
      "metadata": {
        "id": "bjCAeu_0532F"
      }
    },
    {
      "cell_type": "code",
      "source": [
        "heads_count.sort()"
      ],
      "metadata": {
        "id": "_i_G4txv53w9"
      },
      "execution_count": 28,
      "outputs": []
    },
    {
      "cell_type": "code",
      "source": [
        "heads_count[0:20]"
      ],
      "metadata": {
        "colab": {
          "base_uri": "https://localhost:8080/"
        },
        "id": "cdRJui1253uc",
        "outputId": "e1b7594e-71d9-44b3-df01-c0dc51dbf698"
      },
      "execution_count": 29,
      "outputs": [
        {
          "output_type": "execute_result",
          "data": {
            "text/plain": [
              "array([0, 0, 0, 0, 0, 0, 0, 0, 0, 0, 0, 0, 0, 0, 0, 0, 0, 0, 0, 0])"
            ]
          },
          "metadata": {},
          "execution_count": 29
        }
      ]
    },
    {
      "cell_type": "code",
      "source": [
        "heads_count[-20:]"
      ],
      "metadata": {
        "colab": {
          "base_uri": "https://localhost:8080/"
        },
        "id": "TtezbJrk53r9",
        "outputId": "f167ac52-06bf-43a1-efea-20fd11a4d3ff"
      },
      "execution_count": 30,
      "outputs": [
        {
          "output_type": "execute_result",
          "data": {
            "text/plain": [
              "array([5, 5, 5, 5, 5, 5, 5, 5, 5, 5, 5, 5, 5, 5, 5, 5, 5, 5, 5, 5])"
            ]
          },
          "metadata": {},
          "execution_count": 30
        }
      ]
    },
    {
      "cell_type": "code",
      "source": [
        "len(heads_count)"
      ],
      "metadata": {
        "colab": {
          "base_uri": "https://localhost:8080/"
        },
        "id": "IPLicVcO53pN",
        "outputId": "51f7cc1a-893c-413b-e794-69437cbd62e6"
      },
      "execution_count": 31,
      "outputs": [
        {
          "output_type": "execute_result",
          "data": {
            "text/plain": [
              "1000"
            ]
          },
          "metadata": {},
          "execution_count": 31
        }
      ]
    },
    {
      "cell_type": "markdown",
      "source": [
        "With an odd number of values in a distribution, we consider the single midpoint to be the median, e.g., the midpoint of the sorted array `[2, 4, 6, 9, 10]` is six.\n",
        "\n",
        "With an even number, we take the mean of the two values that straddle the midpoint:"
      ],
      "metadata": {
        "id": "3loCejUs53mk"
      }
    },
    {
      "cell_type": "code",
      "source": [
        "heads_count[499]"
      ],
      "metadata": {
        "colab": {
          "base_uri": "https://localhost:8080/"
        },
        "id": "4jNSfLJp8QuN",
        "outputId": "4573318d-2c6b-493d-c906-648b2b3c87a4"
      },
      "execution_count": 32,
      "outputs": [
        {
          "output_type": "execute_result",
          "data": {
            "text/plain": [
              "3"
            ]
          },
          "metadata": {},
          "execution_count": 32
        }
      ]
    },
    {
      "cell_type": "code",
      "source": [
        "heads_count[500]"
      ],
      "metadata": {
        "colab": {
          "base_uri": "https://localhost:8080/"
        },
        "id": "et8C1AgL8Qr1",
        "outputId": "a0fb0b62-bfd7-4f83-e140-ac2df752ba48"
      },
      "execution_count": 33,
      "outputs": [
        {
          "output_type": "execute_result",
          "data": {
            "text/plain": [
              "3"
            ]
          },
          "metadata": {},
          "execution_count": 33
        }
      ]
    },
    {
      "cell_type": "markdown",
      "source": [
        "...which in this case is obviously three:"
      ],
      "metadata": {
        "id": "j3klujkN8QpN"
      }
    },
    {
      "cell_type": "code",
      "source": [
        "(3+3)/2"
      ],
      "metadata": {
        "colab": {
          "base_uri": "https://localhost:8080/"
        },
        "id": "BTOEh63C8QmR",
        "outputId": "f3cce016-d547-453d-a5fd-10ae9a224a5f"
      },
      "execution_count": 34,
      "outputs": [
        {
          "output_type": "execute_result",
          "data": {
            "text/plain": [
              "3.0"
            ]
          },
          "metadata": {},
          "execution_count": 34
        }
      ]
    },
    {
      "cell_type": "code",
      "source": [
        "np.median(heads_count)  #built-in method"
      ],
      "metadata": {
        "colab": {
          "base_uri": "https://localhost:8080/"
        },
        "id": "e_fBA_b78kfc",
        "outputId": "e50549eb-9f76-4949-c8b9-5fb19e6b9446"
      },
      "execution_count": 35,
      "outputs": [
        {
          "output_type": "execute_result",
          "data": {
            "text/plain": [
              "3.0"
            ]
          },
          "metadata": {},
          "execution_count": 35
        }
      ]
    },
    {
      "cell_type": "markdown",
      "source": [
        "###Mode"
      ],
      "metadata": {
        "id": "fqwn6JC-84rE"
      }
    },
    {
      "cell_type": "markdown",
      "source": [
        "The **mode** is the final common measure of central tendency. It is simply the value in the distribution that occurs most frequently.\n",
        "\n",
        "As is clear in the most recently output chart, in the case of our five-coin-toss experiment, the mode is three."
      ],
      "metadata": {
        "id": "z87F6_f98-Qe"
      }
    },
    {
      "cell_type": "markdown",
      "source": [
        "Method available in the SciPy `stats` module:"
      ],
      "metadata": {
        "id": "GIHGH0Uk8-N9"
      }
    },
    {
      "cell_type": "code",
      "source": [
        "st.mode(heads_count)"
      ],
      "metadata": {
        "colab": {
          "base_uri": "https://localhost:8080/"
        },
        "id": "43DClwNO8-Ld",
        "outputId": "4a497652-5ad6-4b71-a7a4-e1697c8679d0"
      },
      "execution_count": 36,
      "outputs": [
        {
          "output_type": "execute_result",
          "data": {
            "text/plain": [
              "ModeResult(mode=3, count=313)"
            ]
          },
          "metadata": {},
          "execution_count": 36
        }
      ]
    },
    {
      "cell_type": "code",
      "source": [
        "st.mode(heads_count)[0]"
      ],
      "metadata": {
        "colab": {
          "base_uri": "https://localhost:8080/"
        },
        "id": "yYzdkGUs8-I1",
        "outputId": "a7bf4895-c2ea-4095-8c05-926bea90a2e3"
      },
      "execution_count": 37,
      "outputs": [
        {
          "output_type": "execute_result",
          "data": {
            "text/plain": [
              "3"
            ]
          },
          "metadata": {},
          "execution_count": 37
        }
      ]
    },
    {
      "cell_type": "markdown",
      "source": [
        "With small sample sizes, the mean typically provides the most accurate measure of central tendency.\n",
        "\n",
        "With larger sample sizes, the mean, median, and mode will tend to coincide, as long as the distribution isn't skewed:"
      ],
      "metadata": {
        "id": "jjG6i77x8-GV"
      }
    },
    {
      "cell_type": "code",
      "source": [
        "x = st.skewnorm.rvs(0, size=1000) # first argument is \"skewness\"; 0 has no skew"
      ],
      "metadata": {
        "id": "vhzja48L8-Dl"
      },
      "execution_count": 38,
      "outputs": []
    },
    {
      "cell_type": "code",
      "source": [
        "fig, ax = plt.subplots()\n",
        "plt.axvline(x = np.mean(x), color='orange')\n",
        "plt.axvline(x = np.median(x), color='green')\n",
        "_ = plt.hist(x, color = 'lightgray')\n",
        "# Note: Mode typically only applies to PMFs; this is a PDF"
      ],
      "metadata": {
        "colab": {
          "base_uri": "https://localhost:8080/",
          "height": 0
        },
        "id": "T0iOHxTn8-Al",
        "outputId": "9f76b09d-dad4-4eeb-aff7-814d57086621"
      },
      "execution_count": 39,
      "outputs": [
        {
          "output_type": "display_data",
          "data": {
            "text/plain": [
              "<Figure size 640x480 with 1 Axes>"
            ],
            "image/png": "[encoded data removed]"
          },
          "metadata": {}
        }
      ]
    },
    {
      "cell_type": "markdown",
      "source": [
        "Skewed distributions, in contrast, drag the mean away from the center and toward the tail:"
      ],
      "metadata": {
        "id": "38YEclap-7DV"
      }
    },
    {
      "cell_type": "code",
      "source": [
        "x = st.skewnorm.rvs(10, size=1000)"
      ],
      "metadata": {
        "id": "AilQun6Z-7Am"
      },
      "execution_count": 40,
      "outputs": []
    },
    {
      "cell_type": "code",
      "source": [
        "fig, ax = plt.subplots()\n",
        "plt.axvline(x = np.mean(x), color='orange')\n",
        "_ = plt.hist(x, color = 'lightgray')"
      ],
      "metadata": {
        "colab": {
          "base_uri": "https://localhost:8080/",
          "height": 0
        },
        "id": "Ht4xsh92-691",
        "outputId": "dfe239c8-9104-439b-cc7f-c0eb7c9c9f78"
      },
      "execution_count": 41,
      "outputs": [
        {
          "output_type": "display_data",
          "data": {
            "text/plain": [
              "<Figure size 640x480 with 1 Axes>"
            ],
            "image/png": "[encoded data removed]"
          },
          "metadata": {}
        }
      ]
    },
    {
      "cell_type": "markdown",
      "source": [
        "The mode is least impacted by skew, but is only applicable to discrete distributions. For continuous distributions with skew (e.g., salary data), median is typically the choice measure of central tendency:"
      ],
      "metadata": {
        "id": "0d6U-J2K-67A"
      }
    },
    {
      "cell_type": "code",
      "source": [
        "fig, ax = plt.subplots()\n",
        "plt.axvline(x = np.mean(x), color='orange')\n",
        "plt.axvline(x = np.median(x), color='green')\n",
        "_ = plt.hist(x, color = 'lightgray')"
      ],
      "metadata": {
        "colab": {
          "base_uri": "https://localhost:8080/",
          "height": 0
        },
        "id": "i-IRzSUn-64N",
        "outputId": "42931fcd-dd94-486f-a7eb-fc7d98d56a2d"
      },
      "execution_count": 42,
      "outputs": [
        {
          "output_type": "display_data",
          "data": {
            "text/plain": [
              "<Figure size 640x480 with 1 Axes>"
            ],
            "image/png": "[encoded data removed]"
          },
          "metadata": {}
        }
      ]
    },
    {
      "cell_type": "markdown",
      "source": [
        "## Quantiles"
      ],
      "metadata": {
        "id": "eTUrmW0v-61V"
      }
    },
    {
      "cell_type": "markdown",
      "source": [
        "The median, which divides a distribution in two at its midpoint, is the most well-known example of a quantile:"
      ],
      "metadata": {
        "id": "aKixfpEn-6ym"
      }
    },
    {
      "cell_type": "code",
      "source": [
        "np.median(x)"
      ],
      "metadata": {
        "colab": {
          "base_uri": "https://localhost:8080/"
        },
        "id": "2Ctvv0vA-6vl",
        "outputId": "5db5e334-dcca-4a0a-de8d-12446531ce78"
      },
      "execution_count": 43,
      "outputs": [
        {
          "output_type": "execute_result",
          "data": {
            "text/plain": [
              "0.6987365121323832"
            ]
          },
          "metadata": {},
          "execution_count": 43
        }
      ]
    },
    {
      "cell_type": "code",
      "source": [
        "np.quantile(x, 0.5)"
      ],
      "metadata": {
        "colab": {
          "base_uri": "https://localhost:8080/"
        },
        "id": "8EZhv9VeC-fW",
        "outputId": "50128f3a-d400-4eab-e1bb-85357451141b"
      },
      "execution_count": 44,
      "outputs": [
        {
          "output_type": "execute_result",
          "data": {
            "text/plain": [
              "0.6987365121323832"
            ]
          },
          "metadata": {},
          "execution_count": 44
        }
      ]
    },
    {
      "cell_type": "markdown",
      "source": [
        "Generally speaking, quantiles divide up distributions and the most common are:\n",
        "\n",
        "* Percentiles,\n",
        "* Quartiles, and\n",
        "* Deciles."
      ],
      "metadata": {
        "id": "f3WqqsHvC-dH"
      }
    },
    {
      "cell_type": "markdown",
      "source": [
        "**Percentiles** divide the distribution at any point out of one hundred (\"pour cent\" is French for \"out of a hundred\"). For example, if we'd like to identify the threshold for the top 5% of a distribution, we'd cut it at the 95th percentile. Or, for the top 1%, we'd cut at the 99th percentile."
      ],
      "metadata": {
        "id": "h8Pz_0TXC-am"
      }
    },
    {
      "cell_type": "code",
      "source": [
        "p = np.percentile(x, [95, 99])\n",
        "p"
      ],
      "metadata": {
        "colab": {
          "base_uri": "https://localhost:8080/"
        },
        "id": "mtb1x0ogC-YO",
        "outputId": "ae2bb1d6-92e3-4a33-ee69-2da3a0121879"
      },
      "execution_count": 45,
      "outputs": [
        {
          "output_type": "execute_result",
          "data": {
            "text/plain": [
              "array([2.06249928, 2.51830108])"
            ]
          },
          "metadata": {},
          "execution_count": 45
        }
      ]
    },
    {
      "cell_type": "code",
      "source": [
        "fig, ax = plt.subplots()\n",
        "plt.axvline(x = p[0], color='orange')\n",
        "plt.axvline(x = p[1], color='red')\n",
        "_ = plt.hist(x, color = 'lightgray')"
      ],
      "metadata": {
        "colab": {
          "base_uri": "https://localhost:8080/",
          "height": 430
        },
        "id": "tRNcxtB6C-Vt",
        "outputId": "136d0d5f-2e12-453c-9db4-f10727bd00af"
      },
      "execution_count": 46,
      "outputs": [
        {
          "output_type": "display_data",
          "data": {
            "text/plain": [
              "<Figure size 640x480 with 1 Axes>"
            ],
            "image/png": "[encoded data removed]"
          },
          "metadata": {}
        }
      ]
    },
    {
      "cell_type": "markdown",
      "source": [
        "Note that the Numpy `quantile()` method is identical to the `percentile()` method except we pass proportions (ranging from zero to one) into the former and percentages (ranging from zero to 100) into the latter:"
      ],
      "metadata": {
        "id": "7Is4BESwC-TG"
      }
    },
    {
      "cell_type": "code",
      "source": [
        "np.quantile(x, [.95, .99])"
      ],
      "metadata": {
        "colab": {
          "base_uri": "https://localhost:8080/"
        },
        "id": "I9tnCBB-Elhh",
        "outputId": "c3bf80d1-f9f4-4168-da12-a8da44c10689"
      },
      "execution_count": 47,
      "outputs": [
        {
          "output_type": "execute_result",
          "data": {
            "text/plain": [
              "array([2.06249928, 2.51830108])"
            ]
          },
          "metadata": {},
          "execution_count": 47
        }
      ]
    },
    {
      "cell_type": "markdown",
      "source": [
        "**Quartiles**, as their name suggests, are quantiles that divide a distribution into quarters by splitting the distribution at the 25th percentile, the median (a.k.a. the 50th percentile), and the 75th percentile:"
      ],
      "metadata": {
        "id": "0XsOouUiEleO"
      }
    },
    {
      "cell_type": "code",
      "source": [
        "q = np.percentile(x, [25, 50, 75])\n",
        "q"
      ],
      "metadata": {
        "colab": {
          "base_uri": "https://localhost:8080/"
        },
        "id": "mgtpLnsYElbO",
        "outputId": "95e9c5e1-72d5-4761-e00c-8c0f4188437b"
      },
      "execution_count": 48,
      "outputs": [
        {
          "output_type": "execute_result",
          "data": {
            "text/plain": [
              "array([0.32494046, 0.69873651, 1.19431522])"
            ]
          },
          "metadata": {},
          "execution_count": 48
        }
      ]
    },
    {
      "cell_type": "code",
      "source": [
        "fig, ax = plt.subplots()\n",
        "plt.axvline(x = q[0], color='cornflowerblue')\n",
        "plt.axvline(x = q[1], color='green')\n",
        "plt.axvline(x = q[2], color='cornflowerblue')\n",
        "_ = plt.hist(x, color = 'lightgray')"
      ],
      "metadata": {
        "colab": {
          "base_uri": "https://localhost:8080/",
          "height": 430
        },
        "id": "rdPl4YXLElYN",
        "outputId": "01146d33-96f7-4aef-a496-ebf1af735c7f"
      },
      "execution_count": 49,
      "outputs": [
        {
          "output_type": "display_data",
          "data": {
            "text/plain": [
              "<Figure size 640x480 with 1 Axes>"
            ],
            "image/png": "[encoded data removed]"
          },
          "metadata": {}
        }
      ]
    },
    {
      "cell_type": "markdown",
      "source": [
        "Finally, **deciles** (from Latin *decimus*, meaning \"tenth\") divide a distribution into ten evenly-sized segments:"
      ],
      "metadata": {
        "id": "-XxxGjXTElVP"
      }
    },
    {
      "cell_type": "code",
      "source": [
        "\n",
        "[i for i in range(10,100,10)]\n"
      ],
      "metadata": {
        "colab": {
          "base_uri": "https://localhost:8080/"
        },
        "id": "6d7ptitAElRX",
        "outputId": "5f1008c9-5efd-49c3-e525-64eea4e36634"
      },
      "execution_count": 50,
      "outputs": [
        {
          "output_type": "execute_result",
          "data": {
            "text/plain": [
              "[10, 20, 30, 40, 50, 60, 70, 80, 90]"
            ]
          },
          "metadata": {},
          "execution_count": 50
        }
      ]
    },
    {
      "cell_type": "code",
      "source": [
        "d = np.percentile(x,range(10,100,10))"
      ],
      "metadata": {
        "id": "pr5k1_3oFxM1"
      },
      "execution_count": 51,
      "outputs": []
    },
    {
      "cell_type": "code",
      "source": [
        "d\n"
      ],
      "metadata": {
        "colab": {
          "base_uri": "https://localhost:8080/"
        },
        "id": "U9jqMV4UF8WP",
        "outputId": "e9417199-ded0-4e18-8f5b-9db11a7e1edb"
      },
      "execution_count": 52,
      "outputs": [
        {
          "output_type": "execute_result",
          "data": {
            "text/plain": [
              "array([0.11871856, 0.24991108, 0.3992659 , 0.53290322, 0.69873651,\n",
              "       0.86771624, 1.08994827, 1.30781239, 1.75782249])"
            ]
          },
          "metadata": {},
          "execution_count": 52
        }
      ]
    },
    {
      "cell_type": "code",
      "source": [
        "fig, ax = plt.subplots()\n",
        "[plt.axvline(x = d_i, color='cornflowerblue') for d_i in d]\n",
        "_ = plt.hist(x, color = 'lightgray')"
      ],
      "metadata": {
        "colab": {
          "base_uri": "https://localhost:8080/",
          "height": 430
        },
        "id": "v2Zz7BCMF9PR",
        "outputId": "70c6cde1-8897-4644-b466-5ae68d0a707e"
      },
      "execution_count": 53,
      "outputs": [
        {
          "output_type": "display_data",
          "data": {
            "text/plain": [
              "<Figure size 640x480 with 1 Axes>"
            ],
            "image/png": "[encoded data removed]"
          },
          "metadata": {}
        }
      ]
    },
    {
      "cell_type": "markdown",
      "source": [
        "##The Box and Whisker Plot"
      ],
      "metadata": {
        "id": "wq_bIZafHCnW"
      }
    },
    {
      "cell_type": "code",
      "source": [
        "sns.set(style='whitegrid')"
      ],
      "metadata": {
        "id": "PRyRe3UEHCki"
      },
      "execution_count": 54,
      "outputs": []
    },
    {
      "cell_type": "code",
      "source": [
        "_ = sns.boxplot(x=x)"
      ],
      "metadata": {
        "id": "f291JYblHChw",
        "colab": {
          "base_uri": "https://localhost:8080/",
          "height": 434
        },
        "outputId": "e1cfffda-cf1d-400c-a245-7a314b5a08c5"
      },
      "execution_count": 55,
      "outputs": [
        {
          "output_type": "display_data",
          "data": {
            "text/plain": [
              "<Figure size 640x480 with 1 Axes>"
            ],
            "image/png": "[encoded data removed]"
          },
          "metadata": {}
        }
      ]
    },
    {
      "cell_type": "markdown",
      "source": [
        "Box edges and median are determined by quartiles:"
      ],
      "metadata": {
        "id": "wpwIBvnrQAiN"
      }
    },
    {
      "cell_type": "code",
      "source": [
        "q"
      ],
      "metadata": {
        "id": "W5mDUKC8HCew",
        "colab": {
          "base_uri": "https://localhost:8080/"
        },
        "outputId": "58d05529-6cef-4dc1-9fbe-49971aa95939"
      },
      "execution_count": 56,
      "outputs": [
        {
          "output_type": "execute_result",
          "data": {
            "text/plain": [
              "array([0.32494046, 0.69873651, 1.19431522])"
            ]
          },
          "metadata": {},
          "execution_count": 56
        }
      ]
    },
    {
      "cell_type": "markdown",
      "source": [
        "Box edges define the **inter-quartile range** (IQR):"
      ],
      "metadata": {
        "id": "VIcMjuCIHCcG"
      }
    },
    {
      "cell_type": "code",
      "source": [
        "r = 1.194 - 0.325\n",
        "r"
      ],
      "metadata": {
        "id": "i441bHgpHCZW",
        "colab": {
          "base_uri": "https://localhost:8080/"
        },
        "outputId": "2b4bf913-79a8-4447-dafd-bfcfb9293d33"
      },
      "execution_count": 57,
      "outputs": [
        {
          "output_type": "execute_result",
          "data": {
            "text/plain": [
              "0.869"
            ]
          },
          "metadata": {},
          "execution_count": 57
        }
      ]
    },
    {
      "cell_type": "markdown",
      "source": [
        "Whisker lengths are determined by furthest data points within $1.5 \\times \\text{IQR}$ of the box edges."
      ],
      "metadata": {
        "id": "ttAdFCmOHCWf"
      }
    },
    {
      "cell_type": "markdown",
      "source": [
        "In this case, the lower whisker could stretch as far down (to the left in the plot) as:"
      ],
      "metadata": {
        "id": "HljwyAu4T7vd"
      }
    },
    {
      "cell_type": "code",
      "source": [
        "0.325 - 1.5*r"
      ],
      "metadata": {
        "colab": {
          "base_uri": "https://localhost:8080/"
        },
        "id": "cjnjeaFwT7tF",
        "outputId": "4f1bd91d-42fe-45d0-aeba-d5585895dcd2"
      },
      "execution_count": 58,
      "outputs": [
        {
          "output_type": "execute_result",
          "data": {
            "text/plain": [
              "-0.9785000000000001"
            ]
          },
          "metadata": {},
          "execution_count": 58
        }
      ]
    },
    {
      "cell_type": "code",
      "source": [
        "x.sort()"
      ],
      "metadata": {
        "id": "m_7jsy_sT7ql"
      },
      "execution_count": 59,
      "outputs": []
    },
    {
      "cell_type": "code",
      "source": [
        "x[:15]"
      ],
      "metadata": {
        "colab": {
          "base_uri": "https://localhost:8080/"
        },
        "id": "oh-HrJclT7jl",
        "outputId": "1859428d-d59d-4107-eeba-5cf2a041edb5"
      },
      "execution_count": 60,
      "outputs": [
        {
          "output_type": "execute_result",
          "data": {
            "text/plain": [
              "array([-0.17083839, -0.13565558, -0.12488902, -0.12055558, -0.11257466,\n",
              "       -0.10337922, -0.0901704 , -0.08968558, -0.06480087, -0.05930054,\n",
              "       -0.05551512, -0.04966367, -0.04726744, -0.04605792, -0.02922424])"
            ]
          },
          "metadata": {},
          "execution_count": 60
        }
      ]
    },
    {
      "cell_type": "markdown",
      "source": [
        "The lowest value is inside of that so the whisker is plotted where that lowest value is:"
      ],
      "metadata": {
        "id": "wYIGHJfvT7e9"
      }
    },
    {
      "cell_type": "code",
      "source": [
        "np.min(x)"
      ],
      "metadata": {
        "colab": {
          "base_uri": "https://localhost:8080/"
        },
        "id": "TdH_atGfT7cl",
        "outputId": "68dee868-689e-4c54-9ec2-4e14b2adae17"
      },
      "execution_count": 61,
      "outputs": [
        {
          "output_type": "execute_result",
          "data": {
            "text/plain": [
              "-0.17083838831568182"
            ]
          },
          "metadata": {},
          "execution_count": 61
        }
      ]
    },
    {
      "cell_type": "markdown",
      "source": [
        "The upper whisker could stretch as far up (to the right in the plot) as:"
      ],
      "metadata": {
        "id": "to4DHXo7T7aO"
      }
    },
    {
      "cell_type": "code",
      "source": [
        "1.194 + 1.5*r"
      ],
      "metadata": {
        "colab": {
          "base_uri": "https://localhost:8080/"
        },
        "id": "b4K8io2tT7Xo",
        "outputId": "795e1005-26b6-40a9-8119-d7ed3d354ba1"
      },
      "execution_count": 62,
      "outputs": [
        {
          "output_type": "execute_result",
          "data": {
            "text/plain": [
              "2.4975"
            ]
          },
          "metadata": {},
          "execution_count": 62
        }
      ]
    },
    {
      "cell_type": "markdown",
      "source": [
        "There are several (eleven) values beyond this threshold in the distribution. These values are considered **outliers** and are plotted as individual points:"
      ],
      "metadata": {
        "id": "xyanzGt0T7U2"
      }
    },
    {
      "cell_type": "code",
      "source": [
        "x.sort()"
      ],
      "metadata": {
        "id": "hon9jLyAT7SV"
      },
      "execution_count": 63,
      "outputs": []
    },
    {
      "cell_type": "code",
      "source": [
        "x[-15:]"
      ],
      "metadata": {
        "colab": {
          "base_uri": "https://localhost:8080/"
        },
        "id": "Fef7PDycT7P-",
        "outputId": "30ad9d0d-bd26-4beb-d185-af88f55dda62"
      },
      "execution_count": 64,
      "outputs": [
        {
          "output_type": "execute_result",
          "data": {
            "text/plain": [
              "array([2.39810074, 2.40295599, 2.41430044, 2.43541111, 2.51827951,\n",
              "       2.52043572, 2.56177972, 2.74024547, 2.74882884, 2.78877435,\n",
              "       2.88399304, 2.93368541, 2.94293176, 3.46465001, 4.00641863])"
            ]
          },
          "metadata": {},
          "execution_count": 64
        }
      ]
    },
    {
      "cell_type": "markdown",
      "source": [
        "The twelth-highest value, 2.435, is the largest within the upper whisker's maximum reach and so the upper whisker is plotted there."
      ],
      "metadata": {
        "id": "c6LJvUCDT7NF"
      }
    },
    {
      "cell_type": "code",
      "source": [
        "iris = sns.load_dataset('iris')\n",
        "iris"
      ],
      "metadata": {
        "colab": {
          "base_uri": "https://localhost:8080/",
          "height": 423
        },
        "id": "2zCj4jNZT7KZ",
        "outputId": "3b60398f-4d82-4029-c404-09f7e1117290"
      },
      "execution_count": 65,
      "outputs": [
        {
          "output_type": "execute_result",
          "data": {
            "text/plain": [
              "     sepal_length  sepal_width  petal_length  petal_width    species\n",
              "0             5.1          3.5           1.4          0.2     setosa\n",
              "1             4.9          3.0           1.4          0.2     setosa\n",
              "2             4.7          3.2           1.3          0.2     setosa\n",
              "3             4.6          3.1           1.5          0.2     setosa\n",
              "4             5.0          3.6           1.4          0.2     setosa\n",
              "..            ...          ...           ...          ...        ...\n",
              "145           6.7          3.0           5.2          2.3  virginica\n",
              "146           6.3          2.5           5.0          1.9  virginica\n",
              "147           6.5          3.0           5.2          2.0  virginica\n",
              "148           6.2          3.4           5.4          2.3  virginica\n",
              "149           5.9          3.0           5.1          1.8  virginica\n",
              "\n",
              "[150 rows x 5 columns]"
            ],
            "text/html": [
              "\n",
              "  <div id=\"df-11ced472-bc95-4b37-a111-82e4e4b45082\" class=\"colab-df-container\">\n",
              "    <div>\n",
              "<style scoped>\n",
              "    .dataframe tbody tr th:only-of-type {\n",
              "        vertical-align: middle;\n",
              "    }\n",
              "\n",
              "    .dataframe tbody tr th {\n",
              "        vertical-align: top;\n",
              "    }\n",
              "\n",
              "    .dataframe thead th {\n",
              "        text-align: right;\n",
              "    }\n",
              "</style>\n",
              "<table border=\"1\" class=\"dataframe\">\n",
              "  <thead>\n",
              "    <tr style=\"text-align: right;\">\n",
              "      <th></th>\n",
              "      <th>sepal_length</th>\n",
              "      <th>sepal_width</th>\n",
              "      <th>petal_length</th>\n",
              "      <th>petal_width</th>\n",
              "      <th>species</th>\n",
              "    </tr>\n",
              "  </thead>\n",
              "  <tbody>\n",
              "    <tr>\n",
              "      <th>0</th>\n",
              "      <td>5.1</td>\n",
              "      <td>3.5</td>\n",
              "      <td>1.4</td>\n",
              "      <td>0.2</td>\n",
              "      <td>setosa</td>\n",
              "    </tr>\n",
              "    <tr>\n",
              "      <th>1</th>\n",
              "      <td>4.9</td>\n",
              "      <td>3.0</td>\n",
              "      <td>1.4</td>\n",
              "      <td>0.2</td>\n",
              "      <td>setosa</td>\n",
              "    </tr>\n",
              "    <tr>\n",
              "      <th>2</th>\n",
              "      <td>4.7</td>\n",
              "      <td>3.2</td>\n",
              "      <td>1.3</td>\n",
              "      <td>0.2</td>\n",
              "      <td>setosa</td>\n",
              "    </tr>\n",
              "    <tr>\n",
              "      <th>3</th>\n",
              "      <td>4.6</td>\n",
              "      <td>3.1</td>\n",
              "      <td>1.5</td>\n",
              "      <td>0.2</td>\n",
              "      <td>setosa</td>\n",
              "    </tr>\n",
              "    <tr>\n",
              "      <th>4</th>\n",
              "      <td>5.0</td>\n",
              "      <td>3.6</td>\n",
              "      <td>1.4</td>\n",
              "      <td>0.2</td>\n",
              "      <td>setosa</td>\n",
              "    </tr>\n",
              "    <tr>\n",
              "      <th>...</th>\n",
              "      <td>...</td>\n",
              "      <td>...</td>\n",
              "      <td>...</td>\n",
              "      <td>...</td>\n",
              "      <td>...</td>\n",
              "    </tr>\n",
              "    <tr>\n",
              "      <th>145</th>\n",
              "      <td>6.7</td>\n",
              "      <td>3.0</td>\n",
              "      <td>5.2</td>\n",
              "      <td>2.3</td>\n",
              "      <td>virginica</td>\n",
              "    </tr>\n",
              "    <tr>\n",
              "      <th>146</th>\n",
              "      <td>6.3</td>\n",
              "      <td>2.5</td>\n",
              "      <td>5.0</td>\n",
              "      <td>1.9</td>\n",
              "      <td>virginica</td>\n",
              "    </tr>\n",
              "    <tr>\n",
              "      <th>147</th>\n",
              "      <td>6.5</td>\n",
              "      <td>3.0</td>\n",
              "      <td>5.2</td>\n",
              "      <td>2.0</td>\n",
              "      <td>virginica</td>\n",
              "    </tr>\n",
              "    <tr>\n",
              "      <th>148</th>\n",
              "      <td>6.2</td>\n",
              "      <td>3.4</td>\n",
              "      <td>5.4</td>\n",
              "      <td>2.3</td>\n",
              "      <td>virginica</td>\n",
              "    </tr>\n",
              "    <tr>\n",
              "      <th>149</th>\n",
              "      <td>5.9</td>\n",
              "      <td>3.0</td>\n",
              "      <td>5.1</td>\n",
              "      <td>1.8</td>\n",
              "      <td>virginica</td>\n",
              "    </tr>\n",
              "  </tbody>\n",
              "</table>\n",
              "<p>150 rows × 5 columns</p>\n",
              "</div>\n",
              "    <div class=\"colab-df-buttons\">\n",
              "\n",
              "  <div class=\"colab-df-container\">\n",
              "    <button class=\"colab-df-convert\" onclick=\"convertToInteractive('df-11ced472-bc95-4b37-a111-82e4e4b45082')\"\n",
              "            title=\"Convert this dataframe to an interactive table.\"\n",
              "            style=\"display:none;\">\n",
              "\n",
              "  <svg xmlns=\"http://www.w3.org/2000/svg\" height=\"24px\" viewBox=\"0 -960 960 960\">\n",
              "    <path d=\"M120-120v-720h720v720H120Zm60-500h600v-160H180v160Zm220 220h160v-160H400v160Zm0 220h160v-160H400v160ZM180-400h160v-160H180v160Zm440 0h160v-160H620v160ZM180-180h160v-160H180v160Zm440 0h160v-160H620v160Z\"/>\n",
              "  </svg>\n",
              "    </button>\n",
              "\n",
              "  <style>\n",
              "    .colab-df-container {\n",
              "      display:flex;\n",
              "      gap: 12px;\n",
              "    }\n",
              "\n",
              "    .colab-df-convert {\n",
              "      background-color: #E8F0FE;\n",
              "      border: none;\n",
              "      border-radius: 50%;\n",
              "      cursor: pointer;\n",
              "      display: none;\n",
              "      fill: #1967D2;\n",
              "      height: 32px;\n",
              "      padding: 0 0 0 0;\n",
              "      width: 32px;\n",
              "    }\n",
              "\n",
              "    .colab-df-convert:hover {\n",
              "      background-color: #E2EBFA;\n",
              "      box-shadow: 0px 1px 2px rgba(60, 64, 67, 0.3), 0px 1px 3px 1px rgba(60, 64, 67, 0.15);\n",
              "      fill: #174EA6;\n",
              "    }\n",
              "\n",
              "    .colab-df-buttons div {\n",
              "      margin-bottom: 4px;\n",
              "    }\n",
              "\n",
              "    [theme=dark] .colab-df-convert {\n",
              "      background-color: #3B4455;\n",
              "      fill: #D2E3FC;\n",
              "    }\n",
              "\n",
              "    [theme=dark] .colab-df-convert:hover {\n",
              "      background-color: #434B5C;\n",
              "      box-shadow: 0px 1px 3px 1px rgba(0, 0, 0, 0.15);\n",
              "      filter: drop-shadow(0px 1px 2px rgba(0, 0, 0, 0.3));\n",
              "      fill: #FFFFFF;\n",
              "    }\n",
              "  </style>\n",
              "\n",
              "    <script>\n",
              "      const buttonEl =\n",
              "        document.querySelector('#df-11ced472-bc95-4b37-a111-82e4e4b45082 button.colab-df-convert');\n",
              "      buttonEl.style.display =\n",
              "        google.colab.kernel.accessAllowed ? 'block' : 'none';\n",
              "\n",
              "      async function convertToInteractive(key) {\n",
              "        const element = document.querySelector('#df-11ced472-bc95-4b37-a111-82e4e4b45082');\n",
              "        const dataTable =\n",
              "          await google.colab.kernel.invokeFunction('convertToInteractive',\n",
              "                                                    [key], {});\n",
              "        if (!dataTable) return;\n",
              "\n",
              "        const docLinkHtml = 'Like what you see? Visit the ' +\n",
              "          '<a target=\"_blank\" href=https://colab.research.google.com/notebooks/data_table.ipynb>data table notebook</a>'\n",
              "          + ' to learn more about interactive tables.';\n",
              "        element.innerHTML = '';\n",
              "        dataTable['output_type'] = 'display_data';\n",
              "        await google.colab.output.renderOutput(dataTable, element);\n",
              "        const docLink = document.createElement('div');\n",
              "        docLink.innerHTML = docLinkHtml;\n",
              "        element.appendChild(docLink);\n",
              "      }\n",
              "    </script>\n",
              "  </div>\n",
              "\n",
              "\n",
              "<div id=\"df-cc55c083-5513-4575-b6a4-4227c8a8bab5\">\n",
              "  <button class=\"colab-df-quickchart\" onclick=\"quickchart('df-cc55c083-5513-4575-b6a4-4227c8a8bab5')\"\n",
              "            title=\"Suggest charts\"\n",
              "            style=\"display:none;\">\n",
              "\n",
              "<svg xmlns=\"http://www.w3.org/2000/svg\" height=\"24px\"viewBox=\"0 0 24 24\"\n",
              "     width=\"24px\">\n",
              "    <g>\n",
              "        <path d=\"M19 3H5c-1.1 0-2 .9-2 2v14c0 1.1.9 2 2 2h14c1.1 0 2-.9 2-2V5c0-1.1-.9-2-2-2zM9 17H7v-7h2v7zm4 0h-2V7h2v10zm4 0h-2v-4h2v4z\"/>\n",
              "    </g>\n",
              "</svg>\n",
              "  </button>\n",
              "\n",
              "<style>\n",
              "  .colab-df-quickchart {\n",
              "      --bg-color: #E8F0FE;\n",
              "      --fill-color: #1967D2;\n",
              "      --hover-bg-color: #E2EBFA;\n",
              "      --hover-fill-color: #174EA6;\n",
              "      --disabled-fill-color: #AAA;\n",
              "      --disabled-bg-color: #DDD;\n",
              "  }\n",
              "\n",
              "  [theme=dark] .colab-df-quickchart {\n",
              "      --bg-color: #3B4455;\n",
              "      --fill-color: #D2E3FC;\n",
              "      --hover-bg-color: #434B5C;\n",
              "      --hover-fill-color: #FFFFFF;\n",
              "      --disabled-bg-color: #3B4455;\n",
              "      --disabled-fill-color: #666;\n",
              "  }\n",
              "\n",
              "  .colab-df-quickchart {\n",
              "    background-color: var(--bg-color);\n",
              "    border: none;\n",
              "    border-radius: 50%;\n",
              "    cursor: pointer;\n",
              "    display: none;\n",
              "    fill: var(--fill-color);\n",
              "    height: 32px;\n",
              "    padding: 0;\n",
              "    width: 32px;\n",
              "  }\n",
              "\n",
              "  .colab-df-quickchart:hover {\n",
              "    background-color: var(--hover-bg-color);\n",
              "    box-shadow: 0 1px 2px rgba(60, 64, 67, 0.3), 0 1px 3px 1px rgba(60, 64, 67, 0.15);\n",
              "    fill: var(--button-hover-fill-color);\n",
              "  }\n",
              "\n",
              "  .colab-df-quickchart-complete:disabled,\n",
              "  .colab-df-quickchart-complete:disabled:hover {\n",
              "    background-color: var(--disabled-bg-color);\n",
              "    fill: var(--disabled-fill-color);\n",
              "    box-shadow: none;\n",
              "  }\n",
              "\n",
              "  .colab-df-spinner {\n",
              "    border: 2px solid var(--fill-color);\n",
              "    border-color: transparent;\n",
              "    border-bottom-color: var(--fill-color);\n",
              "    animation:\n",
              "      spin 1s steps(1) infinite;\n",
              "  }\n",
              "\n",
              "  @keyframes spin {\n",
              "    0% {\n",
              "      border-color: transparent;\n",
              "      border-bottom-color: var(--fill-color);\n",
              "      border-left-color: var(--fill-color);\n",
              "    }\n",
              "    20% {\n",
              "      border-color: transparent;\n",
              "      border-left-color: var(--fill-color);\n",
              "      border-top-color: var(--fill-color);\n",
              "    }\n",
              "    30% {\n",
              "      border-color: transparent;\n",
              "      border-left-color: var(--fill-color);\n",
              "      border-top-color: var(--fill-color);\n",
              "      border-right-color: var(--fill-color);\n",
              "    }\n",
              "    40% {\n",
              "      border-color: transparent;\n",
              "      border-right-color: var(--fill-color);\n",
              "      border-top-color: var(--fill-color);\n",
              "    }\n",
              "    60% {\n",
              "      border-color: transparent;\n",
              "      border-right-color: var(--fill-color);\n",
              "    }\n",
              "    80% {\n",
              "      border-color: transparent;\n",
              "      border-right-color: var(--fill-color);\n",
              "      border-bottom-color: var(--fill-color);\n",
              "    }\n",
              "    90% {\n",
              "      border-color: transparent;\n",
              "      border-bottom-color: var(--fill-color);\n",
              "    }\n",
              "  }\n",
              "</style>\n",
              "\n",
              "  <script>\n",
              "    async function quickchart(key) {\n",
              "      const quickchartButtonEl =\n",
              "        document.querySelector('#' + key + ' button');\n",
              "      quickchartButtonEl.disabled = true;  // To prevent multiple clicks.\n",
              "      quickchartButtonEl.classList.add('colab-df-spinner');\n",
              "      try {\n",
              "        const charts = await google.colab.kernel.invokeFunction(\n",
              "            'suggestCharts', [key], {});\n",
              "      } catch (error) {\n",
              "        console.error('Error during call to suggestCharts:', error);\n",
              "      }\n",
              "      quickchartButtonEl.classList.remove('colab-df-spinner');\n",
              "      quickchartButtonEl.classList.add('colab-df-quickchart-complete');\n",
              "    }\n",
              "    (() => {\n",
              "      let quickchartButtonEl =\n",
              "        document.querySelector('#df-cc55c083-5513-4575-b6a4-4227c8a8bab5 button');\n",
              "      quickchartButtonEl.style.display =\n",
              "        google.colab.kernel.accessAllowed ? 'block' : 'none';\n",
              "    })();\n",
              "  </script>\n",
              "</div>\n",
              "\n",
              "  <div id=\"id_00eb94bf-e1a8-4086-8a34-58a847fae904\">\n",
              "    <style>\n",
              "      .colab-df-generate {\n",
              "        background-color: #E8F0FE;\n",
              "        border: none;\n",
              "        border-radius: 50%;\n",
              "        cursor: pointer;\n",
              "        display: none;\n",
              "        fill: #1967D2;\n",
              "        height: 32px;\n",
              "        padding: 0 0 0 0;\n",
              "        width: 32px;\n",
              "      }\n",
              "\n",
              "      .colab-df-generate:hover {\n",
              "        background-color: #E2EBFA;\n",
              "        box-shadow: 0px 1px 2px rgba(60, 64, 67, 0.3), 0px 1px 3px 1px rgba(60, 64, 67, 0.15);\n",
              "        fill: #174EA6;\n",
              "      }\n",
              "\n",
              "      [theme=dark] .colab-df-generate {\n",
              "        background-color: #3B4455;\n",
              "        fill: #D2E3FC;\n",
              "      }\n",
              "\n",
              "      [theme=dark] .colab-df-generate:hover {\n",
              "        background-color: #434B5C;\n",
              "        box-shadow: 0px 1px 3px 1px rgba(0, 0, 0, 0.15);\n",
              "        filter: drop-shadow(0px 1px 2px rgba(0, 0, 0, 0.3));\n",
              "        fill: #FFFFFF;\n",
              "      }\n",
              "    </style>\n",
              "    <button class=\"colab-df-generate\" onclick=\"generateWithVariable('iris')\"\n",
              "            title=\"Generate code using this dataframe.\"\n",
              "            style=\"display:none;\">\n",
              "\n",
              "  <svg xmlns=\"http://www.w3.org/2000/svg\" height=\"24px\"viewBox=\"0 0 24 24\"\n",
              "       width=\"24px\">\n",
              "    <path d=\"M7,19H8.4L18.45,9,17,7.55,7,17.6ZM5,21V16.75L18.45,3.32a2,2,0,0,1,2.83,0l1.4,1.43a1.91,1.91,0,0,1,.58,1.4,1.91,1.91,0,0,1-.58,1.4L9.25,21ZM18.45,9,17,7.55Zm-12,3A5.31,5.31,0,0,0,4.9,8.1,5.31,5.31,0,0,0,1,6.5,5.31,5.31,0,0,0,4.9,4.9,5.31,5.31,0,0,0,6.5,1,5.31,5.31,0,0,0,8.1,4.9,5.31,5.31,0,0,0,12,6.5,5.46,5.46,0,0,0,6.5,12Z\"/>\n",
              "  </svg>\n",
              "    </button>\n",
              "    <script>\n",
              "      (() => {\n",
              "      const buttonEl =\n",
              "        document.querySelector('#id_00eb94bf-e1a8-4086-8a34-58a847fae904 button.colab-df-generate');\n",
              "      buttonEl.style.display =\n",
              "        google.colab.kernel.accessAllowed ? 'block' : 'none';\n",
              "\n",
              "      buttonEl.onclick = () => {\n",
              "        google.colab.notebook.generateWithVariable('iris');\n",
              "      }\n",
              "      })();\n",
              "    </script>\n",
              "  </div>\n",
              "\n",
              "    </div>\n",
              "  </div>\n"
            ],
            "application/vnd.google.colaboratory.intrinsic+json": {
              "type": "dataframe",
              "variable_name": "iris",
              "summary": "{\n  \"name\": \"iris\",\n  \"rows\": 150,\n  \"fields\": [\n    {\n      \"column\": \"sepal_length\",\n      \"properties\": {\n        \"dtype\": \"number\",\n        \"std\": 0.828066127977863,\n        \"min\": 4.3,\n        \"max\": 7.9,\n        \"num_unique_values\": 35,\n        \"samples\": [\n          6.2,\n          4.5,\n          5.6\n        ],\n        \"semantic_type\": \"\",\n        \"description\": \"\"\n      }\n    },\n    {\n      \"column\": \"sepal_width\",\n      \"properties\": {\n        \"dtype\": \"number\",\n        \"std\": 0.4358662849366982,\n        \"min\": 2.0,\n        \"max\": 4.4,\n        \"num_unique_values\": 23,\n        \"samples\": [\n          2.3,\n          4.0,\n          3.5\n        ],\n        \"semantic_type\": \"\",\n        \"description\": \"\"\n      }\n    },\n    {\n      \"column\": \"petal_length\",\n      \"properties\": {\n        \"dtype\": \"number\",\n        \"std\": 1.7652982332594662,\n        \"min\": 1.0,\n        \"max\": 6.9,\n        \"num_unique_values\": 43,\n        \"samples\": [\n          6.7,\n          3.8,\n          3.7\n        ],\n        \"semantic_type\": \"\",\n        \"description\": \"\"\n      }\n    },\n    {\n      \"column\": \"petal_width\",\n      \"properties\": {\n        \"dtype\": \"number\",\n        \"std\": 0.7622376689603465,\n        \"min\": 0.1,\n        \"max\": 2.5,\n        \"num_unique_values\": 22,\n        \"samples\": [\n          0.2,\n          1.2,\n          1.3\n        ],\n        \"semantic_type\": \"\",\n        \"description\": \"\"\n      }\n    },\n    {\n      \"column\": \"species\",\n      \"properties\": {\n        \"dtype\": \"category\",\n        \"num_unique_values\": 3,\n        \"samples\": [\n          \"setosa\",\n          \"versicolor\",\n          \"virginica\"\n        ],\n        \"semantic_type\": \"\",\n        \"description\": \"\"\n      }\n    }\n  ]\n}"
            }
          },
          "metadata": {},
          "execution_count": 65
        }
      ]
    },
    {
      "cell_type": "code",
      "source": [
        "_ = sns.boxplot(data=iris)"
      ],
      "metadata": {
        "colab": {
          "base_uri": "https://localhost:8080/",
          "height": 435
        },
        "id": "Nckm-UFqT7Hl",
        "outputId": "6a4e918d-c4a3-4edb-e981-084f969c9027"
      },
      "execution_count": 66,
      "outputs": [
        {
          "output_type": "display_data",
          "data": {
            "text/plain": [
              "<Figure size 640x480 with 1 Axes>"
            ],
            "image/png": "[encoded data removed]"
          },
          "metadata": {}
        }
      ]
    },
    {
      "cell_type": "code",
      "source": [
        "tips = sns.load_dataset('tips')\n",
        "tips"
      ],
      "metadata": {
        "colab": {
          "base_uri": "https://localhost:8080/",
          "height": 423
        },
        "id": "ISuhq8wST7Et",
        "outputId": "d5070579-0136-43d7-d3bd-105f74d8ae27"
      },
      "execution_count": 67,
      "outputs": [
        {
          "output_type": "execute_result",
          "data": {
            "text/plain": [
              "     total_bill   tip     sex smoker   day    time  size\n",
              "0         16.99  1.01  Female     No   Sun  Dinner     2\n",
              "1         10.34  1.66    Male     No   Sun  Dinner     3\n",
              "2         21.01  3.50    Male     No   Sun  Dinner     3\n",
              "3         23.68  3.31    Male     No   Sun  Dinner     2\n",
              "4         24.59  3.61  Female     No   Sun  Dinner     4\n",
              "..          ...   ...     ...    ...   ...     ...   ...\n",
              "239       29.03  5.92    Male     No   Sat  Dinner     3\n",
              "240       27.18  2.00  Female    Yes   Sat  Dinner     2\n",
              "241       22.67  2.00    Male    Yes   Sat  Dinner     2\n",
              "242       17.82  1.75    Male     No   Sat  Dinner     2\n",
              "243       18.78  3.00  Female     No  Thur  Dinner     2\n",
              "\n",
              "[244 rows x 7 columns]"
            ],
            "text/html": [
              "\n",
              "  <div id=\"df-3e3b8252-0fb6-4b52-abb0-d54c048ad76d\" class=\"colab-df-container\">\n",
              "    <div>\n",
              "<style scoped>\n",
              "    .dataframe tbody tr th:only-of-type {\n",
              "        vertical-align: middle;\n",
              "    }\n",
              "\n",
              "    .dataframe tbody tr th {\n",
              "        vertical-align: top;\n",
              "    }\n",
              "\n",
              "    .dataframe thead th {\n",
              "        text-align: right;\n",
              "    }\n",
              "</style>\n",
              "<table border=\"1\" class=\"dataframe\">\n",
              "  <thead>\n",
              "    <tr style=\"text-align: right;\">\n",
              "      <th></th>\n",
              "      <th>total_bill</th>\n",
              "      <th>tip</th>\n",
              "      <th>sex</th>\n",
              "      <th>smoker</th>\n",
              "      <th>day</th>\n",
              "      <th>time</th>\n",
              "      <th>size</th>\n",
              "    </tr>\n",
              "  </thead>\n",
              "  <tbody>\n",
              "    <tr>\n",
              "      <th>0</th>\n",
              "      <td>16.99</td>\n",
              "      <td>1.01</td>\n",
              "      <td>Female</td>\n",
              "      <td>No</td>\n",
              "      <td>Sun</td>\n",
              "      <td>Dinner</td>\n",
              "      <td>2</td>\n",
              "    </tr>\n",
              "    <tr>\n",
              "      <th>1</th>\n",
              "      <td>10.34</td>\n",
              "      <td>1.66</td>\n",
              "      <td>Male</td>\n",
              "      <td>No</td>\n",
              "      <td>Sun</td>\n",
              "      <td>Dinner</td>\n",
              "      <td>3</td>\n",
              "    </tr>\n",
              "    <tr>\n",
              "      <th>2</th>\n",
              "      <td>21.01</td>\n",
              "      <td>3.50</td>\n",
              "      <td>Male</td>\n",
              "      <td>No</td>\n",
              "      <td>Sun</td>\n",
              "      <td>Dinner</td>\n",
              "      <td>3</td>\n",
              "    </tr>\n",
              "    <tr>\n",
              "      <th>3</th>\n",
              "      <td>23.68</td>\n",
              "      <td>3.31</td>\n",
              "      <td>Male</td>\n",
              "      <td>No</td>\n",
              "      <td>Sun</td>\n",
              "      <td>Dinner</td>\n",
              "      <td>2</td>\n",
              "    </tr>\n",
              "    <tr>\n",
              "      <th>4</th>\n",
              "      <td>24.59</td>\n",
              "      <td>3.61</td>\n",
              "      <td>Female</td>\n",
              "      <td>No</td>\n",
              "      <td>Sun</td>\n",
              "      <td>Dinner</td>\n",
              "      <td>4</td>\n",
              "    </tr>\n",
              "    <tr>\n",
              "      <th>...</th>\n",
              "      <td>...</td>\n",
              "      <td>...</td>\n",
              "      <td>...</td>\n",
              "      <td>...</td>\n",
              "      <td>...</td>\n",
              "      <td>...</td>\n",
              "      <td>...</td>\n",
              "    </tr>\n",
              "    <tr>\n",
              "      <th>239</th>\n",
              "      <td>29.03</td>\n",
              "      <td>5.92</td>\n",
              "      <td>Male</td>\n",
              "      <td>No</td>\n",
              "      <td>Sat</td>\n",
              "      <td>Dinner</td>\n",
              "      <td>3</td>\n",
              "    </tr>\n",
              "    <tr>\n",
              "      <th>240</th>\n",
              "      <td>27.18</td>\n",
              "      <td>2.00</td>\n",
              "      <td>Female</td>\n",
              "      <td>Yes</td>\n",
              "      <td>Sat</td>\n",
              "      <td>Dinner</td>\n",
              "      <td>2</td>\n",
              "    </tr>\n",
              "    <tr>\n",
              "      <th>241</th>\n",
              "      <td>22.67</td>\n",
              "      <td>2.00</td>\n",
              "      <td>Male</td>\n",
              "      <td>Yes</td>\n",
              "      <td>Sat</td>\n",
              "      <td>Dinner</td>\n",
              "      <td>2</td>\n",
              "    </tr>\n",
              "    <tr>\n",
              "      <th>242</th>\n",
              "      <td>17.82</td>\n",
              "      <td>1.75</td>\n",
              "      <td>Male</td>\n",
              "      <td>No</td>\n",
              "      <td>Sat</td>\n",
              "      <td>Dinner</td>\n",
              "      <td>2</td>\n",
              "    </tr>\n",
              "    <tr>\n",
              "      <th>243</th>\n",
              "      <td>18.78</td>\n",
              "      <td>3.00</td>\n",
              "      <td>Female</td>\n",
              "      <td>No</td>\n",
              "      <td>Thur</td>\n",
              "      <td>Dinner</td>\n",
              "      <td>2</td>\n",
              "    </tr>\n",
              "  </tbody>\n",
              "</table>\n",
              "<p>244 rows × 7 columns</p>\n",
              "</div>\n",
              "    <div class=\"colab-df-buttons\">\n",
              "\n",
              "  <div class=\"colab-df-container\">\n",
              "    <button class=\"colab-df-convert\" onclick=\"convertToInteractive('df-3e3b8252-0fb6-4b52-abb0-d54c048ad76d')\"\n",
              "            title=\"Convert this dataframe to an interactive table.\"\n",
              "            style=\"display:none;\">\n",
              "\n",
              "  <svg xmlns=\"http://www.w3.org/2000/svg\" height=\"24px\" viewBox=\"0 -960 960 960\">\n",
              "    <path d=\"M120-120v-720h720v720H120Zm60-500h600v-160H180v160Zm220 220h160v-160H400v160Zm0 220h160v-160H400v160ZM180-400h160v-160H180v160Zm440 0h160v-160H620v160ZM180-180h160v-160H180v160Zm440 0h160v-160H620v160Z\"/>\n",
              "  </svg>\n",
              "    </button>\n",
              "\n",
              "  <style>\n",
              "    .colab-df-container {\n",
              "      display:flex;\n",
              "      gap: 12px;\n",
              "    }\n",
              "\n",
              "    .colab-df-convert {\n",
              "      background-color: #E8F0FE;\n",
              "      border: none;\n",
              "      border-radius: 50%;\n",
              "      cursor: pointer;\n",
              "      display: none;\n",
              "      fill: #1967D2;\n",
              "      height: 32px;\n",
              "      padding: 0 0 0 0;\n",
              "      width: 32px;\n",
              "    }\n",
              "\n",
              "    .colab-df-convert:hover {\n",
              "      background-color: #E2EBFA;\n",
              "      box-shadow: 0px 1px 2px rgba(60, 64, 67, 0.3), 0px 1px 3px 1px rgba(60, 64, 67, 0.15);\n",
              "      fill: #174EA6;\n",
              "    }\n",
              "\n",
              "    .colab-df-buttons div {\n",
              "      margin-bottom: 4px;\n",
              "    }\n",
              "\n",
              "    [theme=dark] .colab-df-convert {\n",
              "      background-color: #3B4455;\n",
              "      fill: #D2E3FC;\n",
              "    }\n",
              "\n",
              "    [theme=dark] .colab-df-convert:hover {\n",
              "      background-color: #434B5C;\n",
              "      box-shadow: 0px 1px 3px 1px rgba(0, 0, 0, 0.15);\n",
              "      filter: drop-shadow(0px 1px 2px rgba(0, 0, 0, 0.3));\n",
              "      fill: #FFFFFF;\n",
              "    }\n",
              "  </style>\n",
              "\n",
              "    <script>\n",
              "      const buttonEl =\n",
              "        document.querySelector('#df-3e3b8252-0fb6-4b52-abb0-d54c048ad76d button.colab-df-convert');\n",
              "      buttonEl.style.display =\n",
              "        google.colab.kernel.accessAllowed ? 'block' : 'none';\n",
              "\n",
              "      async function convertToInteractive(key) {\n",
              "        const element = document.querySelector('#df-3e3b8252-0fb6-4b52-abb0-d54c048ad76d');\n",
              "        const dataTable =\n",
              "          await google.colab.kernel.invokeFunction('convertToInteractive',\n",
              "                                                    [key], {});\n",
              "        if (!dataTable) return;\n",
              "\n",
              "        const docLinkHtml = 'Like what you see? Visit the ' +\n",
              "          '<a target=\"_blank\" href=https://colab.research.google.com/notebooks/data_table.ipynb>data table notebook</a>'\n",
              "          + ' to learn more about interactive tables.';\n",
              "        element.innerHTML = '';\n",
              "        dataTable['output_type'] = 'display_data';\n",
              "        await google.colab.output.renderOutput(dataTable, element);\n",
              "        const docLink = document.createElement('div');\n",
              "        docLink.innerHTML = docLinkHtml;\n",
              "        element.appendChild(docLink);\n",
              "      }\n",
              "    </script>\n",
              "  </div>\n",
              "\n",
              "\n",
              "<div id=\"df-4cdfd371-519d-453b-b7e3-a33398e0ce2e\">\n",
              "  <button class=\"colab-df-quickchart\" onclick=\"quickchart('df-4cdfd371-519d-453b-b7e3-a33398e0ce2e')\"\n",
              "            title=\"Suggest charts\"\n",
              "            style=\"display:none;\">\n",
              "\n",
              "<svg xmlns=\"http://www.w3.org/2000/svg\" height=\"24px\"viewBox=\"0 0 24 24\"\n",
              "     width=\"24px\">\n",
              "    <g>\n",
              "        <path d=\"M19 3H5c-1.1 0-2 .9-2 2v14c0 1.1.9 2 2 2h14c1.1 0 2-.9 2-2V5c0-1.1-.9-2-2-2zM9 17H7v-7h2v7zm4 0h-2V7h2v10zm4 0h-2v-4h2v4z\"/>\n",
              "    </g>\n",
              "</svg>\n",
              "  </button>\n",
              "\n",
              "<style>\n",
              "  .colab-df-quickchart {\n",
              "      --bg-color: #E8F0FE;\n",
              "      --fill-color: #1967D2;\n",
              "      --hover-bg-color: #E2EBFA;\n",
              "      --hover-fill-color: #174EA6;\n",
              "      --disabled-fill-color: #AAA;\n",
              "      --disabled-bg-color: #DDD;\n",
              "  }\n",
              "\n",
              "  [theme=dark] .colab-df-quickchart {\n",
              "      --bg-color: #3B4455;\n",
              "      --fill-color: #D2E3FC;\n",
              "      --hover-bg-color: #434B5C;\n",
              "      --hover-fill-color: #FFFFFF;\n",
              "      --disabled-bg-color: #3B4455;\n",
              "      --disabled-fill-color: #666;\n",
              "  }\n",
              "\n",
              "  .colab-df-quickchart {\n",
              "    background-color: var(--bg-color);\n",
              "    border: none;\n",
              "    border-radius: 50%;\n",
              "    cursor: pointer;\n",
              "    display: none;\n",
              "    fill: var(--fill-color);\n",
              "    height: 32px;\n",
              "    padding: 0;\n",
              "    width: 32px;\n",
              "  }\n",
              "\n",
              "  .colab-df-quickchart:hover {\n",
              "    background-color: var(--hover-bg-color);\n",
              "    box-shadow: 0 1px 2px rgba(60, 64, 67, 0.3), 0 1px 3px 1px rgba(60, 64, 67, 0.15);\n",
              "    fill: var(--button-hover-fill-color);\n",
              "  }\n",
              "\n",
              "  .colab-df-quickchart-complete:disabled,\n",
              "  .colab-df-quickchart-complete:disabled:hover {\n",
              "    background-color: var(--disabled-bg-color);\n",
              "    fill: var(--disabled-fill-color);\n",
              "    box-shadow: none;\n",
              "  }\n",
              "\n",
              "  .colab-df-spinner {\n",
              "    border: 2px solid var(--fill-color);\n",
              "    border-color: transparent;\n",
              "    border-bottom-color: var(--fill-color);\n",
              "    animation:\n",
              "      spin 1s steps(1) infinite;\n",
              "  }\n",
              "\n",
              "  @keyframes spin {\n",
              "    0% {\n",
              "      border-color: transparent;\n",
              "      border-bottom-color: var(--fill-color);\n",
              "      border-left-color: var(--fill-color);\n",
              "    }\n",
              "    20% {\n",
              "      border-color: transparent;\n",
              "      border-left-color: var(--fill-color);\n",
              "      border-top-color: var(--fill-color);\n",
              "    }\n",
              "    30% {\n",
              "      border-color: transparent;\n",
              "      border-left-color: var(--fill-color);\n",
              "      border-top-color: var(--fill-color);\n",
              "      border-right-color: var(--fill-color);\n",
              "    }\n",
              "    40% {\n",
              "      border-color: transparent;\n",
              "      border-right-color: var(--fill-color);\n",
              "      border-top-color: var(--fill-color);\n",
              "    }\n",
              "    60% {\n",
              "      border-color: transparent;\n",
              "      border-right-color: var(--fill-color);\n",
              "    }\n",
              "    80% {\n",
              "      border-color: transparent;\n",
              "      border-right-color: var(--fill-color);\n",
              "      border-bottom-color: var(--fill-color);\n",
              "    }\n",
              "    90% {\n",
              "      border-color: transparent;\n",
              "      border-bottom-color: var(--fill-color);\n",
              "    }\n",
              "  }\n",
              "</style>\n",
              "\n",
              "  <script>\n",
              "    async function quickchart(key) {\n",
              "      const quickchartButtonEl =\n",
              "        document.querySelector('#' + key + ' button');\n",
              "      quickchartButtonEl.disabled = true;  // To prevent multiple clicks.\n",
              "      quickchartButtonEl.classList.add('colab-df-spinner');\n",
              "      try {\n",
              "        const charts = await google.colab.kernel.invokeFunction(\n",
              "            'suggestCharts', [key], {});\n",
              "      } catch (error) {\n",
              "        console.error('Error during call to suggestCharts:', error);\n",
              "      }\n",
              "      quickchartButtonEl.classList.remove('colab-df-spinner');\n",
              "      quickchartButtonEl.classList.add('colab-df-quickchart-complete');\n",
              "    }\n",
              "    (() => {\n",
              "      let quickchartButtonEl =\n",
              "        document.querySelector('#df-4cdfd371-519d-453b-b7e3-a33398e0ce2e button');\n",
              "      quickchartButtonEl.style.display =\n",
              "        google.colab.kernel.accessAllowed ? 'block' : 'none';\n",
              "    })();\n",
              "  </script>\n",
              "</div>\n",
              "\n",
              "  <div id=\"id_cc1b4f8f-c5b9-4e31-9da2-a5a0119c937d\">\n",
              "    <style>\n",
              "      .colab-df-generate {\n",
              "        background-color: #E8F0FE;\n",
              "        border: none;\n",
              "        border-radius: 50%;\n",
              "        cursor: pointer;\n",
              "        display: none;\n",
              "        fill: #1967D2;\n",
              "        height: 32px;\n",
              "        padding: 0 0 0 0;\n",
              "        width: 32px;\n",
              "      }\n",
              "\n",
              "      .colab-df-generate:hover {\n",
              "        background-color: #E2EBFA;\n",
              "        box-shadow: 0px 1px 2px rgba(60, 64, 67, 0.3), 0px 1px 3px 1px rgba(60, 64, 67, 0.15);\n",
              "        fill: #174EA6;\n",
              "      }\n",
              "\n",
              "      [theme=dark] .colab-df-generate {\n",
              "        background-color: #3B4455;\n",
              "        fill: #D2E3FC;\n",
              "      }\n",
              "\n",
              "      [theme=dark] .colab-df-generate:hover {\n",
              "        background-color: #434B5C;\n",
              "        box-shadow: 0px 1px 3px 1px rgba(0, 0, 0, 0.15);\n",
              "        filter: drop-shadow(0px 1px 2px rgba(0, 0, 0, 0.3));\n",
              "        fill: #FFFFFF;\n",
              "      }\n",
              "    </style>\n",
              "    <button class=\"colab-df-generate\" onclick=\"generateWithVariable('tips')\"\n",
              "            title=\"Generate code using this dataframe.\"\n",
              "            style=\"display:none;\">\n",
              "\n",
              "  <svg xmlns=\"http://www.w3.org/2000/svg\" height=\"24px\"viewBox=\"0 0 24 24\"\n",
              "       width=\"24px\">\n",
              "    <path d=\"M7,19H8.4L18.45,9,17,7.55,7,17.6ZM5,21V16.75L18.45,3.32a2,2,0,0,1,2.83,0l1.4,1.43a1.91,1.91,0,0,1,.58,1.4,1.91,1.91,0,0,1-.58,1.4L9.25,21ZM18.45,9,17,7.55Zm-12,3A5.31,5.31,0,0,0,4.9,8.1,5.31,5.31,0,0,0,1,6.5,5.31,5.31,0,0,0,4.9,4.9,5.31,5.31,0,0,0,6.5,1,5.31,5.31,0,0,0,8.1,4.9,5.31,5.31,0,0,0,12,6.5,5.46,5.46,0,0,0,6.5,12Z\"/>\n",
              "  </svg>\n",
              "    </button>\n",
              "    <script>\n",
              "      (() => {\n",
              "      const buttonEl =\n",
              "        document.querySelector('#id_cc1b4f8f-c5b9-4e31-9da2-a5a0119c937d button.colab-df-generate');\n",
              "      buttonEl.style.display =\n",
              "        google.colab.kernel.accessAllowed ? 'block' : 'none';\n",
              "\n",
              "      buttonEl.onclick = () => {\n",
              "        google.colab.notebook.generateWithVariable('tips');\n",
              "      }\n",
              "      })();\n",
              "    </script>\n",
              "  </div>\n",
              "\n",
              "    </div>\n",
              "  </div>\n"
            ],
            "application/vnd.google.colaboratory.intrinsic+json": {
              "type": "dataframe",
              "variable_name": "tips",
              "summary": "{\n  \"name\": \"tips\",\n  \"rows\": 244,\n  \"fields\": [\n    {\n      \"column\": \"total_bill\",\n      \"properties\": {\n        \"dtype\": \"number\",\n        \"std\": 8.902411954856856,\n        \"min\": 3.07,\n        \"max\": 50.81,\n        \"num_unique_values\": 229,\n        \"samples\": [\n          22.12,\n          20.23,\n          14.78\n        ],\n        \"semantic_type\": \"\",\n        \"description\": \"\"\n      }\n    },\n    {\n      \"column\": \"tip\",\n      \"properties\": {\n        \"dtype\": \"number\",\n        \"std\": 1.3836381890011822,\n        \"min\": 1.0,\n        \"max\": 10.0,\n        \"num_unique_values\": 123,\n        \"samples\": [\n          3.35,\n          1.5,\n          6.73\n        ],\n        \"semantic_type\": \"\",\n        \"description\": \"\"\n      }\n    },\n    {\n      \"column\": \"sex\",\n      \"properties\": {\n        \"dtype\": \"category\",\n        \"num_unique_values\": 2,\n        \"samples\": [\n          \"Male\",\n          \"Female\"\n        ],\n        \"semantic_type\": \"\",\n        \"description\": \"\"\n      }\n    },\n    {\n      \"column\": \"smoker\",\n      \"properties\": {\n        \"dtype\": \"category\",\n        \"num_unique_values\": 2,\n        \"samples\": [\n          \"Yes\",\n          \"No\"\n        ],\n        \"semantic_type\": \"\",\n        \"description\": \"\"\n      }\n    },\n    {\n      \"column\": \"day\",\n      \"properties\": {\n        \"dtype\": \"category\",\n        \"num_unique_values\": 4,\n        \"samples\": [\n          \"Sat\",\n          \"Fri\"\n        ],\n        \"semantic_type\": \"\",\n        \"description\": \"\"\n      }\n    },\n    {\n      \"column\": \"time\",\n      \"properties\": {\n        \"dtype\": \"category\",\n        \"num_unique_values\": 2,\n        \"samples\": [\n          \"Lunch\",\n          \"Dinner\"\n        ],\n        \"semantic_type\": \"\",\n        \"description\": \"\"\n      }\n    },\n    {\n      \"column\": \"size\",\n      \"properties\": {\n        \"dtype\": \"number\",\n        \"std\": 0,\n        \"min\": 1,\n        \"max\": 6,\n        \"num_unique_values\": 6,\n        \"samples\": [\n          2,\n          3\n        ],\n        \"semantic_type\": \"\",\n        \"description\": \"\"\n      }\n    }\n  ]\n}"
            }
          },
          "metadata": {},
          "execution_count": 67
        }
      ]
    },
    {
      "cell_type": "code",
      "source": [
        "_ = sns.boxplot(x='day', y='total_bill', hue='smoker', data=tips)"
      ],
      "metadata": {
        "colab": {
          "base_uri": "https://localhost:8080/",
          "height": 458
        },
        "id": "Ck3g80WST7B9",
        "outputId": "876e6d66-648e-4d64-c3ef-3feb553fd114"
      },
      "execution_count": 68,
      "outputs": [
        {
          "output_type": "display_data",
          "data": {
            "text/plain": [
              "<Figure size 640x480 with 1 Axes>"
            ],
            "image/png": "[encoded data removed]"
          },
          "metadata": {}
        }
      ]
    },
    {
      "cell_type": "markdown",
      "source": [
        "##Measures of Dispersion"
      ],
      "metadata": {
        "id": "MCUUZvlVT6_F"
      }
    },
    {
      "cell_type": "markdown",
      "source": [
        "###Variance"
      ],
      "metadata": {
        "id": "aozB3mL4AOrM"
      }
    },
    {
      "cell_type": "markdown",
      "source": [
        "IQR is a relatively rare measure of the dispersion of values around the center of a distribution. The most widely-used are:\n",
        "\n",
        "* Variance,\n",
        "* Standard deviation, and\n",
        "* Standard error."
      ],
      "metadata": {
        "id": "40_lAp23T68N"
      }
    },
    {
      "cell_type": "markdown",
      "source": [
        "![image.png](data:image/png;base64,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)\n",
        "\n",
        "**Variance** (denoted with $\\sigma^2$) can be written using expected-value notation, but it's easier to understand without it:\n",
        "$$ \\sigma^2 = \\frac{\\sum_{i=1}^n (x_i-\\bar{x})^2}{n} $$"
      ],
      "metadata": {
        "id": "K2IxCQrE91tU"
      }
    },
    {
      "cell_type": "markdown",
      "source": [
        "(The astute follower of the *Machine Learning Foundations* series may notice that this formula is the same as mean-squared-error cost, except $x_i$ is being compared to the mean $\\mu$ instead of a predicted value $\\hat{x}_i$.)"
      ],
      "metadata": {
        "id": "qSOGQf-y-aUq"
      }
    },
    {
      "cell_type": "markdown",
      "source": [
        "(Technically speaking, we should divide by $n$-1 with a sample of data, but with the large datasets typical of machine learning, it's a negligible difference. If $n$ were equal to a small number like 8 then it would matter.)"
      ],
      "metadata": {
        "id": "hQNl6Ap7T62f"
      }
    },
    {
      "cell_type": "markdown",
      "source": [
        "(Also technically speaking, the variance of a sample is typically denoted with $s^2$ as opposed to the Greek $\\sigma^2$, akin to how $\\bar{x}$ denotes the mean of a sample while the Greek $\\mu$ is reserved for population mean.)"
      ],
      "metadata": {
        "id": "2PJ93dyfT6zd"
      }
    },
    {
      "cell_type": "markdown",
      "source": [
        "As an example let's calculate the variance of the PDF `x` from earlier:"
      ],
      "metadata": {
        "id": "mc1STA1HT6uN"
      }
    },
    {
      "cell_type": "code",
      "source": [
        "xbar = np.mean(x)\n",
        "xbar"
      ],
      "metadata": {
        "colab": {
          "base_uri": "https://localhost:8080/"
        },
        "id": "kMjJyaY8T6rN",
        "outputId": "0ddb530e-5893-44aa-9afc-9d7d0616433e"
      },
      "execution_count": 69,
      "outputs": [
        {
          "output_type": "execute_result",
          "data": {
            "text/plain": [
              "0.8219573880882259"
            ]
          },
          "metadata": {},
          "execution_count": 69
        }
      ]
    },
    {
      "cell_type": "code",
      "source": [
        "squared_differences = [(x_i - xbar)**2 for x_i in x]"
      ],
      "metadata": {
        "id": "1Cda4EUFT6oV"
      },
      "execution_count": 70,
      "outputs": []
    },
    {
      "cell_type": "code",
      "source": [
        "squared_differences[0:10]"
      ],
      "metadata": {
        "colab": {
          "base_uri": "https://localhost:8080/"
        },
        "id": "EdAy5EMeT6ld",
        "outputId": "4e674aec-667d-40f1-b5dc-ada4d8105e39"
      },
      "execution_count": 71,
      "outputs": [
        {
          "output_type": "execute_result",
          "data": {
            "text/plain": [
              "[0.9856434536454379,\n",
              " 0.9170226052916489,\n",
              " 0.8965181282231266,\n",
              " 0.8883307031718269,\n",
              " 0.8733501430824243,\n",
              " 0.8562478309191935,\n",
              " 0.8319771034452769,\n",
              " 0.8310929040089835,\n",
              " 0.7863402041234238,\n",
              " 0.7766155393407362]"
            ]
          },
          "metadata": {},
          "execution_count": 71
        }
      ]
    },
    {
      "cell_type": "code",
      "source": [
        "sigma_squared = sum(squared_differences)/len(x)\n",
        "sigma_squared"
      ],
      "metadata": {
        "colab": {
          "base_uri": "https://localhost:8080/"
        },
        "id": "wA0OKNDDT6it",
        "outputId": "dc0c6e1a-9528-4ab2-d5bc-61bb8c13e1b2"
      },
      "execution_count": 72,
      "outputs": [
        {
          "output_type": "execute_result",
          "data": {
            "text/plain": [
              "0.39813585982250543"
            ]
          },
          "metadata": {},
          "execution_count": 72
        }
      ]
    },
    {
      "cell_type": "markdown",
      "source": [
        "Numpy has built-in method"
      ],
      "metadata": {
        "id": "WUcDoMbj_1Xj"
      }
    },
    {
      "cell_type": "code",
      "source": [
        "np.var(x)"
      ],
      "metadata": {
        "colab": {
          "base_uri": "https://localhost:8080/"
        },
        "id": "RjI60b8nT5zk",
        "outputId": "88336088-0003-4f94-a5af-d54c8375989d"
      },
      "execution_count": 73,
      "outputs": [
        {
          "output_type": "execute_result",
          "data": {
            "text/plain": [
              "0.3981358598225057"
            ]
          },
          "metadata": {},
          "execution_count": 73
        }
      ]
    },
    {
      "cell_type": "markdown",
      "source": [
        "###Standard Deviation"
      ],
      "metadata": {
        "id": "CctMPuOlT5vl"
      }
    },
    {
      "cell_type": "markdown",
      "source": [
        "A straightforward derivative of variance is **standard deviation** (denoted with $\\sigma$), which is convenient because its units are on the same scale as the values in the distribution:\n",
        "$$ \\sigma = \\sqrt{\\sigma^2} $$"
      ],
      "metadata": {
        "id": "CTZ9HS5UT5pt"
      }
    },
    {
      "cell_type": "markdown",
      "source": [
        "![image.png](data:image/png;base64,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)"
      ],
      "metadata": {
        "id": "vbAyEgZAMngk"
      }
    },
    {
      "cell_type": "code",
      "source": [
        "sigma = sigma_squared**(1/2)\n",
        "sigma"
      ],
      "metadata": {
        "colab": {
          "base_uri": "https://localhost:8080/"
        },
        "id": "wLqv2oHDT5nt",
        "outputId": "3a3ec039-4a2c-492c-b75d-74a6f1c1eea3"
      },
      "execution_count": 74,
      "outputs": [
        {
          "output_type": "execute_result",
          "data": {
            "text/plain": [
              "0.6309800787841923"
            ]
          },
          "metadata": {},
          "execution_count": 74
        }
      ]
    },
    {
      "cell_type": "code",
      "source": [
        "np.std(x)"
      ],
      "metadata": {
        "colab": {
          "base_uri": "https://localhost:8080/"
        },
        "id": "AfReQ4JCT5mV",
        "outputId": "cb1d6612-716a-42bc-9be5-d6d113d7579d"
      },
      "execution_count": 75,
      "outputs": [
        {
          "output_type": "execute_result",
          "data": {
            "text/plain": [
              "0.6309800787841925"
            ]
          },
          "metadata": {},
          "execution_count": 75
        }
      ]
    },
    {
      "cell_type": "code",
      "source": [
        "fig, ax = plt.subplots()\n",
        "plt.axvline(x = xbar, color='orange')\n",
        "plt.axvline(x = xbar+sigma, color='olivedrab')\n",
        "plt.axvline(x = xbar-sigma, color='olivedrab')\n",
        "_ = plt.hist(x, color = 'lightgray')"
      ],
      "metadata": {
        "colab": {
          "base_uri": "https://localhost:8080/",
          "height": 434
        },
        "id": "kLusI0jJT5kF",
        "outputId": "b833a0d7-d492-4393-bb88-1d8cec2cf8b0"
      },
      "execution_count": 76,
      "outputs": [
        {
          "output_type": "display_data",
          "data": {
            "text/plain": [
              "<Figure size 640x480 with 1 Axes>"
            ],
            "image/png": "[encoded data removed]"
          },
          "metadata": {}
        }
      ]
    },
    {
      "cell_type": "markdown",
      "source": [
        "###Standard Error"
      ],
      "metadata": {
        "id": "IbxJb9ufT5iF"
      }
    },
    {
      "cell_type": "markdown",
      "source": [
        "A further derivation of standard deviation is **standard error**, which is denoted with $\\sigma_\\bar{x}$:\n",
        "$$ \\sigma_\\bar{x} = \\frac{\\sigma}{\\sqrt{n}} $$"
      ],
      "metadata": {
        "id": "KtODG0msMsF9"
      }
    },
    {
      "cell_type": "markdown",
      "source": [
        "![image.png](data:image/png;base64,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)"
      ],
      "metadata": {
        "id": "hzi5BFtTPPzF"
      }
    },
    {
      "cell_type": "code",
      "source": [
        "sigma/(len(x))**(1/2)"
      ],
      "metadata": {
        "colab": {
          "base_uri": "https://localhost:8080/"
        },
        "id": "WisW2gUpT5d0",
        "outputId": "7816f7d3-3693-4e9e-da50-19bd3f7d05be"
      },
      "execution_count": 77,
      "outputs": [
        {
          "output_type": "execute_result",
          "data": {
            "text/plain": [
              "0.019953342071505353"
            ]
          },
          "metadata": {},
          "execution_count": 77
        }
      ]
    },
    {
      "cell_type": "code",
      "source": [
        "st.sem(x) # defaults to 1 degree of freedom (n-1), which can be ignored with the larger data sets of ML"
      ],
      "metadata": {
        "colab": {
          "base_uri": "https://localhost:8080/"
        },
        "id": "g30D9peUT5bt",
        "outputId": "9dcdf61c-2379-49b4-d839-4fa3b2781fba"
      },
      "execution_count": 78,
      "outputs": [
        {
          "output_type": "execute_result",
          "data": {
            "text/plain": [
              "0.01996332623128527"
            ]
          },
          "metadata": {},
          "execution_count": 78
        }
      ]
    },
    {
      "cell_type": "code",
      "source": [
        "st.sem(x, ddof=0) # 0 degrees of freedom (n)"
      ],
      "metadata": {
        "colab": {
          "base_uri": "https://localhost:8080/"
        },
        "id": "BypCwq1pT5Z8",
        "outputId": "b4fffec9-e0b5-4cd1-b9b0-7aa1f20f6369"
      },
      "execution_count": 79,
      "outputs": [
        {
          "output_type": "execute_result",
          "data": {
            "text/plain": [
              "0.01995334207150536"
            ]
          },
          "metadata": {},
          "execution_count": 79
        }
      ]
    },
    {
      "cell_type": "markdown",
      "source": [
        "Standard error enables us to compare whether the means of two distributions differ *significantly*.\n"
      ],
      "metadata": {
        "id": "3m7xtUSvT5Ut"
      }
    },
    {
      "cell_type": "markdown",
      "source": [
        "##Measure of Relatedness"
      ],
      "metadata": {
        "id": "10g_RmojT5SF"
      }
    },
    {
      "cell_type": "markdown",
      "source": [
        "###Covariance"
      ],
      "metadata": {
        "id": "CFmSwvCAVp5W"
      }
    },
    {
      "cell_type": "markdown",
      "source": [
        "If we have two vectors of the same length, $x$ and $y$, where each element of $x$ is paired with the corresponding element of $y$, **covariance** provides a measure of how related the variables are to each other:\n",
        "$$ \\text{cov}(x, y) = \\frac{\\sum_{i=1}^n (x_i - \\bar{x})(y_i - \\bar{y}) }{n} $$"
      ],
      "metadata": {
        "id": "rOCuBXLTT5PW"
      }
    },
    {
      "cell_type": "markdown",
      "source": [
        "![image.png](data:image/png;base64,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)"
      ],
      "metadata": {
        "id": "srZ7rwx1V9De"
      }
    },
    {
      "cell_type": "code",
      "source": [
        "iris"
      ],
      "metadata": {
        "colab": {
          "base_uri": "https://localhost:8080/",
          "height": 423
        },
        "id": "prpgTc6GT5Mt",
        "outputId": "c95b81a9-f257-49c4-d6f2-fac11769b1fe"
      },
      "execution_count": 80,
      "outputs": [
        {
          "output_type": "execute_result",
          "data": {
            "text/plain": [
              "     sepal_length  sepal_width  petal_length  petal_width    species\n",
              "0             5.1          3.5           1.4          0.2     setosa\n",
              "1             4.9          3.0           1.4          0.2     setosa\n",
              "2             4.7          3.2           1.3          0.2     setosa\n",
              "3             4.6          3.1           1.5          0.2     setosa\n",
              "4             5.0          3.6           1.4          0.2     setosa\n",
              "..            ...          ...           ...          ...        ...\n",
              "145           6.7          3.0           5.2          2.3  virginica\n",
              "146           6.3          2.5           5.0          1.9  virginica\n",
              "147           6.5          3.0           5.2          2.0  virginica\n",
              "148           6.2          3.4           5.4          2.3  virginica\n",
              "149           5.9          3.0           5.1          1.8  virginica\n",
              "\n",
              "[150 rows x 5 columns]"
            ],
            "text/html": [
              "\n",
              "  <div id=\"df-f03c4f0e-01f4-4bea-b842-c51835c57cde\" class=\"colab-df-container\">\n",
              "    <div>\n",
              "<style scoped>\n",
              "    .dataframe tbody tr th:only-of-type {\n",
              "        vertical-align: middle;\n",
              "    }\n",
              "\n",
              "    .dataframe tbody tr th {\n",
              "        vertical-align: top;\n",
              "    }\n",
              "\n",
              "    .dataframe thead th {\n",
              "        text-align: right;\n",
              "    }\n",
              "</style>\n",
              "<table border=\"1\" class=\"dataframe\">\n",
              "  <thead>\n",
              "    <tr style=\"text-align: right;\">\n",
              "      <th></th>\n",
              "      <th>sepal_length</th>\n",
              "      <th>sepal_width</th>\n",
              "      <th>petal_length</th>\n",
              "      <th>petal_width</th>\n",
              "      <th>species</th>\n",
              "    </tr>\n",
              "  </thead>\n",
              "  <tbody>\n",
              "    <tr>\n",
              "      <th>0</th>\n",
              "      <td>5.1</td>\n",
              "      <td>3.5</td>\n",
              "      <td>1.4</td>\n",
              "      <td>0.2</td>\n",
              "      <td>setosa</td>\n",
              "    </tr>\n",
              "    <tr>\n",
              "      <th>1</th>\n",
              "      <td>4.9</td>\n",
              "      <td>3.0</td>\n",
              "      <td>1.4</td>\n",
              "      <td>0.2</td>\n",
              "      <td>setosa</td>\n",
              "    </tr>\n",
              "    <tr>\n",
              "      <th>2</th>\n",
              "      <td>4.7</td>\n",
              "      <td>3.2</td>\n",
              "      <td>1.3</td>\n",
              "      <td>0.2</td>\n",
              "      <td>setosa</td>\n",
              "    </tr>\n",
              "    <tr>\n",
              "      <th>3</th>\n",
              "      <td>4.6</td>\n",
              "      <td>3.1</td>\n",
              "      <td>1.5</td>\n",
              "      <td>0.2</td>\n",
              "      <td>setosa</td>\n",
              "    </tr>\n",
              "    <tr>\n",
              "      <th>4</th>\n",
              "      <td>5.0</td>\n",
              "      <td>3.6</td>\n",
              "      <td>1.4</td>\n",
              "      <td>0.2</td>\n",
              "      <td>setosa</td>\n",
              "    </tr>\n",
              "    <tr>\n",
              "      <th>...</th>\n",
              "      <td>...</td>\n",
              "      <td>...</td>\n",
              "      <td>...</td>\n",
              "      <td>...</td>\n",
              "      <td>...</td>\n",
              "    </tr>\n",
              "    <tr>\n",
              "      <th>145</th>\n",
              "      <td>6.7</td>\n",
              "      <td>3.0</td>\n",
              "      <td>5.2</td>\n",
              "      <td>2.3</td>\n",
              "      <td>virginica</td>\n",
              "    </tr>\n",
              "    <tr>\n",
              "      <th>146</th>\n",
              "      <td>6.3</td>\n",
              "      <td>2.5</td>\n",
              "      <td>5.0</td>\n",
              "      <td>1.9</td>\n",
              "      <td>virginica</td>\n",
              "    </tr>\n",
              "    <tr>\n",
              "      <th>147</th>\n",
              "      <td>6.5</td>\n",
              "      <td>3.0</td>\n",
              "      <td>5.2</td>\n",
              "      <td>2.0</td>\n",
              "      <td>virginica</td>\n",
              "    </tr>\n",
              "    <tr>\n",
              "      <th>148</th>\n",
              "      <td>6.2</td>\n",
              "      <td>3.4</td>\n",
              "      <td>5.4</td>\n",
              "      <td>2.3</td>\n",
              "      <td>virginica</td>\n",
              "    </tr>\n",
              "    <tr>\n",
              "      <th>149</th>\n",
              "      <td>5.9</td>\n",
              "      <td>3.0</td>\n",
              "      <td>5.1</td>\n",
              "      <td>1.8</td>\n",
              "      <td>virginica</td>\n",
              "    </tr>\n",
              "  </tbody>\n",
              "</table>\n",
              "<p>150 rows × 5 columns</p>\n",
              "</div>\n",
              "    <div class=\"colab-df-buttons\">\n",
              "\n",
              "  <div class=\"colab-df-container\">\n",
              "    <button class=\"colab-df-convert\" onclick=\"convertToInteractive('df-f03c4f0e-01f4-4bea-b842-c51835c57cde')\"\n",
              "            title=\"Convert this dataframe to an interactive table.\"\n",
              "            style=\"display:none;\">\n",
              "\n",
              "  <svg xmlns=\"http://www.w3.org/2000/svg\" height=\"24px\" viewBox=\"0 -960 960 960\">\n",
              "    <path d=\"M120-120v-720h720v720H120Zm60-500h600v-160H180v160Zm220 220h160v-160H400v160Zm0 220h160v-160H400v160ZM180-400h160v-160H180v160Zm440 0h160v-160H620v160ZM180-180h160v-160H180v160Zm440 0h160v-160H620v160Z\"/>\n",
              "  </svg>\n",
              "    </button>\n",
              "\n",
              "  <style>\n",
              "    .colab-df-container {\n",
              "      display:flex;\n",
              "      gap: 12px;\n",
              "    }\n",
              "\n",
              "    .colab-df-convert {\n",
              "      background-color: #E8F0FE;\n",
              "      border: none;\n",
              "      border-radius: 50%;\n",
              "      cursor: pointer;\n",
              "      display: none;\n",
              "      fill: #1967D2;\n",
              "      height: 32px;\n",
              "      padding: 0 0 0 0;\n",
              "      width: 32px;\n",
              "    }\n",
              "\n",
              "    .colab-df-convert:hover {\n",
              "      background-color: #E2EBFA;\n",
              "      box-shadow: 0px 1px 2px rgba(60, 64, 67, 0.3), 0px 1px 3px 1px rgba(60, 64, 67, 0.15);\n",
              "      fill: #174EA6;\n",
              "    }\n",
              "\n",
              "    .colab-df-buttons div {\n",
              "      margin-bottom: 4px;\n",
              "    }\n",
              "\n",
              "    [theme=dark] .colab-df-convert {\n",
              "      background-color: #3B4455;\n",
              "      fill: #D2E3FC;\n",
              "    }\n",
              "\n",
              "    [theme=dark] .colab-df-convert:hover {\n",
              "      background-color: #434B5C;\n",
              "      box-shadow: 0px 1px 3px 1px rgba(0, 0, 0, 0.15);\n",
              "      filter: drop-shadow(0px 1px 2px rgba(0, 0, 0, 0.3));\n",
              "      fill: #FFFFFF;\n",
              "    }\n",
              "  </style>\n",
              "\n",
              "    <script>\n",
              "      const buttonEl =\n",
              "        document.querySelector('#df-f03c4f0e-01f4-4bea-b842-c51835c57cde button.colab-df-convert');\n",
              "      buttonEl.style.display =\n",
              "        google.colab.kernel.accessAllowed ? 'block' : 'none';\n",
              "\n",
              "      async function convertToInteractive(key) {\n",
              "        const element = document.querySelector('#df-f03c4f0e-01f4-4bea-b842-c51835c57cde');\n",
              "        const dataTable =\n",
              "          await google.colab.kernel.invokeFunction('convertToInteractive',\n",
              "                                                    [key], {});\n",
              "        if (!dataTable) return;\n",
              "\n",
              "        const docLinkHtml = 'Like what you see? Visit the ' +\n",
              "          '<a target=\"_blank\" href=https://colab.research.google.com/notebooks/data_table.ipynb>data table notebook</a>'\n",
              "          + ' to learn more about interactive tables.';\n",
              "        element.innerHTML = '';\n",
              "        dataTable['output_type'] = 'display_data';\n",
              "        await google.colab.output.renderOutput(dataTable, element);\n",
              "        const docLink = document.createElement('div');\n",
              "        docLink.innerHTML = docLinkHtml;\n",
              "        element.appendChild(docLink);\n",
              "      }\n",
              "    </script>\n",
              "  </div>\n",
              "\n",
              "\n",
              "<div id=\"df-f5afe27d-ec22-477b-a5b0-c5113ac22624\">\n",
              "  <button class=\"colab-df-quickchart\" onclick=\"quickchart('df-f5afe27d-ec22-477b-a5b0-c5113ac22624')\"\n",
              "            title=\"Suggest charts\"\n",
              "            style=\"display:none;\">\n",
              "\n",
              "<svg xmlns=\"http://www.w3.org/2000/svg\" height=\"24px\"viewBox=\"0 0 24 24\"\n",
              "     width=\"24px\">\n",
              "    <g>\n",
              "        <path d=\"M19 3H5c-1.1 0-2 .9-2 2v14c0 1.1.9 2 2 2h14c1.1 0 2-.9 2-2V5c0-1.1-.9-2-2-2zM9 17H7v-7h2v7zm4 0h-2V7h2v10zm4 0h-2v-4h2v4z\"/>\n",
              "    </g>\n",
              "</svg>\n",
              "  </button>\n",
              "\n",
              "<style>\n",
              "  .colab-df-quickchart {\n",
              "      --bg-color: #E8F0FE;\n",
              "      --fill-color: #1967D2;\n",
              "      --hover-bg-color: #E2EBFA;\n",
              "      --hover-fill-color: #174EA6;\n",
              "      --disabled-fill-color: #AAA;\n",
              "      --disabled-bg-color: #DDD;\n",
              "  }\n",
              "\n",
              "  [theme=dark] .colab-df-quickchart {\n",
              "      --bg-color: #3B4455;\n",
              "      --fill-color: #D2E3FC;\n",
              "      --hover-bg-color: #434B5C;\n",
              "      --hover-fill-color: #FFFFFF;\n",
              "      --disabled-bg-color: #3B4455;\n",
              "      --disabled-fill-color: #666;\n",
              "  }\n",
              "\n",
              "  .colab-df-quickchart {\n",
              "    background-color: var(--bg-color);\n",
              "    border: none;\n",
              "    border-radius: 50%;\n",
              "    cursor: pointer;\n",
              "    display: none;\n",
              "    fill: var(--fill-color);\n",
              "    height: 32px;\n",
              "    padding: 0;\n",
              "    width: 32px;\n",
              "  }\n",
              "\n",
              "  .colab-df-quickchart:hover {\n",
              "    background-color: var(--hover-bg-color);\n",
              "    box-shadow: 0 1px 2px rgba(60, 64, 67, 0.3), 0 1px 3px 1px rgba(60, 64, 67, 0.15);\n",
              "    fill: var(--button-hover-fill-color);\n",
              "  }\n",
              "\n",
              "  .colab-df-quickchart-complete:disabled,\n",
              "  .colab-df-quickchart-complete:disabled:hover {\n",
              "    background-color: var(--disabled-bg-color);\n",
              "    fill: var(--disabled-fill-color);\n",
              "    box-shadow: none;\n",
              "  }\n",
              "\n",
              "  .colab-df-spinner {\n",
              "    border: 2px solid var(--fill-color);\n",
              "    border-color: transparent;\n",
              "    border-bottom-color: var(--fill-color);\n",
              "    animation:\n",
              "      spin 1s steps(1) infinite;\n",
              "  }\n",
              "\n",
              "  @keyframes spin {\n",
              "    0% {\n",
              "      border-color: transparent;\n",
              "      border-bottom-color: var(--fill-color);\n",
              "      border-left-color: var(--fill-color);\n",
              "    }\n",
              "    20% {\n",
              "      border-color: transparent;\n",
              "      border-left-color: var(--fill-color);\n",
              "      border-top-color: var(--fill-color);\n",
              "    }\n",
              "    30% {\n",
              "      border-color: transparent;\n",
              "      border-left-color: var(--fill-color);\n",
              "      border-top-color: var(--fill-color);\n",
              "      border-right-color: var(--fill-color);\n",
              "    }\n",
              "    40% {\n",
              "      border-color: transparent;\n",
              "      border-right-color: var(--fill-color);\n",
              "      border-top-color: var(--fill-color);\n",
              "    }\n",
              "    60% {\n",
              "      border-color: transparent;\n",
              "      border-right-color: var(--fill-color);\n",
              "    }\n",
              "    80% {\n",
              "      border-color: transparent;\n",
              "      border-right-color: var(--fill-color);\n",
              "      border-bottom-color: var(--fill-color);\n",
              "    }\n",
              "    90% {\n",
              "      border-color: transparent;\n",
              "      border-bottom-color: var(--fill-color);\n",
              "    }\n",
              "  }\n",
              "</style>\n",
              "\n",
              "  <script>\n",
              "    async function quickchart(key) {\n",
              "      const quickchartButtonEl =\n",
              "        document.querySelector('#' + key + ' button');\n",
              "      quickchartButtonEl.disabled = true;  // To prevent multiple clicks.\n",
              "      quickchartButtonEl.classList.add('colab-df-spinner');\n",
              "      try {\n",
              "        const charts = await google.colab.kernel.invokeFunction(\n",
              "            'suggestCharts', [key], {});\n",
              "      } catch (error) {\n",
              "        console.error('Error during call to suggestCharts:', error);\n",
              "      }\n",
              "      quickchartButtonEl.classList.remove('colab-df-spinner');\n",
              "      quickchartButtonEl.classList.add('colab-df-quickchart-complete');\n",
              "    }\n",
              "    (() => {\n",
              "      let quickchartButtonEl =\n",
              "        document.querySelector('#df-f5afe27d-ec22-477b-a5b0-c5113ac22624 button');\n",
              "      quickchartButtonEl.style.display =\n",
              "        google.colab.kernel.accessAllowed ? 'block' : 'none';\n",
              "    })();\n",
              "  </script>\n",
              "</div>\n",
              "\n",
              "  <div id=\"id_bbae5333-73d9-4577-a4f1-b7ae3f0a81c3\">\n",
              "    <style>\n",
              "      .colab-df-generate {\n",
              "        background-color: #E8F0FE;\n",
              "        border: none;\n",
              "        border-radius: 50%;\n",
              "        cursor: pointer;\n",
              "        display: none;\n",
              "        fill: #1967D2;\n",
              "        height: 32px;\n",
              "        padding: 0 0 0 0;\n",
              "        width: 32px;\n",
              "      }\n",
              "\n",
              "      .colab-df-generate:hover {\n",
              "        background-color: #E2EBFA;\n",
              "        box-shadow: 0px 1px 2px rgba(60, 64, 67, 0.3), 0px 1px 3px 1px rgba(60, 64, 67, 0.15);\n",
              "        fill: #174EA6;\n",
              "      }\n",
              "\n",
              "      [theme=dark] .colab-df-generate {\n",
              "        background-color: #3B4455;\n",
              "        fill: #D2E3FC;\n",
              "      }\n",
              "\n",
              "      [theme=dark] .colab-df-generate:hover {\n",
              "        background-color: #434B5C;\n",
              "        box-shadow: 0px 1px 3px 1px rgba(0, 0, 0, 0.15);\n",
              "        filter: drop-shadow(0px 1px 2px rgba(0, 0, 0, 0.3));\n",
              "        fill: #FFFFFF;\n",
              "      }\n",
              "    </style>\n",
              "    <button class=\"colab-df-generate\" onclick=\"generateWithVariable('iris')\"\n",
              "            title=\"Generate code using this dataframe.\"\n",
              "            style=\"display:none;\">\n",
              "\n",
              "  <svg xmlns=\"http://www.w3.org/2000/svg\" height=\"24px\"viewBox=\"0 0 24 24\"\n",
              "       width=\"24px\">\n",
              "    <path d=\"M7,19H8.4L18.45,9,17,7.55,7,17.6ZM5,21V16.75L18.45,3.32a2,2,0,0,1,2.83,0l1.4,1.43a1.91,1.91,0,0,1,.58,1.4,1.91,1.91,0,0,1-.58,1.4L9.25,21ZM18.45,9,17,7.55Zm-12,3A5.31,5.31,0,0,0,4.9,8.1,5.31,5.31,0,0,0,1,6.5,5.31,5.31,0,0,0,4.9,4.9,5.31,5.31,0,0,0,6.5,1,5.31,5.31,0,0,0,8.1,4.9,5.31,5.31,0,0,0,12,6.5,5.46,5.46,0,0,0,6.5,12Z\"/>\n",
              "  </svg>\n",
              "    </button>\n",
              "    <script>\n",
              "      (() => {\n",
              "      const buttonEl =\n",
              "        document.querySelector('#id_bbae5333-73d9-4577-a4f1-b7ae3f0a81c3 button.colab-df-generate');\n",
              "      buttonEl.style.display =\n",
              "        google.colab.kernel.accessAllowed ? 'block' : 'none';\n",
              "\n",
              "      buttonEl.onclick = () => {\n",
              "        google.colab.notebook.generateWithVariable('iris');\n",
              "      }\n",
              "      })();\n",
              "    </script>\n",
              "  </div>\n",
              "\n",
              "    </div>\n",
              "  </div>\n"
            ],
            "application/vnd.google.colaboratory.intrinsic+json": {
              "type": "dataframe",
              "variable_name": "iris",
              "summary": "{\n  \"name\": \"iris\",\n  \"rows\": 150,\n  \"fields\": [\n    {\n      \"column\": \"sepal_length\",\n      \"properties\": {\n        \"dtype\": \"number\",\n        \"std\": 0.828066127977863,\n        \"min\": 4.3,\n        \"max\": 7.9,\n        \"num_unique_values\": 35,\n        \"samples\": [\n          6.2,\n          4.5,\n          5.6\n        ],\n        \"semantic_type\": \"\",\n        \"description\": \"\"\n      }\n    },\n    {\n      \"column\": \"sepal_width\",\n      \"properties\": {\n        \"dtype\": \"number\",\n        \"std\": 0.4358662849366982,\n        \"min\": 2.0,\n        \"max\": 4.4,\n        \"num_unique_values\": 23,\n        \"samples\": [\n          2.3,\n          4.0,\n          3.5\n        ],\n        \"semantic_type\": \"\",\n        \"description\": \"\"\n      }\n    },\n    {\n      \"column\": \"petal_length\",\n      \"properties\": {\n        \"dtype\": \"number\",\n        \"std\": 1.7652982332594662,\n        \"min\": 1.0,\n        \"max\": 6.9,\n        \"num_unique_values\": 43,\n        \"samples\": [\n          6.7,\n          3.8,\n          3.7\n        ],\n        \"semantic_type\": \"\",\n        \"description\": \"\"\n      }\n    },\n    {\n      \"column\": \"petal_width\",\n      \"properties\": {\n        \"dtype\": \"number\",\n        \"std\": 0.7622376689603465,\n        \"min\": 0.1,\n        \"max\": 2.5,\n        \"num_unique_values\": 22,\n        \"samples\": [\n          0.2,\n          1.2,\n          1.3\n        ],\n        \"semantic_type\": \"\",\n        \"description\": \"\"\n      }\n    },\n    {\n      \"column\": \"species\",\n      \"properties\": {\n        \"dtype\": \"category\",\n        \"num_unique_values\": 3,\n        \"samples\": [\n          \"setosa\",\n          \"versicolor\",\n          \"virginica\"\n        ],\n        \"semantic_type\": \"\",\n        \"description\": \"\"\n      }\n    }\n  ]\n}"
            }
          },
          "metadata": {},
          "execution_count": 80
        }
      ]
    },
    {
      "cell_type": "code",
      "source": [
        "x = iris.sepal_length\n",
        "y = iris.petal_length"
      ],
      "metadata": {
        "id": "gzeAWpJ8T5Jz"
      },
      "execution_count": 81,
      "outputs": []
    },
    {
      "cell_type": "code",
      "source": [
        "_ = sns.scatterplot(x=x, y=y)"
      ],
      "metadata": {
        "colab": {
          "base_uri": "https://localhost:8080/",
          "height": 458
        },
        "id": "fuZGFQWdT5HI",
        "outputId": "5236d980-623b-4ef8-c845-bf149f586b2d"
      },
      "execution_count": 82,
      "outputs": [
        {
          "output_type": "display_data",
          "data": {
            "text/plain": [
              "<Figure size 640x480 with 1 Axes>"
            ],
            "image/png": "[encoded data removed]"
          },
          "metadata": {}
        }
      ]
    },
    {
      "cell_type": "code",
      "source": [
        "n = len(x)"
      ],
      "metadata": {
        "id": "QdSc3UqyT5EG"
      },
      "execution_count": 83,
      "outputs": []
    },
    {
      "cell_type": "code",
      "source": [
        "xbar = sum(x)/n\n",
        "ybar = sum(y)/n"
      ],
      "metadata": {
        "id": "F200kGmRT5Bl"
      },
      "execution_count": 84,
      "outputs": []
    },
    {
      "cell_type": "code",
      "source": [
        "product = []\n",
        "for i in range(n):\n",
        "    product.append((x[i]-xbar)*(y[i]-ybar))"
      ],
      "metadata": {
        "id": "Z1FoC8cDT4-t"
      },
      "execution_count": 85,
      "outputs": []
    },
    {
      "cell_type": "code",
      "source": [
        "cov = sum(product)/n\n",
        "cov"
      ],
      "metadata": {
        "colab": {
          "base_uri": "https://localhost:8080/"
        },
        "id": "4s7rg04fT479",
        "outputId": "6d58cd41-b73f-4d22-c98f-c0088da92e76"
      },
      "execution_count": 86,
      "outputs": [
        {
          "output_type": "execute_result",
          "data": {
            "text/plain": [
              "1.2658199999999995"
            ]
          },
          "metadata": {},
          "execution_count": 86
        }
      ]
    },
    {
      "cell_type": "markdown",
      "source": [
        "The NumPy `cov()` method returns a **covariance matrix**, which is a $2 \\times 2$ matrix because $x$ and $y$ together describe a two-dimensional space:"
      ],
      "metadata": {
        "id": "GtsK7k9tT45N"
      }
    },
    {
      "cell_type": "code",
      "source": [
        "np.cov(x, y, ddof=0) # again, defaults to ddof=1"
      ],
      "metadata": {
        "colab": {
          "base_uri": "https://localhost:8080/"
        },
        "id": "30mL5CWKT42f",
        "outputId": "98c01405-61db-4aa5-fb56-345107d659e2"
      },
      "execution_count": 87,
      "outputs": [
        {
          "output_type": "execute_result",
          "data": {
            "text/plain": [
              "array([[0.68112222, 1.26582   ],\n",
              "       [1.26582   , 3.09550267]])"
            ]
          },
          "metadata": {},
          "execution_count": 87
        }
      ]
    },
    {
      "cell_type": "markdown",
      "source": [
        "The diagonal elements of the covariance matrix represent the variance of $x$ and $y$, respectively:"
      ],
      "metadata": {
        "id": "I4cZ35zqT4z9"
      }
    },
    {
      "cell_type": "code",
      "source": [
        "np.var(x)"
      ],
      "metadata": {
        "colab": {
          "base_uri": "https://localhost:8080/"
        },
        "id": "mgY2Cv3lT4wF",
        "outputId": "1afac130-7745-44d7-e16a-53924c1e5d2f"
      },
      "execution_count": 88,
      "outputs": [
        {
          "output_type": "execute_result",
          "data": {
            "text/plain": [
              "0.6811222222222223"
            ]
          },
          "metadata": {},
          "execution_count": 88
        }
      ]
    },
    {
      "cell_type": "code",
      "source": [
        "np.var(y)"
      ],
      "metadata": {
        "colab": {
          "base_uri": "https://localhost:8080/"
        },
        "id": "m7Nkxb60T4tW",
        "outputId": "ed59df1d-2f09-4c79-b7e3-206c86dd47ea"
      },
      "execution_count": 89,
      "outputs": [
        {
          "output_type": "execute_result",
          "data": {
            "text/plain": [
              "3.0955026666666665"
            ]
          },
          "metadata": {},
          "execution_count": 89
        }
      ]
    },
    {
      "cell_type": "markdown",
      "source": [
        "If $x$ and $y$ are inversely related, their covariance is negative. The less related they are, the closer their covariance is to zero:"
      ],
      "metadata": {
        "id": "HfhR74Y6T4q9"
      }
    },
    {
      "cell_type": "code",
      "source": [
        "_ = sns.scatterplot(x=iris.sepal_length, y=iris.sepal_width)"
      ],
      "metadata": {
        "colab": {
          "base_uri": "https://localhost:8080/",
          "height": 461
        },
        "id": "3qI6d7CpT4n9",
        "outputId": "7df32a48-d68b-4e66-d078-4148f9a3a6a9"
      },
      "execution_count": 90,
      "outputs": [
        {
          "output_type": "display_data",
          "data": {
            "text/plain": [
              "<Figure size 640x480 with 1 Axes>"
            ],
            "image/png": "[encoded data removed]"
          },
          "metadata": {}
        }
      ]
    },
    {
      "cell_type": "code",
      "source": [
        "np.cov(iris.sepal_length, iris.sepal_width, ddof=0)"
      ],
      "metadata": {
        "colab": {
          "base_uri": "https://localhost:8080/"
        },
        "id": "DY4INOOOT4k9",
        "outputId": "ae920f5a-4004-414d-eaf7-4f9166e5aa03"
      },
      "execution_count": 91,
      "outputs": [
        {
          "output_type": "execute_result",
          "data": {
            "text/plain": [
              "array([[ 0.68112222, -0.04215111],\n",
              "       [-0.04215111,  0.18871289]])"
            ]
          },
          "metadata": {},
          "execution_count": 91
        }
      ]
    },
    {
      "cell_type": "markdown",
      "source": [
        "###Correlation"
      ],
      "metadata": {
        "id": "vjou1iIzT4id"
      }
    },
    {
      "cell_type": "markdown",
      "source": [
        "A drawback of covariance is that it confounds the relative scale of two variables with a measure of the variables' relatedness. **Correlation** builds on covariance and overcomes this drawback via rescaling, thereby measuring relatedness exclusively. Correlation is much more common because of this difference.\n",
        "\n",
        "The correlation coefficient (developed by Karl Pearson in the 20th c. though known in the 19th c.) is often denoted with $r$ or $\\rho$ and is defined by:\n",
        "$$ \\rho_{x,y} = \\frac{\\text{cov}(x,y)}{\\sigma_x \\sigma_y} $$"
      ],
      "metadata": {
        "id": "EtPw8Dy5T4fu"
      }
    },
    {
      "cell_type": "markdown",
      "source": [
        "![image.png](data:image/png;base64,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)"
      ],
      "metadata": {
        "id": "IqgChgheaUp4"
      }
    },
    {
      "cell_type": "code",
      "source": [
        "cov = -0.04215111\n",
        "sigma_sq_x = 0.68112222\n",
        "sigma_sq_y = 0.18871289"
      ],
      "metadata": {
        "id": "P-oSGjehT4cn"
      },
      "execution_count": 92,
      "outputs": []
    },
    {
      "cell_type": "code",
      "source": [
        "sigma_x = sigma_sq_x**(1/2)\n",
        "sigma_y = sigma_sq_y**(1/2)"
      ],
      "metadata": {
        "id": "lnQMoA-7T4Zv"
      },
      "execution_count": 93,
      "outputs": []
    },
    {
      "cell_type": "code",
      "source": [
        "cov / (sigma_x * sigma_y)"
      ],
      "metadata": {
        "colab": {
          "base_uri": "https://localhost:8080/"
        },
        "id": "tO1A_eu4T4XG",
        "outputId": "71bf2eff-0ed0-493f-f618-c00def3763dc"
      },
      "execution_count": 94,
      "outputs": [
        {
          "output_type": "execute_result",
          "data": {
            "text/plain": [
              "-0.11756978087951572"
            ]
          },
          "metadata": {},
          "execution_count": 94
        }
      ]
    },
    {
      "cell_type": "code",
      "source": [
        "st.pearsonr(iris.sepal_length, iris.sepal_width)"
      ],
      "metadata": {
        "colab": {
          "base_uri": "https://localhost:8080/"
        },
        "id": "rHAy3YMRT4Ud",
        "outputId": "8a19c526-7cd1-4959-d892-1812d39a8e46"
      },
      "execution_count": 95,
      "outputs": [
        {
          "output_type": "execute_result",
          "data": {
            "text/plain": [
              "PearsonRResult(statistic=-0.11756978413300206, pvalue=0.15189826071144746)"
            ]
          },
          "metadata": {},
          "execution_count": 95
        }
      ]
    },
    {
      "cell_type": "markdown",
      "source": [
        "The second value output of `pearsonr` is a measure of statistical significance."
      ],
      "metadata": {
        "id": "jf0yC3ibT4R1"
      }
    },
    {
      "cell_type": "code",
      "source": [
        "st.pearsonr(iris.sepal_length, iris.sepal_width)[0]"
      ],
      "metadata": {
        "colab": {
          "base_uri": "https://localhost:8080/"
        },
        "id": "z6Kb5ej1T4PN",
        "outputId": "d20423e4-87ef-4e9a-c3df-ecb5fa02afab"
      },
      "execution_count": 96,
      "outputs": [
        {
          "output_type": "execute_result",
          "data": {
            "text/plain": [
              "-0.11756978413300206"
            ]
          },
          "metadata": {},
          "execution_count": 96
        }
      ]
    },
    {
      "cell_type": "markdown",
      "source": [
        "The closer $\\rho$ is to 1 or -1, the stronger the positive or negative correlation, respectively:"
      ],
      "metadata": {
        "id": "bxL0p9j9T4Mf"
      }
    },
    {
      "cell_type": "code",
      "source": [
        "st.pearsonr(iris.sepal_length, iris.petal_length)[0]"
      ],
      "metadata": {
        "colab": {
          "base_uri": "https://localhost:8080/"
        },
        "id": "qfskhqnDT4G1",
        "outputId": "b9896ebc-eae2-4d45-89fb-aa4afcb8a82f"
      },
      "execution_count": 97,
      "outputs": [
        {
          "output_type": "execute_result",
          "data": {
            "text/plain": [
              "0.8717537758865831"
            ]
          },
          "metadata": {},
          "execution_count": 97
        }
      ]
    },
    {
      "cell_type": "markdown",
      "source": [
        "N.B.: Covariance and correlation only account for linear relationships. Two variables could be non-linearly related to each other and these metrics could come out as zero."
      ],
      "metadata": {
        "id": "rvIkH43mT4D9"
      }
    },
    {
      "cell_type": "markdown",
      "source": [
        "#Segment 2: Distributions in Machine Learning"
      ],
      "metadata": {
        "id": "yTA-1u6_T4BF"
      }
    },
    {
      "cell_type": "markdown",
      "source": [
        "##Uniform"
      ],
      "metadata": {
        "id": "sMo_nnVmT3-F"
      }
    },
    {
      "cell_type": "markdown",
      "source": [
        "The uniform distribution is about as straightforward as they come. It has constant probabilities across the entire range of values in its domain:"
      ],
      "metadata": {
        "id": "IZkggA0AT37E"
      }
    },
    {
      "cell_type": "code",
      "source": [
        "u = np.random.uniform(size=1000000)"
      ],
      "metadata": {
        "id": "hmakAIHOcdLA"
      },
      "execution_count": 102,
      "outputs": []
    },
    {
      "cell_type": "code",
      "source": [
        "sns.set_style('ticks')"
      ],
      "metadata": {
        "id": "hoUHCId3T34O"
      },
      "execution_count": 103,
      "outputs": []
    },
    {
      "cell_type": "code",
      "source": [
        "_ = sns.displot(u)"
      ],
      "metadata": {
        "id": "vVxlU_0KT31d",
        "outputId": "49dcf6ef-b97b-4da6-d4c1-d20b08d40848",
        "colab": {
          "base_uri": "https://localhost:8080/",
          "height": 501
        }
      },
      "execution_count": 104,
      "outputs": [
        {
          "output_type": "display_data",
          "data": {
            "text/plain": [
              "<Figure size 500x500 with 1 Axes>"
            ],
            "image/png": "[encoded data removed]"
          },
          "metadata": {}
        }
      ]
    },
    {
      "cell_type": "markdown",
      "source": [
        "Real-world examples include:\n",
        "\n",
        "* Dice rolling (PMF)\n",
        "* Card drawing (PMF)\n",
        "* Model hyperparameters\n",
        "* Emission of radioactive particles\n",
        "* Economic demand\n",
        "* Analog-to-digital signal quantization errors"
      ],
      "metadata": {
        "id": "fGByfITcT3y-"
      }
    },
    {
      "cell_type": "markdown",
      "source": [
        "##Gaussian"
      ],
      "metadata": {
        "id": "8I-hcoKjT3wV"
      }
    },
    {
      "cell_type": "markdown",
      "source": [
        "Gaussian Normal and Standard Normal"
      ],
      "metadata": {
        "id": "pTDS8cuZK0PZ"
      }
    },
    {
      "cell_type": "markdown",
      "source": [
        "Carl Friedrich Gauss (early 19th c. German mathematician and scientist) is the namesake of over a hundred concepts across mathematics, physics, and astronomy. One of those concepts is the Gaussian distribution, also known as the \"**bell curve**\" (though several distributions are bell-shaped) or **normal distribution**:"
      ],
      "metadata": {
        "id": "-QJwpc61T3tW"
      }
    },
    {
      "cell_type": "code",
      "source": [
        "x = np.random.normal(size=1000000)"
      ],
      "metadata": {
        "id": "0eAb2oFiKEwA"
      },
      "execution_count": 110,
      "outputs": []
    },
    {
      "cell_type": "code",
      "source": [
        "_ = sns.displot(x)"
      ],
      "metadata": {
        "id": "y0Yd_VxZKEs4",
        "outputId": "153e57e7-2687-4340-c7ff-f844045ab3e3",
        "colab": {
          "base_uri": "https://localhost:8080/",
          "height": 501
        }
      },
      "execution_count": 111,
      "outputs": [
        {
          "output_type": "display_data",
          "data": {
            "text/plain": [
              "<Figure size 500x500 with 1 Axes>"
            ],
            "image/png": "[encoded data removed]"
          },
          "metadata": {}
        }
      ]
    },
    {
      "cell_type": "code",
      "source": [
        "_ = sns.displot(x, kde=True) #kernel density estimate (kde)"
      ],
      "metadata": {
        "id": "HlaJyn2oKEp5",
        "outputId": "7145c419-e935-4a8c-d47d-aa5dd06d9bc5",
        "colab": {
          "base_uri": "https://localhost:8080/",
          "height": 501
        }
      },
      "execution_count": 112,
      "outputs": [
        {
          "output_type": "display_data",
          "data": {
            "text/plain": [
              "<Figure size 500x500 with 1 Axes>"
            ],
            "image/png": "[encoded data removed]"
          },
          "metadata": {}
        }
      ]
    },
    {
      "cell_type": "markdown",
      "source": [
        "When the normal distribution has a mean ($\\mu$) of zero and standard deviation ($\\sigma$) of one, as it does by default with the NumPy `normal()` method..."
      ],
      "metadata": {
        "id": "aSC2gw60MV6g"
      }
    },
    {
      "cell_type": "code",
      "source": [
        "np.mean(x)"
      ],
      "metadata": {
        "id": "zTXCByTALFKg",
        "outputId": "6b4af495-f792-47b0-fa88-555a9e60aab1",
        "colab": {
          "base_uri": "https://localhost:8080/"
        }
      },
      "execution_count": 113,
      "outputs": [
        {
          "output_type": "execute_result",
          "data": {
            "text/plain": [
              "-0.0019001966130420432"
            ]
          },
          "metadata": {},
          "execution_count": 113
        }
      ]
    },
    {
      "cell_type": "code",
      "source": [
        "np.std(x)"
      ],
      "metadata": {
        "id": "j_-uMoZSLFHQ",
        "outputId": "d0e0c685-359c-4609-8ba1-2346562ab16c",
        "colab": {
          "base_uri": "https://localhost:8080/"
        }
      },
      "execution_count": 114,
      "outputs": [
        {
          "output_type": "execute_result",
          "data": {
            "text/plain": [
              "1.0012364696415372"
            ]
          },
          "metadata": {},
          "execution_count": 114
        }
      ]
    },
    {
      "cell_type": "markdown",
      "source": [
        "...it is a **standard normal distribution** (a.k.a., standard Gaussian distribution). Normal distributions can be denoted with the *math calligraphy* font as $\\mathcal{N}(\\mu, \\sigma^2)$, thus the standard normal distribution can be denoted as $\\mathcal{N}(0, 1)$.\n",
        "\n",
        "(N.B.: $\\sigma^2 = \\sigma$ in this case because $1^2 = 1$.)"
      ],
      "metadata": {
        "id": "TNTBWuGxLFD_"
      }
    },
    {
      "cell_type": "markdown",
      "source": [
        "Normal distributions are by far the most common distribution in statistics and machine learning. They are typically the default option, particularly if you have limited information about the random process you're modeling, because:\n",
        "\n",
        "1. Normal distributions assume the greatest possible uncertainty about the random variable they represent (relative to any other distribution of equivalent variance).\n",
        "2. Simple and very complex random processes alike are, under all common conditions, normally distributed when we sample values from the process. Since we sample data for statistical and machine learning models alike, this so-called **central limit theorem** is a critically important concept."
      ],
      "metadata": {
        "id": "BgEYQdvQLFAv"
      }
    },
    {
      "cell_type": "markdown",
      "source": [
        "Real-world examples include:\n",
        "\n",
        "* Probability of heads across *n* tosses (PMF; $n = 5$ earlier, $n = 100$ below)\n",
        "* Sum of di(c)e rolls (PMF)\n",
        "* Height of adult women\n",
        "* Height of adult men\n",
        "* Education test scores, e.g., SAT"
      ],
      "metadata": {
        "id": "cWap5aadLE8f"
      }
    },
    {
      "cell_type": "code",
      "source": [
        "n_experiments = 10000\n",
        "heads_count = [np.random.binomial(100, 0.5) for i in range (n_experiments)]\n",
        "heads, event_count = np.unique(heads_count, return_counts=True)\n",
        "event_proba = event_count/n_experiments"
      ],
      "metadata": {
        "id": "KzAr_HnwLE4_"
      },
      "execution_count": 115,
      "outputs": []
    },
    {
      "cell_type": "code",
      "source": [
        "plt.bar(heads, event_proba)\n",
        "_ = plt.xlabel('Heads flips (out of 100 tosses)')"
      ],
      "metadata": {
        "id": "zaEtI1tULE1f",
        "outputId": "51f60fc0-2ca2-4aa5-d476-1a1d7d284585",
        "colab": {
          "base_uri": "https://localhost:8080/",
          "height": 458
        }
      },
      "execution_count": 116,
      "outputs": [
        {
          "output_type": "display_data",
          "data": {
            "text/plain": [
              "<Figure size 640x480 with 1 Axes>"
            ],
            "image/png": "[encoded data removed]"
          },
          "metadata": {}
        }
      ]
    },
    {
      "cell_type": "markdown",
      "source": [
        "##Central Limit Theorem"
      ],
      "metadata": {
        "id": "TCrcS-AaLEyI"
      }
    },
    {
      "cell_type": "markdown",
      "source": [
        "To develop a functional understanding of the CLT, let's sample some values from our normal distribution:"
      ],
      "metadata": {
        "id": "a4yGzxl_Pa4g"
      }
    },
    {
      "cell_type": "code",
      "source": [
        "x_sample = np.random.choice(x, size=10, replace=False)\n",
        "x_sample"
      ],
      "metadata": {
        "id": "AzNmCcI-Pa1w",
        "outputId": "8a1bded1-24da-47ee-9d96-82c636f652fa",
        "colab": {
          "base_uri": "https://localhost:8080/"
        }
      },
      "execution_count": 118,
      "outputs": [
        {
          "output_type": "execute_result",
          "data": {
            "text/plain": [
              "array([ 0.14463787, -1.41711512,  0.36727495, -1.65068908,  1.45176809,\n",
              "       -1.61278169,  0.62192371, -1.24434525,  1.28171631,  0.72319853])"
            ]
          },
          "metadata": {},
          "execution_count": 118
        }
      ]
    },
    {
      "cell_type": "markdown",
      "source": [
        "The mean of a sample isn't always going to be close to zero with such a small sample:"
      ],
      "metadata": {
        "id": "ztzNwBubPay3"
      }
    },
    {
      "cell_type": "code",
      "source": [],
      "metadata": {
        "id": "gs4eerU1Pavv"
      },
      "execution_count": null,
      "outputs": []
    },
    {
      "cell_type": "code",
      "source": [],
      "metadata": {
        "id": "TgFdf7IRPas_"
      },
      "execution_count": null,
      "outputs": []
    },
    {
      "cell_type": "code",
      "source": [],
      "metadata": {
        "id": "FvdOdpadPaqQ"
      },
      "execution_count": null,
      "outputs": []
    },
    {
      "cell_type": "code",
      "source": [],
      "metadata": {
        "id": "fbyytIB2Pani"
      },
      "execution_count": null,
      "outputs": []
    },
    {
      "cell_type": "code",
      "source": [],
      "metadata": {
        "id": "hLCtcHv4Pakn"
      },
      "execution_count": null,
      "outputs": []
    },
    {
      "cell_type": "code",
      "source": [],
      "metadata": {
        "id": "eFhiiCs6Pahw"
      },
      "execution_count": null,
      "outputs": []
    },
    {
      "cell_type": "code",
      "source": [],
      "metadata": {
        "id": "0TTE7_xOPafG"
      },
      "execution_count": null,
      "outputs": []
    },
    {
      "cell_type": "code",
      "source": [],
      "metadata": {
        "id": "16F76Q14PacA"
      },
      "execution_count": null,
      "outputs": []
    },
    {
      "cell_type": "code",
      "source": [],
      "metadata": {
        "id": "Zn93Ju_uPaZH"
      },
      "execution_count": null,
      "outputs": []
    },
    {
      "cell_type": "code",
      "source": [],
      "metadata": {
        "id": "T_xnkeCiPaWY"
      },
      "execution_count": null,
      "outputs": []
    },
    {
      "cell_type": "code",
      "source": [],
      "metadata": {
        "id": "hDmtLoX_PaTh"
      },
      "execution_count": null,
      "outputs": []
    },
    {
      "cell_type": "code",
      "source": [],
      "metadata": {
        "id": "zzQZtVudPaQp"
      },
      "execution_count": null,
      "outputs": []
    },
    {
      "cell_type": "code",
      "source": [],
      "metadata": {
        "id": "hSP4P2qFPaOA"
      },
      "execution_count": null,
      "outputs": []
    },
    {
      "cell_type": "code",
      "source": [],
      "metadata": {
        "id": "WGlHd1uJPaLg"
      },
      "execution_count": null,
      "outputs": []
    },
    {
      "cell_type": "code",
      "source": [],
      "metadata": {
        "id": "ypRNrFJOPaIn"
      },
      "execution_count": null,
      "outputs": []
    },
    {
      "cell_type": "code",
      "source": [],
      "metadata": {
        "id": "lMxD57tUPaGI"
      },
      "execution_count": null,
      "outputs": []
    },
    {
      "cell_type": "code",
      "source": [],
      "metadata": {
        "id": "l7xYDUGpPaDI"
      },
      "execution_count": null,
      "outputs": []
    },
    {
      "cell_type": "code",
      "source": [],
      "metadata": {
        "id": "y5J7zSlSPaAB"
      },
      "execution_count": null,
      "outputs": []
    },
    {
      "cell_type": "code",
      "source": [],
      "metadata": {
        "id": "3uqGVyN1PZ9R"
      },
      "execution_count": null,
      "outputs": []
    },
    {
      "cell_type": "code",
      "source": [],
      "metadata": {
        "id": "wiZwu_rfPZ5_"
      },
      "execution_count": null,
      "outputs": []
    },
    {
      "cell_type": "code",
      "source": [],
      "metadata": {
        "id": "IfuHCnqdPZ3A"
      },
      "execution_count": null,
      "outputs": []
    },
    {
      "cell_type": "code",
      "source": [],
      "metadata": {
        "id": "pWUZ3Q02PZ0P"
      },
      "execution_count": null,
      "outputs": []
    },
    {
      "cell_type": "code",
      "source": [],
      "metadata": {
        "id": "_8GjyOiQPZxX"
      },
      "execution_count": null,
      "outputs": []
    },
    {
      "cell_type": "code",
      "source": [],
      "metadata": {
        "id": "uGlBqNo7PZuo"
      },
      "execution_count": null,
      "outputs": []
    },
    {
      "cell_type": "code",
      "source": [],
      "metadata": {
        "id": "HrgdXsHnLEug"
      },
      "execution_count": null,
      "outputs": []
    }
  ]
}