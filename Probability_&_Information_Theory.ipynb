{
  "nbformat": 4,
  "nbformat_minor": 0,
  "metadata": {
    "colab": {
      "provenance": [],
      "authorship_tag": "ABX9TyPUM70Ym9QrpAlZwnCvcQ/V",
      "include_colab_link": true
    },
    "kernelspec": {
      "name": "python3",
      "display_name": "Python 3"
    },
    "language_info": {
      "name": "python"
    }
  },
  "cells": [
    {
      "cell_type": "markdown",
      "metadata": {
        "id": "view-in-github",
        "colab_type": "text"
      },
      "source": [
        "<a href=\"https://colab.research.google.com/github/deenadayalanai/Maths-for-ML/blob/main/Probability_%26_Information_Theory.ipynb\" target=\"_parent\"><img src=\"https://colab.research.google.com/assets/colab-badge.svg\" alt=\"Open In Colab\"/></a>"
      ]
    },
    {
      "cell_type": "markdown",
      "source": [
        "#Segment 1: Introduction to Probability"
      ],
      "metadata": {
        "id": "iOuZ-Vofcst5"
      }
    },
    {
      "cell_type": "code",
      "source": [
        "import numpy as np\n",
        "import scipy.stats as st\n",
        "import matplotlib.pyplot as plt\n",
        "import seaborn as sns"
      ],
      "metadata": {
        "id": "hBAu1azUf57D"
      },
      "execution_count": 1,
      "outputs": []
    },
    {
      "cell_type": "markdown",
      "source": [
        "##What Probability Theory Is"
      ],
      "metadata": {
        "id": "H1Zzscqif54j"
      }
    },
    {
      "cell_type": "markdown",
      "source": [
        "###Events and Sample Spaces"
      ],
      "metadata": {
        "id": "Raxa3oi7f517"
      }
    },
    {
      "cell_type": "markdown",
      "source": [
        "Let's assume we have a fair coin, which is equally likely to come up heads (H) or tails (T)."
      ],
      "metadata": {
        "id": "rpDv-62sf5zP"
      }
    },
    {
      "cell_type": "markdown",
      "source": [
        "In instances like this, where the two outcomes are equally likely, we can use probability theory to express the likelihood of a particular **event** by comparing it with the **sample space** (the set of all possible outcomes; can be denoted as $\\Omega$):"
      ],
      "metadata": {
        "id": "eBZrWNO4f5wd"
      }
    },
    {
      "cell_type": "markdown",
      "source": [
        "$$ P(\\text{event}) = \\frac{\\text{# of outcomes of event}}{\\text{# of outcomes in }\\Omega} $$"
      ],
      "metadata": {
        "id": "I-HuL1b8f5tm"
      }
    },
    {
      "cell_type": "markdown",
      "source": [
        "If we're only flipping the coin once, then there are only two possible outcomes in the sample space $\\Omega$: it will either be H or T (using set notation, we could write this as $\\Omega$ = {H, T})."
      ],
      "metadata": {
        "id": "OOSkRs7qf5qr"
      }
    },
    {
      "cell_type": "markdown",
      "source": [
        "Therefore: $$ P(H) = \\frac{1}{2} = 0.5 $$"
      ],
      "metadata": {
        "id": "1xPIIIwcf5n7"
      }
    },
    {
      "cell_type": "markdown",
      "source": [
        "Equally: $$ P(T) = \\frac{1}{2} = 0.5 $$"
      ],
      "metadata": {
        "id": "Ttd4n3c5f5lD"
      }
    },
    {
      "cell_type": "markdown",
      "source": [
        "As a separate example, consider drawing a single card from a standard deck of 52 playing cards. In this case, the number of possible outcomes in the sample space $\\Omega$ is 52."
      ],
      "metadata": {
        "id": "L_UDvMRKf5iT"
      }
    },
    {
      "cell_type": "markdown",
      "source": [
        "There is only one ace of spades in the deck, so the probability of drawing it is: $$ P(\\text{ace of spades}) = \\frac{1}{52} \\approx 0.019 $$"
      ],
      "metadata": {
        "id": "Z8qpOAHtf5fk"
      }
    },
    {
      "cell_type": "markdown",
      "source": [
        "In contrast there are four aces, so the probability of drawing an ace is: $$ P(\\text{ace}) = \\frac{4}{52} \\approx 0.077 $$"
      ],
      "metadata": {
        "id": "_6XBBCydf5cs"
      }
    },
    {
      "cell_type": "markdown",
      "source": [
        "Some additional examples:\n",
        "$$ P(\\text{spade}) = \\frac{13}{52} = 0.25 $$\n",
        "$$ P(\\text{ace OR spade}) = \\frac{16}{52} \\approx 0.307 $$\n",
        "$$ P(\\text{card}) = \\frac{52}{52} = 1 $$\n",
        "$$ P(\\text{turnip}) = \\frac{0}{52} = 0 $$"
      ],
      "metadata": {
        "id": "kQ8UO_N6f5Zz"
      }
    },
    {
      "cell_type": "markdown",
      "source": [
        "###Multiple Independent Observations"
      ],
      "metadata": {
        "id": "bm6bSj_3f5W7"
      }
    },
    {
      "cell_type": "markdown",
      "source": [
        "Let's return to coin flipping to illustrate situations where we have an event consisting of multiple independent observations. For example, the probability of throwing two consecutive heads is: $$ P(\\text{HH}) = \\frac{1}{4} = 0.25 $$ ...because there is one HH event in the sample set of four possible events ($\\Omega$ = {HH, HT, TH, TT})."
      ],
      "metadata": {
        "id": "3ryxG2bef5UK"
      }
    },
    {
      "cell_type": "markdown",
      "source": [
        "Likewise, the probability of throwing *three* consecutive heads is: $$ P(\\text{HHH}) = \\frac{1}{8} = 0.125 $$ ...because there is one HHH event in the sample set of eight possible events ($\\Omega$ = {HHH, HHT, HTH, THH, HTT, THT, TTH, TTT})."
      ],
      "metadata": {
        "id": "NEf4ZpgIf5Rj"
      }
    },
    {
      "cell_type": "markdown",
      "source": [
        "As final examples, the probability of throwing exactly two heads in three tosses is $ P = \\frac{3}{8} = 0.375 $ while the probability of throwing at least two heads in three tosses is $ P = \\frac{4}{8} = 0.5 $."
      ],
      "metadata": {
        "id": "l1bWka0a3_Cw"
      }
    },
    {
      "cell_type": "markdown",
      "source": [
        "###Combining Probabilities"
      ],
      "metadata": {
        "id": "3PMqPvRm3_AP"
      }
    },
    {
      "cell_type": "markdown",
      "source": [
        "In order to combine probabilities, we can multiply them. So the probability of throwing five consecutive heads, for example, is the product of probabilities we've already calculated: $$ P(\\text{HHHHH}) = P(\\text{HH}) \\times P(\\text{HHH}) = \\frac{1}{4} \\times \\frac{1}{8} = \\frac{1}{32} \\approx 0.031 $$"
      ],
      "metadata": {
        "id": "FH9xojEL3-9w"
      }
    },
    {
      "cell_type": "markdown",
      "source": [
        "###Combinatorics"
      ],
      "metadata": {
        "id": "psBdtST13-63"
      }
    },
    {
      "cell_type": "markdown",
      "source": [
        "*Combinatorics* is a field of mathematics devoted to counting that can be helpful to studying probabilities. We can use **factorials** (e.g., $4! = 4 \\times 3 \\times 2 \\times 1 = 24$), which feature prominently in combinatorics, to calculate probabilities instead of painstakingly determining all of the members of the sample space $\\Omega$ and counting subsets within $\\Omega$."
      ],
      "metadata": {
        "id": "UnpqVbYX3-4A"
      }
    },
    {
      "cell_type": "markdown",
      "source": [
        "More specifically, we can calculate the number of outcomes of an event using the \"number of combinations\" equation: $$ {n \\choose k} = \\frac{n!}{k!(n - k)!} $$"
      ],
      "metadata": {
        "id": "LHhM8AuG3-1J"
      }
    },
    {
      "cell_type": "markdown",
      "source": [
        "The left-hand side of the equation is read \"$n$ choose $k$\" and is most quickly understood via an example: If we have three coin flips, $n = 3$, and if we're interested in the number of ways to get two head flips (or two tail flips, for that matter), $k = 2$. We would read this as \"3 choose 2\" and calculate it as:\n",
        "$$ {n \\choose k} = {3 \\choose 2} = \\frac{3!}{2!(3 - 2)!} = \\frac{3!}{(2!)(1!)} = \\frac{3 \\times 2 \\times 1}{(2 \\times 1)(1)} = \\frac{6}{(2)(1)} = \\frac{6}{2} = 3 $$"
      ],
      "metadata": {
        "id": "TmT8l_wG3-yR"
      }
    },
    {
      "cell_type": "markdown",
      "source": [
        "This provide us with the numerator for event-probability equation from above: $$ P(\\text{event}) = \\frac{\\text{# of outcomes of event}}{\\text{# of outcomes in }\\Omega} $$"
      ],
      "metadata": {
        "id": "vy06_ynt3-vP"
      }
    },
    {
      "cell_type": "markdown",
      "source": [
        "In the case of coin-flipping (or any binary process with equally probable outcomes), the denominator can be calculated with $2^n$ (where $n$ is again the number of coin flips), so: $$ \\frac{\\text{# of outcomes of event}}{\\text{# of outcomes in }\\Omega} = \\frac{3}{2^n} = \\frac{3}{2^3} = \\frac{3}{8} = 0.375 $$"
      ],
      "metadata": {
        "id": "hExbfPvL3-sZ"
      }
    },
    {
      "cell_type": "markdown",
      "source": [
        "**Exercises**:\n",
        "\n",
        "1. What is the probability of drawing the ace of spades twice in a row? (Assume that any card drawn on the first draw will be put back in the deck before the second draw.)\n",
        "2. You draw a card from a deck of cards. After replacing the drawn card back in the deck and shuffling thoroughly, what is the probability of drawing the same card again?\n",
        "3. Use $n \\choose k$ to calculate the probability of throwing three heads in five coin tosses.\n",
        "4. Create a Python method that solves exercise 3 and incorporates the $n \\choose k$ formula $\\frac{n!}{k!(n - k)!}$. With the method in hand, calculate the probability of -- in five tosses -- throwing each of zero, one, two, three, four, and five heads."
      ],
      "metadata": {
        "id": "TLglRTwL3-pY"
      }
    },
    {
      "cell_type": "markdown",
      "source": [
        "**Solutions**:"
      ],
      "metadata": {
        "id": "jWNnEzg33-mo"
      }
    },
    {
      "cell_type": "markdown",
      "source": [
        "1. $$ P(\\text{ace of spades}) \\times P(\\text{ace of spades}) = \\left(\\frac{1}{52}\\right)^2 = \\frac{1}{2704} = 0.00037 = 0.037\\% $$"
      ],
      "metadata": {
        "id": "-K9MXPyP3-kA"
      }
    },
    {
      "cell_type": "markdown",
      "source": [
        "2. $$ P(\\text{any card}) = \\frac{52}{52} = 1 $$\n",
        "$$ P(\\text{same card as first draw}) = \\frac{1}{52} \\approx 0.019 $$\n",
        "$$ P(\\text{any card})P(\\text{same card as first draw}) = (1)(\\frac{1}{52}) = \\frac{1}{52} \\approx 0.019$$"
      ],
      "metadata": {
        "id": "JlSTu_2I3-g3"
      }
    },
    {
      "cell_type": "markdown",
      "source": [
        "3. $$ {n \\choose k} = {5 \\choose 3} = \\frac{5!}{3!(5 - 3)!} = \\frac{5!}{(3!)(2!)} = \\frac{5 \\times 4 \\times 3 \\times 2 \\times 1}{(3 \\times 2 \\times 1)(2 \\times 1)} = \\frac{120}{(6)(2)} = \\frac{120}{12} = 10 $$"
      ],
      "metadata": {
        "id": "wIX7eNSt3-dn"
      }
    },
    {
      "cell_type": "markdown",
      "source": [
        "$$P = \\frac{10}{2^n} = \\frac{10}{2^5} = \\frac{10}{32} = 0.3125 $$"
      ],
      "metadata": {
        "id": "E3h1AG1r3-a5"
      }
    },
    {
      "cell_type": "code",
      "source": [
        "from math import factorial"
      ],
      "metadata": {
        "id": "i2M8vA_-3-YI"
      },
      "execution_count": 2,
      "outputs": []
    },
    {
      "cell_type": "code",
      "source": [
        "def coinflip_prob(n, k):\n",
        "    n_choose_k = factorial(n)/(factorial(k)*factorial(n-k))\n",
        "    return n_choose_k/2**n"
      ],
      "metadata": {
        "id": "-0FOy6_t3-VQ"
      },
      "execution_count": 3,
      "outputs": []
    },
    {
      "cell_type": "code",
      "source": [
        "coinflip_prob(5, 3)"
      ],
      "metadata": {
        "colab": {
          "base_uri": "https://localhost:8080/"
        },
        "id": "epqQAegj3-SQ",
        "outputId": "4c74a2d9-0eb2-41c0-a208-d5631de1567e"
      },
      "execution_count": 4,
      "outputs": [
        {
          "output_type": "execute_result",
          "data": {
            "text/plain": [
              "0.3125"
            ]
          },
          "metadata": {},
          "execution_count": 4
        }
      ]
    },
    {
      "cell_type": "code",
      "source": [
        "[coinflip_prob(5, h) for h in range(6)]"
      ],
      "metadata": {
        "colab": {
          "base_uri": "https://localhost:8080/"
        },
        "id": "tLwJLGCl4pHv",
        "outputId": "6c8f24b9-78f3-476d-d9d4-0a10fab85297"
      },
      "execution_count": 5,
      "outputs": [
        {
          "output_type": "execute_result",
          "data": {
            "text/plain": [
              "[0.03125, 0.15625, 0.3125, 0.3125, 0.15625, 0.03125]"
            ]
          },
          "metadata": {},
          "execution_count": 5
        }
      ]
    },
    {
      "cell_type": "markdown",
      "source": [
        "###The Law of Large Numbers"
      ],
      "metadata": {
        "id": "LP8nDQLD4pFH"
      }
    },
    {
      "cell_type": "markdown",
      "source": [
        "While a fair coin should land heads up 50% of the time, as we've seen above, with small sample sizes, there is a non-trivial possibility that in a given experiment we could flip heads on all of the tosses. For example, we've calculated that there's a 3.1% chance that we'll get heads on every toss in a small five-toss experiment."
      ],
      "metadata": {
        "id": "Olavz8Le4pB_"
      }
    },
    {
      "cell_type": "markdown",
      "source": [
        "The **law of large numbers** states that the more experiments we run, the closer we will tend to get to the expected probability."
      ],
      "metadata": {
        "id": "ANWhbIK54o_J"
      }
    },
    {
      "cell_type": "markdown",
      "source": [
        "Let's run some code to examine this in practice. To start, we'll create a vector of exponentially increasing $n$umbers of coin tosses per experiment:"
      ],
      "metadata": {
        "id": "a_dvUOn64o8I"
      }
    },
    {
      "cell_type": "code",
      "source": [
        "ns = np.array([2, 4, 8, 16, 32, 64, 128, 256, 512, 1024, 2048, 4096])"
      ],
      "metadata": {
        "id": "JQcJEUO34o2H"
      },
      "execution_count": 6,
      "outputs": []
    },
    {
      "cell_type": "code",
      "source": [
        "np.random.seed(42) # for reproducibility"
      ],
      "metadata": {
        "id": "w1Hzb9YI4ozf"
      },
      "execution_count": 7,
      "outputs": []
    },
    {
      "cell_type": "code",
      "source": [
        "np.random.binomial(1, 0.5)"
      ],
      "metadata": {
        "colab": {
          "base_uri": "https://localhost:8080/"
        },
        "id": "Qy1s67Su4os_",
        "outputId": "60646fd8-b4cd-4157-9ffd-48baa6e5f013"
      },
      "execution_count": 8,
      "outputs": [
        {
          "output_type": "execute_result",
          "data": {
            "text/plain": [
              "0"
            ]
          },
          "metadata": {},
          "execution_count": 8
        }
      ]
    },
    {
      "cell_type": "code",
      "source": [
        "heads_count = [np.random.binomial(n, 0.5) for n in ns]\n",
        "heads_count"
      ],
      "metadata": {
        "colab": {
          "base_uri": "https://localhost:8080/"
        },
        "id": "mtkSKnVK4opv",
        "outputId": "bd2eeddf-5102-4cf5-fe8e-ebe385881683"
      },
      "execution_count": 9,
      "outputs": [
        {
          "output_type": "execute_result",
          "data": {
            "text/plain": [
              "[2, 3, 4, 6, 13, 27, 54, 136, 258, 509, 1038, 2094]"
            ]
          },
          "metadata": {},
          "execution_count": 9
        }
      ]
    },
    {
      "cell_type": "code",
      "source": [
        "proportion_heads = heads_count/ns\n",
        "proportion_heads"
      ],
      "metadata": {
        "colab": {
          "base_uri": "https://localhost:8080/"
        },
        "id": "HWoQiKuE50V6",
        "outputId": "32b8826d-5629-4df1-e070-108a7999053d"
      },
      "execution_count": 10,
      "outputs": [
        {
          "output_type": "execute_result",
          "data": {
            "text/plain": [
              "array([1.        , 0.75      , 0.5       , 0.375     , 0.40625   ,\n",
              "       0.421875  , 0.421875  , 0.53125   , 0.50390625, 0.49707031,\n",
              "       0.50683594, 0.51123047])"
            ]
          },
          "metadata": {},
          "execution_count": 10
        }
      ]
    },
    {
      "cell_type": "code",
      "source": [
        "fig, ax = plt.subplots()\n",
        "plt.xlabel('Number of coin flips in experiment')\n",
        "plt.ylabel('Proportion of flips that are heads')\n",
        "plt.axhline(0.5, color='orange')\n",
        "_ = ax.scatter(ns, proportion_heads)"
      ],
      "metadata": {
        "colab": {
          "base_uri": "https://localhost:8080/",
          "height": 449
        },
        "id": "5bs-sj1X50S5",
        "outputId": "b6347ede-383d-4e7a-d632-6f33071adce8"
      },
      "execution_count": 11,
      "outputs": [
        {
          "output_type": "display_data",
          "data": {
            "text/plain": [
              "<Figure size 640x480 with 1 Axes>"
            ],
            "image/png": "[encoded data removed]"
          },
          "metadata": {}
        }
      ]
    },
    {
      "cell_type": "markdown",
      "source": [
        "It is important at this juncture to address the **gambler's fallacy**. It is a common misconception that the law of large numbers dictates that if, say, five heads have been flipped in a row, then the probability of tails is higher on the sixth flip. In fact, probability theory holds that each coin flip is completely independent of all others. Thus, every single flip of a fair coin has a 50% chance of being heads, no matter what happened on preceding flips."
      ],
      "metadata": {
        "id": "qW4-tsbS50P4"
      }
    },
    {
      "cell_type": "markdown",
      "source": [
        "(To capitalize on this misunderstanding, roulette tables at casinos often have prominent displays tracking the history of red versus black even though there's a 47.4% chance of each on every spin of the roulette wheel no matter what happened on preceding spins. Gamblers will note, say, five reds in a row at a given table and flock to it to bet on black.)"
      ],
      "metadata": {
        "id": "mAWMS7PX50M4"
      }
    },
    {
      "cell_type": "markdown",
      "source": [
        "###Statistics"
      ],
      "metadata": {
        "id": "X8DJJta950KI"
      }
    },
    {
      "cell_type": "markdown",
      "source": [
        "The field of statistics applies probability theory to make inferences with a quantifiable degree of confidence. For example, let's say we ran the five-coin-flip experiment 1000 times with a fair coin:"
      ],
      "metadata": {
        "id": "uEQER_0R50HI"
      }
    },
    {
      "cell_type": "code",
      "source": [
        "n_experiments = 1000\n",
        "heads_count = np.random.binomial(5, 0.5, n_experiments)"
      ],
      "metadata": {
        "id": "usr19bLj50EQ"
      },
      "execution_count": 12,
      "outputs": []
    },
    {
      "cell_type": "markdown",
      "source": [
        "We can plot the results of our experiment to create a **probability distribution**:"
      ],
      "metadata": {
        "id": "Tdtbvb2F50BY"
      }
    },
    {
      "cell_type": "code",
      "source": [
        "heads, event_count = np.unique(heads_count, return_counts=True)"
      ],
      "metadata": {
        "id": "IzYfKWYk5z-g"
      },
      "execution_count": 13,
      "outputs": []
    },
    {
      "cell_type": "code",
      "source": [
        "heads"
      ],
      "metadata": {
        "colab": {
          "base_uri": "https://localhost:8080/"
        },
        "id": "0wIYqWtt5z7g",
        "outputId": "e469143f-a147-41e1-f0cf-0640f0229bc4"
      },
      "execution_count": 14,
      "outputs": [
        {
          "output_type": "execute_result",
          "data": {
            "text/plain": [
              "array([0, 1, 2, 3, 4, 5])"
            ]
          },
          "metadata": {},
          "execution_count": 14
        }
      ]
    },
    {
      "cell_type": "code",
      "source": [
        "event_count"
      ],
      "metadata": {
        "colab": {
          "base_uri": "https://localhost:8080/"
        },
        "id": "-3sfY6PrQeSz",
        "outputId": "93bf0532-7e29-4f5e-f9d6-c59694824c99"
      },
      "execution_count": 15,
      "outputs": [
        {
          "output_type": "execute_result",
          "data": {
            "text/plain": [
              "array([ 33, 181, 285, 313, 160,  28])"
            ]
          },
          "metadata": {},
          "execution_count": 15
        }
      ]
    },
    {
      "cell_type": "code",
      "source": [
        "event_prob = event_count/n_experiments\n",
        "event_prob"
      ],
      "metadata": {
        "colab": {
          "base_uri": "https://localhost:8080/"
        },
        "id": "K3X_OQcoQeQb",
        "outputId": "0c461315-ebb6-479d-9830-5596cc91aaf1"
      },
      "execution_count": 16,
      "outputs": [
        {
          "output_type": "execute_result",
          "data": {
            "text/plain": [
              "array([0.033, 0.181, 0.285, 0.313, 0.16 , 0.028])"
            ]
          },
          "metadata": {},
          "execution_count": 16
        }
      ]
    },
    {
      "cell_type": "code",
      "source": [
        "plt.bar(heads, event_prob, color='mediumpurple')\n",
        "plt.xlabel('Heads flips (out of 5 tosses)')\n",
        "_ = plt.ylabel('Event probability')"
      ],
      "metadata": {
        "colab": {
          "base_uri": "https://localhost:8080/",
          "height": 449
        },
        "id": "1bL-0YL_QeNb",
        "outputId": "849e0139-8b3f-4abf-bd2c-1b4f6a6abb76"
      },
      "execution_count": 17,
      "outputs": [
        {
          "output_type": "display_data",
          "data": {
            "text/plain": [
              "<Figure size 640x480 with 1 Axes>"
            ],
            "image/png": "[encoded data removed]"
          },
          "metadata": {}
        }
      ]
    },
    {
      "cell_type": "markdown",
      "source": [
        "Let's say we'd like to now test a coin as to whether it's fair or not. We flip it five times and all five times it comes up heads. Does this imply it's not a fair coin? Statistics arms us with tools to use the probability distribution above to answer this question with a particular degree of confidence."
      ],
      "metadata": {
        "id": "Phw6ICmgQeKz"
      }
    },
    {
      "cell_type": "markdown",
      "source": [
        "###Expected Value"
      ],
      "metadata": {
        "id": "HQK9y9t4RMqa"
      }
    },
    {
      "cell_type": "code",
      "source": [
        "P = [coinflip_prob(5, x) for x in range(6)] # discrete/PMF\n",
        "P"
      ],
      "metadata": {
        "id": "nTUkhLCxRMlB",
        "colab": {
          "base_uri": "https://localhost:8080/"
        },
        "outputId": "0fd17f78-ccd9-4e8a-dd02-925c823da825"
      },
      "execution_count": 18,
      "outputs": [
        {
          "output_type": "execute_result",
          "data": {
            "text/plain": [
              "[0.03125, 0.15625, 0.3125, 0.3125, 0.15625, 0.03125]"
            ]
          },
          "metadata": {},
          "execution_count": 18
        }
      ]
    },
    {
      "cell_type": "markdown",
      "source": [
        "$$ \\mathbb{E} = \\sum_x xP(x) $$"
      ],
      "metadata": {
        "id": "hZTv18t7RMiK"
      }
    },
    {
      "cell_type": "code",
      "source": [
        "E = sum([P[x]*x for x in range(6)])\n",
        "E"
      ],
      "metadata": {
        "id": "PW31X2UFRMfJ",
        "colab": {
          "base_uri": "https://localhost:8080/"
        },
        "outputId": "797be1e5-439d-4971-fd9b-1e9f043b57c1"
      },
      "execution_count": 19,
      "outputs": [
        {
          "output_type": "execute_result",
          "data": {
            "text/plain": [
              "2.5"
            ]
          },
          "metadata": {},
          "execution_count": 19
        }
      ]
    },
    {
      "cell_type": "markdown",
      "source": [
        "**Exercises**:\n",
        "\n",
        "1. Assuming heads = 1 and tails = 0, what’s the expected value of the toss of a fair coin?\n",
        "2. ...and of two tosses of a fair coin?\n",
        "3. You are one of a thousand people to purchase a lottery ticket. The ticket costs \\$10 and pays out \\$5000. What value should you expect from this transaction?\n"
      ],
      "metadata": {
        "id": "Jpjt86LjRMci"
      }
    },
    {
      "cell_type": "markdown",
      "source": [
        "**Solutions**:\n",
        "\n",
        "1. (½)0 + (½)1 = 0 + ½ = ½\n",
        "2. (¼)0 + (½)1 + (¼)2 = 0 + ½ + ½ = 1\n",
        "\n",
        "3.\n",
        "(1/1000)(\\$5000-\\$10) + (999/1000)(-\\$10) \\\n",
        "= (1/1000)(\\$4990) + (999/1000)(-\\$10) \\\n",
        "= \\$4.99 + (\\$-9.99) \\\n",
        "= -\\$5\n"
      ],
      "metadata": {
        "id": "qnJsB9pvRToJ"
      }
    },
    {
      "cell_type": "markdown",
      "source": [
        "##Measures of Central Tendency"
      ],
      "metadata": {
        "id": "e8AoszzgRTlJ"
      }
    },
    {
      "cell_type": "markdown",
      "source": [
        "Measures of central tendency provide a summary statistic on the center of a given distribution, a.k.a., the \"average\" value of the distribution."
      ],
      "metadata": {
        "id": "_SS9dHrQRTiS"
      }
    },
    {
      "cell_type": "markdown",
      "source": [
        "###Mean"
      ],
      "metadata": {
        "id": "j4G2fA0iRTfC"
      }
    },
    {
      "cell_type": "markdown",
      "source": [
        "The most common measure of central tendency, synonomous with the term \"average\", is the **mean**, often symbolized with $\\mu$ (population) or $\\bar{x}$ (sample):"
      ],
      "metadata": {
        "id": "tvuD53CuRTcB"
      }
    },
    {
      "cell_type": "markdown",
      "source": [
        "$$ \\bar{x} = \\frac{\\sum_{i=1}^n x_i}{n} $$"
      ],
      "metadata": {
        "id": "tfTCpN4FRTY5"
      }
    },
    {
      "cell_type": "markdown",
      "source": [
        "Expected value is in fact the long-term *mean* of some function (i.e., $\\mu = \\mathbb{E}$). Let's calculate how close the sample mean, $\\bar{x}$, of our five-coin-flip experiments comes to the expected value, $\\mathbb{E} = 2.5$."
      ],
      "metadata": {
        "id": "7TWiWUsIRTWZ"
      }
    },
    {
      "cell_type": "code",
      "source": [
        "len(heads_count)"
      ],
      "metadata": {
        "colab": {
          "base_uri": "https://localhost:8080/"
        },
        "id": "2g_fjv2q1nC0",
        "outputId": "e4cf1e0b-eb2e-4e34-dcd3-65f3620d76a4"
      },
      "execution_count": 21,
      "outputs": [
        {
          "output_type": "execute_result",
          "data": {
            "text/plain": [
              "1000"
            ]
          },
          "metadata": {},
          "execution_count": 21
        }
      ]
    },
    {
      "cell_type": "code",
      "source": [
        "heads_count[0:20]"
      ],
      "metadata": {
        "colab": {
          "base_uri": "https://localhost:8080/"
        },
        "id": "k28_Orc61m_0",
        "outputId": "a558c363-bbef-4a01-ff82-892695d8e8d3"
      },
      "execution_count": 34,
      "outputs": [
        {
          "output_type": "execute_result",
          "data": {
            "text/plain": [
              "array([2, 2, 2, 3, 2, 3, 3, 1, 3, 1, 1, 4, 4, 3, 2, 1, 3, 2, 1, 2])"
            ]
          },
          "metadata": {},
          "execution_count": 34
        }
      ]
    },
    {
      "cell_type": "code",
      "source": [
        "sum(heads_count)/len(heads_count)"
      ],
      "metadata": {
        "colab": {
          "base_uri": "https://localhost:8080/"
        },
        "id": "AG9eTBD41m87",
        "outputId": "5d333124-1892-4bea-f560-cd9420e27ee2"
      },
      "execution_count": 35,
      "outputs": [
        {
          "output_type": "execute_result",
          "data": {
            "text/plain": [
              "2.47"
            ]
          },
          "metadata": {},
          "execution_count": 35
        }
      ]
    },
    {
      "cell_type": "markdown",
      "source": [
        "NumPy comes with a built-in function\n"
      ],
      "metadata": {
        "id": "9uBpwlqZ1m6E"
      }
    },
    {
      "cell_type": "code",
      "source": [
        "np.mean(heads_count)"
      ],
      "metadata": {
        "colab": {
          "base_uri": "https://localhost:8080/"
        },
        "id": "OopsEQaF1m3E",
        "outputId": "f785de76-1eb5-44f0-c414-2019a2a2b000"
      },
      "execution_count": 36,
      "outputs": [
        {
          "output_type": "execute_result",
          "data": {
            "text/plain": [
              "2.47"
            ]
          },
          "metadata": {},
          "execution_count": 36
        }
      ]
    },
    {
      "cell_type": "code",
      "source": [
        "heads_count.mean()"
      ],
      "metadata": {
        "colab": {
          "base_uri": "https://localhost:8080/"
        },
        "id": "-k98C5EY1mzt",
        "outputId": "f77639dc-fbb7-47e7-a09d-f5b27c90d8a9"
      },
      "execution_count": 37,
      "outputs": [
        {
          "output_type": "execute_result",
          "data": {
            "text/plain": [
              "2.47"
            ]
          },
          "metadata": {},
          "execution_count": 37
        }
      ]
    },
    {
      "cell_type": "markdown",
      "source": [
        "Pretty close! The law of large numbers implies that as we increase the number of experiments (e.g., to a million -- you're welcome to try it), we'll converge on $\\mathbb{E}=2.5$."
      ],
      "metadata": {
        "id": "ycAFFwlD53-F"
      }
    },
    {
      "cell_type": "markdown",
      "source": [
        "###Median"
      ],
      "metadata": {
        "id": "mc2kNGi-5341"
      }
    },
    {
      "cell_type": "markdown",
      "source": [
        "The second most common measure of central tendency is the **median**, the midpoint value in the distribution:"
      ],
      "metadata": {
        "id": "bjCAeu_0532F"
      }
    },
    {
      "cell_type": "code",
      "source": [
        "heads_count.sort()"
      ],
      "metadata": {
        "id": "_i_G4txv53w9"
      },
      "execution_count": 39,
      "outputs": []
    },
    {
      "cell_type": "code",
      "source": [
        "heads_count[0:20]"
      ],
      "metadata": {
        "colab": {
          "base_uri": "https://localhost:8080/"
        },
        "id": "cdRJui1253uc",
        "outputId": "48ce2d96-3fe9-4c10-8ca3-46f86ee8cfbe"
      },
      "execution_count": 40,
      "outputs": [
        {
          "output_type": "execute_result",
          "data": {
            "text/plain": [
              "array([0, 0, 0, 0, 0, 0, 0, 0, 0, 0, 0, 0, 0, 0, 0, 0, 0, 0, 0, 0])"
            ]
          },
          "metadata": {},
          "execution_count": 40
        }
      ]
    },
    {
      "cell_type": "code",
      "source": [
        "heads_count[-20:]"
      ],
      "metadata": {
        "colab": {
          "base_uri": "https://localhost:8080/"
        },
        "id": "TtezbJrk53r9",
        "outputId": "549fa578-0ebb-4aa8-f78b-0cac9e63228e"
      },
      "execution_count": 41,
      "outputs": [
        {
          "output_type": "execute_result",
          "data": {
            "text/plain": [
              "array([5, 5, 5, 5, 5, 5, 5, 5, 5, 5, 5, 5, 5, 5, 5, 5, 5, 5, 5, 5])"
            ]
          },
          "metadata": {},
          "execution_count": 41
        }
      ]
    },
    {
      "cell_type": "code",
      "source": [
        "len(heads_count)"
      ],
      "metadata": {
        "colab": {
          "base_uri": "https://localhost:8080/"
        },
        "id": "IPLicVcO53pN",
        "outputId": "c2a3c542-3254-4735-a0e9-3407ce5c736d"
      },
      "execution_count": 42,
      "outputs": [
        {
          "output_type": "execute_result",
          "data": {
            "text/plain": [
              "1000"
            ]
          },
          "metadata": {},
          "execution_count": 42
        }
      ]
    },
    {
      "cell_type": "markdown",
      "source": [
        "With an odd number of values in a distribution, we consider the single midpoint to be the median, e.g., the midpoint of the sorted array `[2, 4, 6, 9, 10]` is six.\n",
        "\n",
        "With an even number, we take the mean of the two values that straddle the midpoint:"
      ],
      "metadata": {
        "id": "3loCejUs53mk"
      }
    },
    {
      "cell_type": "code",
      "source": [
        "heads_count[499]"
      ],
      "metadata": {
        "colab": {
          "base_uri": "https://localhost:8080/"
        },
        "id": "4jNSfLJp8QuN",
        "outputId": "be8f9af2-9b62-4370-a334-4a5550b664f5"
      },
      "execution_count": 43,
      "outputs": [
        {
          "output_type": "execute_result",
          "data": {
            "text/plain": [
              "3"
            ]
          },
          "metadata": {},
          "execution_count": 43
        }
      ]
    },
    {
      "cell_type": "code",
      "source": [
        "heads_count[500]"
      ],
      "metadata": {
        "colab": {
          "base_uri": "https://localhost:8080/"
        },
        "id": "et8C1AgL8Qr1",
        "outputId": "1bcd203d-1fbe-48d5-f52e-e68c00069279"
      },
      "execution_count": 44,
      "outputs": [
        {
          "output_type": "execute_result",
          "data": {
            "text/plain": [
              "3"
            ]
          },
          "metadata": {},
          "execution_count": 44
        }
      ]
    },
    {
      "cell_type": "markdown",
      "source": [
        "...which in this case is obviously three:"
      ],
      "metadata": {
        "id": "j3klujkN8QpN"
      }
    },
    {
      "cell_type": "code",
      "source": [
        "(3+3)/2"
      ],
      "metadata": {
        "colab": {
          "base_uri": "https://localhost:8080/"
        },
        "id": "BTOEh63C8QmR",
        "outputId": "4c40fbdc-8a3e-41ee-a72a-98122546cb41"
      },
      "execution_count": 45,
      "outputs": [
        {
          "output_type": "execute_result",
          "data": {
            "text/plain": [
              "3.0"
            ]
          },
          "metadata": {},
          "execution_count": 45
        }
      ]
    },
    {
      "cell_type": "code",
      "source": [
        "np.median(heads_count)  #built-in method"
      ],
      "metadata": {
        "colab": {
          "base_uri": "https://localhost:8080/"
        },
        "id": "e_fBA_b78kfc",
        "outputId": "4254c1d6-4a45-4b42-bc52-4ad01c162554"
      },
      "execution_count": 46,
      "outputs": [
        {
          "output_type": "execute_result",
          "data": {
            "text/plain": [
              "3.0"
            ]
          },
          "metadata": {},
          "execution_count": 46
        }
      ]
    },
    {
      "cell_type": "markdown",
      "source": [
        "###Mode"
      ],
      "metadata": {
        "id": "fqwn6JC-84rE"
      }
    },
    {
      "cell_type": "markdown",
      "source": [
        "The **mode** is the final common measure of central tendency. It is simply the value in the distribution that occurs most frequently.\n",
        "\n",
        "As is clear in the most recently output chart, in the case of our five-coin-toss experiment, the mode is three."
      ],
      "metadata": {
        "id": "z87F6_f98-Qe"
      }
    },
    {
      "cell_type": "markdown",
      "source": [
        "Method available in the SciPy `stats` module:"
      ],
      "metadata": {
        "id": "GIHGH0Uk8-N9"
      }
    },
    {
      "cell_type": "code",
      "source": [
        "st.mode(heads_count)"
      ],
      "metadata": {
        "colab": {
          "base_uri": "https://localhost:8080/"
        },
        "id": "43DClwNO8-Ld",
        "outputId": "7319f1ae-a60a-44d4-da3d-a87b5ff75473"
      },
      "execution_count": 54,
      "outputs": [
        {
          "output_type": "execute_result",
          "data": {
            "text/plain": [
              "ModeResult(mode=3, count=313)"
            ]
          },
          "metadata": {},
          "execution_count": 54
        }
      ]
    },
    {
      "cell_type": "code",
      "source": [
        "st.mode(heads_count)[0]"
      ],
      "metadata": {
        "colab": {
          "base_uri": "https://localhost:8080/"
        },
        "id": "yYzdkGUs8-I1",
        "outputId": "65748080-55dd-40da-91f6-75858ba31861"
      },
      "execution_count": 53,
      "outputs": [
        {
          "output_type": "execute_result",
          "data": {
            "text/plain": [
              "3"
            ]
          },
          "metadata": {},
          "execution_count": 53
        }
      ]
    },
    {
      "cell_type": "markdown",
      "source": [
        "With small sample sizes, the mean typically provides the most accurate measure of central tendency.\n",
        "\n",
        "With larger sample sizes, the mean, median, and mode will tend to coincide, as long as the distribution isn't skewed:"
      ],
      "metadata": {
        "id": "jjG6i77x8-GV"
      }
    },
    {
      "cell_type": "code",
      "source": [
        "x = st.skewnorm.rvs(0, size=1000) # first argument is \"skewness\"; 0 has no skew"
      ],
      "metadata": {
        "id": "vhzja48L8-Dl"
      },
      "execution_count": 55,
      "outputs": []
    },
    {
      "cell_type": "code",
      "source": [
        "fig, ax = plt.subplots()\n",
        "plt.axvline(x = np.mean(x), color='orange')\n",
        "plt.axvline(x = np.median(x), color='green')\n",
        "_ = plt.hist(x, color = 'lightgray')\n",
        "# Note: Mode typically only applies to PMFs; this is a PDF"
      ],
      "metadata": {
        "colab": {
          "base_uri": "https://localhost:8080/",
          "height": 430
        },
        "id": "T0iOHxTn8-Al",
        "outputId": "9da7295a-b45c-4ca9-aa2c-1f16048907e5"
      },
      "execution_count": 56,
      "outputs": [
        {
          "output_type": "display_data",
          "data": {
            "text/plain": [
              "<Figure size 640x480 with 1 Axes>"
            ],
            "image/png": "[encoded data removed]"
          },
          "metadata": {}
        }
      ]
    },
    {
      "cell_type": "markdown",
      "source": [
        "Skewed distributions, in contrast, drag the mean away from the center and toward the tail:"
      ],
      "metadata": {
        "id": "38YEclap-7DV"
      }
    },
    {
      "cell_type": "code",
      "source": [
        "x = st.skewnorm.rvs(10, size=1000)"
      ],
      "metadata": {
        "id": "AilQun6Z-7Am"
      },
      "execution_count": 57,
      "outputs": []
    },
    {
      "cell_type": "code",
      "source": [
        "fig, ax = plt.subplots()\n",
        "plt.axvline(x = np.mean(x), color='orange')\n",
        "_ = plt.hist(x, color = 'lightgray')"
      ],
      "metadata": {
        "colab": {
          "base_uri": "https://localhost:8080/",
          "height": 430
        },
        "id": "Ht4xsh92-691",
        "outputId": "4ed02278-92da-4dd1-a367-ba1141cd12bd"
      },
      "execution_count": 58,
      "outputs": [
        {
          "output_type": "display_data",
          "data": {
            "text/plain": [
              "<Figure size 640x480 with 1 Axes>"
            ],
            "image/png": "[encoded data removed]"
          },
          "metadata": {}
        }
      ]
    },
    {
      "cell_type": "markdown",
      "source": [
        "The mode is least impacted by skew, but is only applicable to discrete distributions. For continuous distributions with skew (e.g., salary data), median is typically the choice measure of central tendency:"
      ],
      "metadata": {
        "id": "0d6U-J2K-67A"
      }
    },
    {
      "cell_type": "code",
      "source": [
        "fig, ax = plt.subplots()\n",
        "plt.axvline(x = np.mean(x), color='orange')\n",
        "plt.axvline(x = np.median(x), color='green')\n",
        "_ = plt.hist(x, color = 'lightgray')"
      ],
      "metadata": {
        "colab": {
          "base_uri": "https://localhost:8080/",
          "height": 430
        },
        "id": "i-IRzSUn-64N",
        "outputId": "5a391a51-fae3-43ec-f9e9-cfd4160b4d5c"
      },
      "execution_count": 59,
      "outputs": [
        {
          "output_type": "display_data",
          "data": {
            "text/plain": [
              "<Figure size 640x480 with 1 Axes>"
            ],
            "image/png": "[encoded data removed]"
          },
          "metadata": {}
        }
      ]
    },
    {
      "cell_type": "markdown",
      "source": [
        "## Quantiles"
      ],
      "metadata": {
        "id": "eTUrmW0v-61V"
      }
    },
    {
      "cell_type": "markdown",
      "source": [
        "The median, which divides a distribution in two at its midpoint, is the most well-known example of a quantile:"
      ],
      "metadata": {
        "id": "aKixfpEn-6ym"
      }
    },
    {
      "cell_type": "code",
      "source": [
        "np.median(x)"
      ],
      "metadata": {
        "colab": {
          "base_uri": "https://localhost:8080/"
        },
        "id": "2Ctvv0vA-6vl",
        "outputId": "475c3ec4-7f57-4368-fd1b-786d4ae783d5"
      },
      "execution_count": 61,
      "outputs": [
        {
          "output_type": "execute_result",
          "data": {
            "text/plain": [
              "0.6987365121323832"
            ]
          },
          "metadata": {},
          "execution_count": 61
        }
      ]
    },
    {
      "cell_type": "code",
      "source": [
        "np.quantile(x, 0.5)"
      ],
      "metadata": {
        "colab": {
          "base_uri": "https://localhost:8080/"
        },
        "id": "8EZhv9VeC-fW",
        "outputId": "f4b477b4-e0d7-4cff-ed59-bdedb3c33e2e"
      },
      "execution_count": 64,
      "outputs": [
        {
          "output_type": "execute_result",
          "data": {
            "text/plain": [
              "0.6987365121323832"
            ]
          },
          "metadata": {},
          "execution_count": 64
        }
      ]
    },
    {
      "cell_type": "markdown",
      "source": [
        "Generally speaking, quantiles divide up distributions and the most common are:\n",
        "\n",
        "* Percentiles,\n",
        "* Quartiles, and\n",
        "* Deciles."
      ],
      "metadata": {
        "id": "f3WqqsHvC-dH"
      }
    },
    {
      "cell_type": "markdown",
      "source": [
        "**Percentiles** divide the distribution at any point out of one hundred (\"pour cent\" is French for \"out of a hundred\"). For example, if we'd like to identify the threshold for the top 5% of a distribution, we'd cut it at the 95th percentile. Or, for the top 1%, we'd cut at the 99th percentile."
      ],
      "metadata": {
        "id": "h8Pz_0TXC-am"
      }
    },
    {
      "cell_type": "code",
      "source": [],
      "metadata": {
        "id": "mtb1x0ogC-YO"
      },
      "execution_count": null,
      "outputs": []
    },
    {
      "cell_type": "code",
      "source": [],
      "metadata": {
        "id": "tRNcxtB6C-Vt"
      },
      "execution_count": null,
      "outputs": []
    },
    {
      "cell_type": "code",
      "source": [],
      "metadata": {
        "id": "7Is4BESwC-TG"
      },
      "execution_count": null,
      "outputs": []
    }
  ]
}