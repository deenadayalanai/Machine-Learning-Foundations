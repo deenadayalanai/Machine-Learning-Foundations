{
  "nbformat": 4,
  "nbformat_minor": 0,
  "metadata": {
    "colab": {
      "provenance": [],
      "collapsed_sections": [
        "zaLs4IwHtgJm"
      ],
      "toc_visible": true,
      "authorship_tag": "ABX9TyP2ZjyOSw1Wa9lilH60qbgf",
      "include_colab_link": true
    },
    "kernelspec": {
      "name": "python3",
      "display_name": "Python 3"
    },
    "language_info": {
      "name": "python"
    }
  },
  "cells": [
    {
      "cell_type": "markdown",
      "metadata": {
        "id": "view-in-github",
        "colab_type": "text"
      },
      "source": [
        "<a href=\"https://colab.research.google.com/github/deenadayalandms/Maths-for-ML/blob/main/Python.ipynb\" target=\"_parent\"><img src=\"https://colab.research.google.com/assets/colab-badge.svg\" alt=\"Open In Colab\"/></a>"
      ]
    },
    {
      "cell_type": "code",
      "source": [
        "!python --version"
      ],
      "metadata": {
        "colab": {
          "base_uri": "https://localhost:8080/"
        },
        "id": "i8YoDDMOttnA",
        "outputId": "e988d3d6-769b-4418-d11a-20afdad540bf"
      },
      "execution_count": null,
      "outputs": [
        {
          "output_type": "stream",
          "name": "stdout",
          "text": [
            "Python 3.10.12\n"
          ]
        }
      ]
    },
    {
      "cell_type": "code",
      "source": [
        "print(\"Hello World\")"
      ],
      "metadata": {
        "colab": {
          "base_uri": "https://localhost:8080/"
        },
        "id": "VEBriww3OIx4",
        "outputId": "02722d9c-a115-44bc-c934-78ce25433cd7"
      },
      "execution_count": null,
      "outputs": [
        {
          "output_type": "stream",
          "name": "stdout",
          "text": [
            "Hello World\n"
          ]
        }
      ]
    },
    {
      "cell_type": "markdown",
      "source": [
        "**Variables**"
      ],
      "metadata": {
        "id": "zaLs4IwHtgJm"
      }
    },
    {
      "cell_type": "code",
      "source": [
        "_ = 2\n",
        "_"
      ],
      "metadata": {
        "colab": {
          "base_uri": "https://localhost:8080/"
        },
        "id": "1Ek5nFkTnBJA",
        "outputId": "0df557d3-2f94-409e-f879-1105eefb54d2"
      },
      "execution_count": null,
      "outputs": [
        {
          "output_type": "execute_result",
          "data": {
            "text/plain": [
              "2"
            ]
          },
          "metadata": {},
          "execution_count": 5
        }
      ]
    },
    {
      "cell_type": "code",
      "source": [
        "del _"
      ],
      "metadata": {
        "id": "tyQuvi-HtnFq"
      },
      "execution_count": null,
      "outputs": []
    },
    {
      "cell_type": "code",
      "source": [
        "a = 1"
      ],
      "metadata": {
        "id": "bE_Kgdlzttum"
      },
      "execution_count": null,
      "outputs": []
    },
    {
      "cell_type": "code",
      "source": [
        "a"
      ],
      "metadata": {
        "colab": {
          "base_uri": "https://localhost:8080/"
        },
        "id": "6KrboILguAbx",
        "outputId": "fbd604d9-ee32-4844-b0eb-e8ceac784568"
      },
      "execution_count": null,
      "outputs": [
        {
          "output_type": "execute_result",
          "data": {
            "text/plain": [
              "1"
            ]
          },
          "metadata": {},
          "execution_count": 83
        }
      ]
    },
    {
      "cell_type": "code",
      "source": [
        "a=b=1"
      ],
      "metadata": {
        "id": "ReFdlxwzj_sr"
      },
      "execution_count": null,
      "outputs": []
    },
    {
      "cell_type": "code",
      "source": [
        "a"
      ],
      "metadata": {
        "colab": {
          "base_uri": "https://localhost:8080/"
        },
        "id": "T8bhbccokBt2",
        "outputId": "facc689c-dbe3-40bf-c261-5941db779dc3"
      },
      "execution_count": null,
      "outputs": [
        {
          "output_type": "execute_result",
          "data": {
            "text/plain": [
              "1"
            ]
          },
          "metadata": {},
          "execution_count": 85
        }
      ]
    },
    {
      "cell_type": "code",
      "source": [
        "b"
      ],
      "metadata": {
        "colab": {
          "base_uri": "https://localhost:8080/"
        },
        "id": "yx8mm007kDJC",
        "outputId": "314f89d5-2384-4858-dd6c-1c0499515c9b"
      },
      "execution_count": null,
      "outputs": [
        {
          "output_type": "execute_result",
          "data": {
            "text/plain": [
              "1"
            ]
          },
          "metadata": {},
          "execution_count": 86
        }
      ]
    },
    {
      "cell_type": "code",
      "source": [
        "del a"
      ],
      "metadata": {
        "id": "j__p6QUiuAv4"
      },
      "execution_count": null,
      "outputs": []
    },
    {
      "cell_type": "markdown",
      "source": [
        "**Data Types** ![image.png](data:image/png;base64,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)"
      ],
      "metadata": {
        "id": "R3qGceh5uBdA"
      }
    },
    {
      "cell_type": "code",
      "source": [
        "# numeric data type\n",
        "Variable1 = 2 # int\n",
        "variable2 = True # bool\n",
        "Variable3 = 10.23 # float\n",
        "Variable4 = 11+2j"
      ],
      "metadata": {
        "id": "tsyF48U9uDoR"
      },
      "execution_count": null,
      "outputs": []
    },
    {
      "cell_type": "code",
      "source": [
        "type(Variable1)# returns datatype of variable"
      ],
      "metadata": {
        "colab": {
          "base_uri": "https://localhost:8080/"
        },
        "id": "11nUbCF-iuba",
        "outputId": "fa91a68f-87a8-48e2-fa9d-6a16a13c203e"
      },
      "execution_count": null,
      "outputs": [
        {
          "output_type": "execute_result",
          "data": {
            "text/plain": [
              "int"
            ]
          },
          "metadata": {},
          "execution_count": 4
        }
      ]
    },
    {
      "cell_type": "code",
      "source": [
        "\n",
        "type(variable2)"
      ],
      "metadata": {
        "colab": {
          "base_uri": "https://localhost:8080/"
        },
        "id": "Sg5oQhbUiydk",
        "outputId": "bc74f8d9-a7ad-4e8b-a8df-7b4339bb3553"
      },
      "execution_count": null,
      "outputs": [
        {
          "output_type": "execute_result",
          "data": {
            "text/plain": [
              "bool"
            ]
          },
          "metadata": {},
          "execution_count": 8
        }
      ]
    },
    {
      "cell_type": "code",
      "source": [
        "type(Variable3)"
      ],
      "metadata": {
        "colab": {
          "base_uri": "https://localhost:8080/"
        },
        "id": "aSQquhHVjyvX",
        "outputId": "fff15a3b-46a0-4792-fa63-d8381c15a279"
      },
      "execution_count": null,
      "outputs": [
        {
          "output_type": "execute_result",
          "data": {
            "text/plain": [
              "float"
            ]
          },
          "metadata": {},
          "execution_count": 9
        }
      ]
    },
    {
      "cell_type": "code",
      "source": [
        "type(Variable4)"
      ],
      "metadata": {
        "colab": {
          "base_uri": "https://localhost:8080/"
        },
        "id": "yZ7USFTcj45f",
        "outputId": "1555f633-2f6a-4823-af85-5f771231e73e"
      },
      "execution_count": null,
      "outputs": [
        {
          "output_type": "execute_result",
          "data": {
            "text/plain": [
              "complex"
            ]
          },
          "metadata": {},
          "execution_count": 10
        }
      ]
    },
    {
      "cell_type": "code",
      "source": [
        "# sequence sata type"
      ],
      "metadata": {
        "id": "gPxFaIvrj5iX"
      },
      "execution_count": null,
      "outputs": []
    },
    {
      "cell_type": "code",
      "source": [
        "# string = str\n",
        "str1 = 'deena'"
      ],
      "metadata": {
        "id": "EJelNOl4j5-W"
      },
      "execution_count": null,
      "outputs": []
    },
    {
      "cell_type": "code",
      "source": [
        "str1"
      ],
      "metadata": {
        "colab": {
          "base_uri": "https://localhost:8080/",
          "height": 36
        },
        "id": "PyT1F1maoDJr",
        "outputId": "958f46e4-7a96-40e6-c2ad-be7f7969beb7"
      },
      "execution_count": null,
      "outputs": [
        {
          "output_type": "execute_result",
          "data": {
            "text/plain": [
              "'deena'"
            ],
            "application/vnd.google.colaboratory.intrinsic+json": {
              "type": "string"
            }
          },
          "metadata": {},
          "execution_count": 13
        }
      ]
    },
    {
      "cell_type": "code",
      "source": [
        "str1[1]"
      ],
      "metadata": {
        "colab": {
          "base_uri": "https://localhost:8080/",
          "height": 36
        },
        "id": "aX4vXH3ToDHi",
        "outputId": "0e7ec510-943f-41fe-c812-f1497172d807"
      },
      "execution_count": null,
      "outputs": [
        {
          "output_type": "execute_result",
          "data": {
            "text/plain": [
              "'e'"
            ],
            "application/vnd.google.colaboratory.intrinsic+json": {
              "type": "string"
            }
          },
          "metadata": {},
          "execution_count": 14
        }
      ]
    },
    {
      "cell_type": "code",
      "source": [
        "mystring = str1[0] + 'i' + str1[2:]"
      ],
      "metadata": {
        "id": "ADYdWOtOouGW"
      },
      "execution_count": null,
      "outputs": []
    },
    {
      "cell_type": "code",
      "source": [
        "mystring"
      ],
      "metadata": {
        "colab": {
          "base_uri": "https://localhost:8080/",
          "height": 36
        },
        "id": "DrI2t_9Lo9Z_",
        "outputId": "3ce4eb58-3bed-4562-d7c2-56d4c0008efb"
      },
      "execution_count": null,
      "outputs": [
        {
          "output_type": "execute_result",
          "data": {
            "text/plain": [
              "'diena'"
            ],
            "application/vnd.google.colaboratory.intrinsic+json": {
              "type": "string"
            }
          },
          "metadata": {},
          "execution_count": 16
        }
      ]
    },
    {
      "cell_type": "code",
      "source": [
        "# str1[1] = 'i' # strings are immutable"
      ],
      "metadata": {
        "id": "8T0L11CpoDFf"
      },
      "execution_count": null,
      "outputs": []
    },
    {
      "cell_type": "code",
      "source": [
        "my_string = \"Hello\"\n"
      ],
      "metadata": {
        "id": "eKexiGwpoDDE"
      },
      "execution_count": null,
      "outputs": []
    },
    {
      "cell_type": "code",
      "source": [
        "my_string"
      ],
      "metadata": {
        "colab": {
          "base_uri": "https://localhost:8080/",
          "height": 36
        },
        "id": "5jgRh10OoleP",
        "outputId": "49cf3be0-90dd-4c4e-8d3b-66b99bd457e4"
      },
      "execution_count": null,
      "outputs": [
        {
          "output_type": "execute_result",
          "data": {
            "text/plain": [
              "'Hello'"
            ],
            "application/vnd.google.colaboratory.intrinsic+json": {
              "type": "string"
            }
          },
          "metadata": {},
          "execution_count": 19
        }
      ]
    },
    {
      "cell_type": "code",
      "source": [
        "new_string = \"J\" + my_string[1:]"
      ],
      "metadata": {
        "id": "v6YZlZ_eoDAJ"
      },
      "execution_count": null,
      "outputs": []
    },
    {
      "cell_type": "code",
      "source": [
        "new_string"
      ],
      "metadata": {
        "colab": {
          "base_uri": "https://localhost:8080/",
          "height": 36
        },
        "id": "WFjXhUKvoC8R",
        "outputId": "47064f57-c0f3-4e14-a179-81992c335bab"
      },
      "execution_count": null,
      "outputs": [
        {
          "output_type": "execute_result",
          "data": {
            "text/plain": [
              "'Jello'"
            ],
            "application/vnd.google.colaboratory.intrinsic+json": {
              "type": "string"
            }
          },
          "metadata": {},
          "execution_count": 21
        }
      ]
    },
    {
      "cell_type": "code",
      "source": [
        "type(new_string)"
      ],
      "metadata": {
        "colab": {
          "base_uri": "https://localhost:8080/"
        },
        "id": "1OPzu2VRpJzi",
        "outputId": "d13876b8-3388-4197-e078-da313d589e6c"
      },
      "execution_count": null,
      "outputs": [
        {
          "output_type": "execute_result",
          "data": {
            "text/plain": [
              "str"
            ]
          },
          "metadata": {},
          "execution_count": 22
        }
      ]
    },
    {
      "cell_type": "code",
      "source": [
        "# list\n",
        "list1 = [3,4,5,5,6]"
      ],
      "metadata": {
        "id": "xbI5UQJyoC3W"
      },
      "execution_count": null,
      "outputs": []
    },
    {
      "cell_type": "code",
      "source": [
        "type(list1)"
      ],
      "metadata": {
        "id": "5qimxqHooC1X",
        "colab": {
          "base_uri": "https://localhost:8080/"
        },
        "outputId": "379213e6-7bb5-498a-94c0-09718cfc9c8b"
      },
      "execution_count": null,
      "outputs": [
        {
          "output_type": "execute_result",
          "data": {
            "text/plain": [
              "list"
            ]
          },
          "metadata": {},
          "execution_count": 24
        }
      ]
    },
    {
      "cell_type": "code",
      "source": [
        "list1[0]"
      ],
      "metadata": {
        "id": "asv4qW_2oCy9",
        "colab": {
          "base_uri": "https://localhost:8080/"
        },
        "outputId": "03e2e684-99d0-42d3-95ea-9b89d6c37fb4"
      },
      "execution_count": null,
      "outputs": [
        {
          "output_type": "execute_result",
          "data": {
            "text/plain": [
              "3"
            ]
          },
          "metadata": {},
          "execution_count": 25
        }
      ]
    },
    {
      "cell_type": "code",
      "source": [
        "list1[1:4]"
      ],
      "metadata": {
        "id": "c5FDjC05oCwq",
        "colab": {
          "base_uri": "https://localhost:8080/"
        },
        "outputId": "69f4a779-5c21-4e52-f291-0d43d8cfc7fb"
      },
      "execution_count": null,
      "outputs": [
        {
          "output_type": "execute_result",
          "data": {
            "text/plain": [
              "[4, 5, 5]"
            ]
          },
          "metadata": {},
          "execution_count": 26
        }
      ]
    },
    {
      "cell_type": "code",
      "source": [
        "# del(list1)"
      ],
      "metadata": {
        "id": "SLLFJVSnoCuN"
      },
      "execution_count": null,
      "outputs": []
    },
    {
      "cell_type": "code",
      "source": [
        "list1[2] = 10"
      ],
      "metadata": {
        "id": "TMGpYk9XMVGI"
      },
      "execution_count": null,
      "outputs": []
    },
    {
      "cell_type": "code",
      "source": [
        "list1 # list are mutable"
      ],
      "metadata": {
        "id": "4vuT1B6yoCoK",
        "colab": {
          "base_uri": "https://localhost:8080/"
        },
        "outputId": "02019caa-0e61-47be-9bf1-8815eff11e4b"
      },
      "execution_count": null,
      "outputs": [
        {
          "output_type": "execute_result",
          "data": {
            "text/plain": [
              "[3, 4, 10, 5, 6]"
            ]
          },
          "metadata": {},
          "execution_count": 29
        }
      ]
    },
    {
      "cell_type": "code",
      "source": [
        "# tuple\n",
        "tuple1 = (1,2,3,[4,'DEE'],(2,23,4,),{'key1':'hello world'})"
      ],
      "metadata": {
        "id": "rTXQJlwsMi3U"
      },
      "execution_count": null,
      "outputs": []
    },
    {
      "cell_type": "code",
      "source": [
        "tuple1"
      ],
      "metadata": {
        "colab": {
          "base_uri": "https://localhost:8080/"
        },
        "id": "BOPn-ClsMizG",
        "outputId": "cae3d4d8-2ab7-4b99-a259-382fd9042cfd"
      },
      "execution_count": null,
      "outputs": [
        {
          "output_type": "execute_result",
          "data": {
            "text/plain": [
              "(1, 2, 3, [4, 'DEE'], (2, 23, 4), {'key1': 'hello world'})"
            ]
          },
          "metadata": {},
          "execution_count": 31
        }
      ]
    },
    {
      "cell_type": "code",
      "source": [
        "type(tuple1)"
      ],
      "metadata": {
        "colab": {
          "base_uri": "https://localhost:8080/"
        },
        "id": "xP6FIFe3MixI",
        "outputId": "62935086-11c0-4208-b74b-6924c17084cd"
      },
      "execution_count": null,
      "outputs": [
        {
          "output_type": "execute_result",
          "data": {
            "text/plain": [
              "tuple"
            ]
          },
          "metadata": {},
          "execution_count": 32
        }
      ]
    },
    {
      "cell_type": "code",
      "source": [
        "# tuple1[1] = 0  tuples are immutable"
      ],
      "metadata": {
        "id": "MA2y6in7Miu4"
      },
      "execution_count": null,
      "outputs": []
    },
    {
      "cell_type": "code",
      "source": [
        "# range() function\n",
        "for i in range(10,20,2):\n",
        "  print(i)"
      ],
      "metadata": {
        "colab": {
          "base_uri": "https://localhost:8080/"
        },
        "id": "Bczqsp8gMisw",
        "outputId": "a1b1e5cd-da47-4484-d412-8f200c36c37e"
      },
      "execution_count": null,
      "outputs": [
        {
          "output_type": "stream",
          "name": "stdout",
          "text": [
            "10\n",
            "12\n",
            "14\n",
            "16\n",
            "18\n"
          ]
        }
      ]
    },
    {
      "cell_type": "code",
      "source": [
        "# dictionary data type\n",
        "dict1 = {'key1':33,'key2':'daya'}"
      ],
      "metadata": {
        "id": "yJWXVZKUMhEZ"
      },
      "execution_count": null,
      "outputs": []
    },
    {
      "cell_type": "code",
      "source": [
        "dict1"
      ],
      "metadata": {
        "id": "S6RoxBDkoC52",
        "colab": {
          "base_uri": "https://localhost:8080/"
        },
        "outputId": "b9e24066-8f70-449a-9dd5-622911814885"
      },
      "execution_count": null,
      "outputs": [
        {
          "output_type": "execute_result",
          "data": {
            "text/plain": [
              "{'key1': 33, 'key2': 'daya'}"
            ]
          },
          "metadata": {},
          "execution_count": 36
        }
      ]
    },
    {
      "cell_type": "code",
      "source": [
        "type(dict1)"
      ],
      "metadata": {
        "colab": {
          "base_uri": "https://localhost:8080/"
        },
        "id": "-WgHX4YRMioj",
        "outputId": "204e9349-d4ee-41cc-b5ab-0468b21cb18a"
      },
      "execution_count": null,
      "outputs": [
        {
          "output_type": "execute_result",
          "data": {
            "text/plain": [
              "dict"
            ]
          },
          "metadata": {},
          "execution_count": 37
        }
      ]
    },
    {
      "cell_type": "code",
      "source": [
        "dict2 = {33 : 'key3', 44 : 'key4'}"
      ],
      "metadata": {
        "id": "oVdht-TAMimv"
      },
      "execution_count": null,
      "outputs": []
    },
    {
      "cell_type": "code",
      "source": [
        "type(dict2)"
      ],
      "metadata": {
        "colab": {
          "base_uri": "https://localhost:8080/"
        },
        "id": "n60ZOKfwMiki",
        "outputId": "11cc9350-f219-4399-f5d1-5ba6f6152125"
      },
      "execution_count": null,
      "outputs": [
        {
          "output_type": "execute_result",
          "data": {
            "text/plain": [
              "dict"
            ]
          },
          "metadata": {},
          "execution_count": 39
        }
      ]
    },
    {
      "cell_type": "code",
      "source": [
        "dict1.values()"
      ],
      "metadata": {
        "colab": {
          "base_uri": "https://localhost:8080/"
        },
        "id": "sRT3uwChMihp",
        "outputId": "e46f6eec-001c-4c3c-f75b-551c03b83cc8"
      },
      "execution_count": null,
      "outputs": [
        {
          "output_type": "execute_result",
          "data": {
            "text/plain": [
              "dict_values([33, 'daya'])"
            ]
          },
          "metadata": {},
          "execution_count": 40
        }
      ]
    },
    {
      "cell_type": "code",
      "source": [
        "dict1.keys()"
      ],
      "metadata": {
        "colab": {
          "base_uri": "https://localhost:8080/"
        },
        "id": "UJW0ulRtMifM",
        "outputId": "e92e8f75-c3b4-4520-d7b1-01bfa4e2da14"
      },
      "execution_count": null,
      "outputs": [
        {
          "output_type": "execute_result",
          "data": {
            "text/plain": [
              "dict_keys(['key1', 'key2'])"
            ]
          },
          "metadata": {},
          "execution_count": 41
        }
      ]
    },
    {
      "cell_type": "code",
      "source": [
        "dict1['key1'] = 90 # dict is mutable"
      ],
      "metadata": {
        "id": "5Tn1agDYMico"
      },
      "execution_count": null,
      "outputs": []
    },
    {
      "cell_type": "code",
      "source": [
        "dict1"
      ],
      "metadata": {
        "colab": {
          "base_uri": "https://localhost:8080/"
        },
        "id": "P1G_vr_sMiZw",
        "outputId": "015cebf2-dba7-4edb-efd9-efae47fedf31"
      },
      "execution_count": null,
      "outputs": [
        {
          "output_type": "execute_result",
          "data": {
            "text/plain": [
              "{'key1': 90, 'key2': 'daya'}"
            ]
          },
          "metadata": {},
          "execution_count": 43
        }
      ]
    },
    {
      "cell_type": "code",
      "source": [
        "# dict1[1] indexing does not work for dict"
      ],
      "metadata": {
        "id": "XIHwnYm8MiXB"
      },
      "execution_count": null,
      "outputs": []
    },
    {
      "cell_type": "code",
      "source": [
        "# set data type"
      ],
      "metadata": {
        "id": "Jhr8fa-sMiUY"
      },
      "execution_count": null,
      "outputs": []
    },
    {
      "cell_type": "code",
      "source": [
        "set1 = { 1,2,2,0,(3,4,5),'DEE'} # doesn't allow duplicate"
      ],
      "metadata": {
        "id": "nOlsOE6_MiPm"
      },
      "execution_count": null,
      "outputs": []
    },
    {
      "cell_type": "code",
      "source": [
        "set1"
      ],
      "metadata": {
        "colab": {
          "base_uri": "https://localhost:8080/"
        },
        "id": "R54yhmtFMiNI",
        "outputId": "421c39f4-7535-432c-96be-a3ca2ac994ba"
      },
      "execution_count": null,
      "outputs": [
        {
          "output_type": "execute_result",
          "data": {
            "text/plain": [
              "{(3, 4, 5), 0, 1, 2, 'DEE'}"
            ]
          },
          "metadata": {},
          "execution_count": 47
        }
      ]
    },
    {
      "cell_type": "code",
      "source": [
        "# set1 = {1,[3,4,],{33:'key1'}} set doesnt allow immutables i.e, list, dict"
      ],
      "metadata": {
        "id": "DP_ydYqkMiKi"
      },
      "execution_count": null,
      "outputs": []
    },
    {
      "cell_type": "code",
      "source": [
        "# set1[2] unordered - indexing notpossible"
      ],
      "metadata": {
        "id": "WvhOcDU2TwFF"
      },
      "execution_count": null,
      "outputs": []
    },
    {
      "cell_type": "code",
      "source": [
        "# boolean data types\n",
        "bool1 = True"
      ],
      "metadata": {
        "id": "3gLwOwkcVFL1"
      },
      "execution_count": null,
      "outputs": []
    },
    {
      "cell_type": "code",
      "source": [
        "bool1"
      ],
      "metadata": {
        "colab": {
          "base_uri": "https://localhost:8080/"
        },
        "id": "715HnAP3VFH6",
        "outputId": "760b77b7-7e8d-48c0-c0b6-f0d2247f796d"
      },
      "execution_count": null,
      "outputs": [
        {
          "output_type": "execute_result",
          "data": {
            "text/plain": [
              "True"
            ]
          },
          "metadata": {},
          "execution_count": 51
        }
      ]
    },
    {
      "cell_type": "code",
      "source": [
        "type(bool1)"
      ],
      "metadata": {
        "colab": {
          "base_uri": "https://localhost:8080/"
        },
        "id": "w2hn4moWVFFZ",
        "outputId": "a4438f20-7aee-42f9-ab89-77665c5be677"
      },
      "execution_count": null,
      "outputs": [
        {
          "output_type": "execute_result",
          "data": {
            "text/plain": [
              "bool"
            ]
          },
          "metadata": {},
          "execution_count": 52
        }
      ]
    },
    {
      "cell_type": "code",
      "source": [
        "# type casting"
      ],
      "metadata": {
        "id": "UsF1ODOyVFCc"
      },
      "execution_count": null,
      "outputs": []
    },
    {
      "cell_type": "code",
      "source": [
        "# literals (constants) e.g. strings are literals\n",
        "string1 = \"deena\""
      ],
      "metadata": {
        "id": "_40XhFi2Teky"
      },
      "execution_count": null,
      "outputs": []
    },
    {
      "cell_type": "code",
      "source": [
        "# string1[0] = \"v\""
      ],
      "metadata": {
        "id": "tCamwrJk6Fxv"
      },
      "execution_count": null,
      "outputs": []
    },
    {
      "cell_type": "code",
      "source": [],
      "metadata": {
        "id": "J_f4A-vO6Fvf"
      },
      "execution_count": null,
      "outputs": []
    },
    {
      "cell_type": "code",
      "source": [],
      "metadata": {
        "id": "qPKKeQqM6Fsb"
      },
      "execution_count": null,
      "outputs": []
    },
    {
      "cell_type": "code",
      "source": [],
      "metadata": {
        "id": "LJwUoJTk6Fp0"
      },
      "execution_count": null,
      "outputs": []
    },
    {
      "cell_type": "code",
      "source": [],
      "metadata": {
        "id": "R2i1wCaY6Fmm"
      },
      "execution_count": null,
      "outputs": []
    },
    {
      "cell_type": "code",
      "source": [],
      "metadata": {
        "id": "1nM5DmJf6Fj3"
      },
      "execution_count": null,
      "outputs": []
    },
    {
      "cell_type": "code",
      "source": [],
      "metadata": {
        "id": "7AiGFvhB6FhL"
      },
      "execution_count": null,
      "outputs": []
    },
    {
      "cell_type": "code",
      "source": [],
      "metadata": {
        "id": "n1CxZ20s6Fei"
      },
      "execution_count": null,
      "outputs": []
    },
    {
      "cell_type": "code",
      "source": [],
      "metadata": {
        "id": "g6wlxJmq6Fb7"
      },
      "execution_count": null,
      "outputs": []
    },
    {
      "cell_type": "code",
      "source": [],
      "metadata": {
        "id": "1Xp6AZGn6FYz"
      },
      "execution_count": null,
      "outputs": []
    },
    {
      "cell_type": "code",
      "source": [],
      "metadata": {
        "id": "zs3YK-yS6FV6"
      },
      "execution_count": null,
      "outputs": []
    }
  ]
}