{
  "nbformat": 4,
  "nbformat_minor": 0,
  "metadata": {
    "colab": {
      "provenance": [],
      "authorship_tag": "ABX9TyN2TjZkhh8NJVjo3jUWhlZw",
      "include_colab_link": true
    },
    "kernelspec": {
      "name": "python3",
      "display_name": "Python 3"
    },
    "language_info": {
      "name": "python"
    }
  },
  "cells": [
    {
      "cell_type": "markdown",
      "metadata": {
        "id": "view-in-github",
        "colab_type": "text"
      },
      "source": [
        "<a href=\"https://colab.research.google.com/github/deenadayalandms/Maths-for-ML/blob/main/Python_Control_Statements.ipynb\" target=\"_parent\"><img src=\"https://colab.research.google.com/assets/colab-badge.svg\" alt=\"Open In Colab\"/></a>"
      ]
    },
    {
      "cell_type": "code",
      "execution_count": 1,
      "metadata": {
        "colab": {
          "base_uri": "https://localhost:8080/"
        },
        "id": "5TdRClodP9mE",
        "outputId": "415c3473-ccf4-457b-81de-26e1b0864307"
      },
      "outputs": [
        {
          "output_type": "stream",
          "name": "stdout",
          "text": [
            "Passed with distinction\n"
          ]
        }
      ],
      "source": [
        "marks = 80\n",
        "result = \"\"\n",
        "if marks < 30:\n",
        "   result = \"Failed\"\n",
        "elif marks > 75:\n",
        "   result = \"Passed with distinction\"\n",
        "else:\n",
        "   result = \"Passed\"\n",
        "\n",
        "print(result)"
      ]
    }
  ]
}