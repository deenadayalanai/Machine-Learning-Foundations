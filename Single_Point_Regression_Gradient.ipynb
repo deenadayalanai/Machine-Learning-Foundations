{
  "nbformat": 4,
  "nbformat_minor": 0,
  "metadata": {
    "colab": {
      "provenance": [],
      "authorship_tag": "ABX9TyPp+WiVB8xJm9keD1q0sDtV",
      "include_colab_link": true
    },
    "kernelspec": {
      "name": "python3",
      "display_name": "Python 3"
    },
    "language_info": {
      "name": "python"
    }
  },
  "cells": [
    {
      "cell_type": "markdown",
      "metadata": {
        "id": "view-in-github",
        "colab_type": "text"
      },
      "source": [
        "<a href=\"https://colab.research.google.com/github/deenadayalanai/Maths-for-ML/blob/main/Single_Point_Regression_Gradient.ipynb\" target=\"_parent\"><img src=\"https://colab.research.google.com/assets/colab-badge.svg\" alt=\"Open In Colab\"/></a>"
      ]
    },
    {
      "cell_type": "markdown",
      "source": [
        "# Gradient of a Single-Point Regression"
      ],
      "metadata": {
        "id": "2BAvc21Ja_lc"
      }
    },
    {
      "cell_type": "markdown",
      "source": [
        "In this notebook, we calculate the gradient of quadratic cost with respect to a straight-line regression model's parameters. We keep the partial derivatives as simple as possible by limiting the model to handling a single data point."
      ],
      "metadata": {
        "id": "jZGkokH3VIKZ"
      }
    },
    {
      "cell_type": "code",
      "source": [
        "import torch"
      ],
      "metadata": {
        "id": "pbIU1jqFbDCb"
      },
      "execution_count": 1,
      "outputs": []
    },
    {
      "cell_type": "code",
      "source": [
        "xs = torch.tensor([0, 1, 2, 3, 4, 5, 6, 7.])"
      ],
      "metadata": {
        "id": "H5nmWhxZbC_7"
      },
      "execution_count": 2,
      "outputs": []
    },
    {
      "cell_type": "code",
      "source": [
        "ys = torch.tensor([1.86, 1.31, .62, .33, .09, -.67, -1.23, -1.37])"
      ],
      "metadata": {
        "id": "h0zLk4babC9L"
      },
      "execution_count": 3,
      "outputs": []
    },
    {
      "cell_type": "markdown",
      "source": [
        "The slope of a line is given by $y = mx + b$:"
      ],
      "metadata": {
        "id": "3l0uODvebC60"
      }
    },
    {
      "cell_type": "code",
      "source": [
        "def regression(my_x,my_m,my_b):\n",
        "  return my_m*my_x + my_b"
      ],
      "metadata": {
        "id": "L7SL66NvbC4D"
      },
      "execution_count": 4,
      "outputs": []
    },
    {
      "cell_type": "markdown",
      "source": [
        "Let's initialize $m$ and $b$ with the same \"random\" near-zero values as we did in the *Regression in PyTorch* notebook:"
      ],
      "metadata": {
        "id": "JAWUjERfbC1c"
      }
    },
    {
      "cell_type": "code",
      "source": [
        "m = torch.tensor([0.9]).requires_grad_()"
      ],
      "metadata": {
        "id": "ygE76XPebCys"
      },
      "execution_count": 5,
      "outputs": []
    },
    {
      "cell_type": "code",
      "source": [
        "b = torch.tensor([0.1]).requires_grad_()"
      ],
      "metadata": {
        "id": "5k5Pyyt3bCv8"
      },
      "execution_count": 6,
      "outputs": []
    },
    {
      "cell_type": "markdown",
      "source": [
        "To keep the partial derivatives as simple as possible, let's move forward with a single instance $i$ from the eight possible data points:\n"
      ],
      "metadata": {
        "id": "cxs4TVzYbCtc"
      }
    },
    {
      "cell_type": "code",
      "source": [
        "i = 7\n",
        "x = xs[i]\n",
        "y = ys[i]"
      ],
      "metadata": {
        "id": "DRm9tpY1bCqr"
      },
      "execution_count": 7,
      "outputs": []
    },
    {
      "cell_type": "code",
      "source": [
        "x"
      ],
      "metadata": {
        "colab": {
          "base_uri": "https://localhost:8080/"
        },
        "id": "bmnyNDvnbCoD",
        "outputId": "5d227da0-359d-4b23-99b0-a8a1e237cce7"
      },
      "execution_count": 8,
      "outputs": [
        {
          "output_type": "execute_result",
          "data": {
            "text/plain": [
              "tensor(7.)"
            ]
          },
          "metadata": {},
          "execution_count": 8
        }
      ]
    },
    {
      "cell_type": "code",
      "source": [
        "y"
      ],
      "metadata": {
        "colab": {
          "base_uri": "https://localhost:8080/"
        },
        "id": "1no2j0KwbClD",
        "outputId": "0f5ae1fe-da3f-46e3-e80c-efbcdb034983"
      },
      "execution_count": 9,
      "outputs": [
        {
          "output_type": "execute_result",
          "data": {
            "text/plain": [
              "tensor(-1.3700)"
            ]
          },
          "metadata": {},
          "execution_count": 9
        }
      ]
    },
    {
      "cell_type": "markdown",
      "source": [
        "**Step 1**: Forward pass"
      ],
      "metadata": {
        "id": "46E611QqflRe"
      }
    },
    {
      "cell_type": "markdown",
      "source": [
        "We can flow the scalar tensor $x$ through our regression model to produce $\\hat{y}$, an estimate of $y$. Prior to any model training, this is an arbitrary estimate:"
      ],
      "metadata": {
        "id": "qO90BcLkfg-v"
      }
    },
    {
      "cell_type": "code",
      "source": [
        "yhat = regression(x, m, b)\n",
        "yhat"
      ],
      "metadata": {
        "colab": {
          "base_uri": "https://localhost:8080/"
        },
        "id": "YsD761H3fq-o",
        "outputId": "a67a77d3-a635-475d-e08e-d7d7c1072b4d"
      },
      "execution_count": 10,
      "outputs": [
        {
          "output_type": "execute_result",
          "data": {
            "text/plain": [
              "tensor([6.4000], grad_fn=<AddBackward0>)"
            ]
          },
          "metadata": {},
          "execution_count": 10
        }
      ]
    },
    {
      "cell_type": "markdown",
      "source": [
        "**Step 2**: Compare $\\hat{y}$ with true $y$ to calculate cost $C$"
      ],
      "metadata": {
        "id": "WzfRI-82fq8P"
      }
    },
    {
      "cell_type": "markdown",
      "source": [
        "In the *Regression in PyTorch* notebook, we used mean-squared error, which averages quadratic cost over multiple data points. With a single data point, here we can use quadratic cost alone. It is defined by: $$ C = (\\hat{y} - y)^2 $$"
      ],
      "metadata": {
        "id": "2oAm7DRKfq5e"
      }
    },
    {
      "cell_type": "code",
      "source": [
        "def squared_error(my_yhat, my_y):\n",
        "    return (my_yhat - my_y)**2"
      ],
      "metadata": {
        "id": "13uGOMSVfq2-"
      },
      "execution_count": 11,
      "outputs": []
    },
    {
      "cell_type": "code",
      "source": [
        "C = squared_error(yhat, y)\n",
        "C"
      ],
      "metadata": {
        "colab": {
          "base_uri": "https://localhost:8080/"
        },
        "id": "wLLed6l2fq0W",
        "outputId": "3deb7b90-f4dd-40ac-a562-79de6d8ec2d4"
      },
      "execution_count": 12,
      "outputs": [
        {
          "output_type": "execute_result",
          "data": {
            "text/plain": [
              "tensor([60.3729], grad_fn=<PowBackward0>)"
            ]
          },
          "metadata": {},
          "execution_count": 12
        }
      ]
    },
    {
      "cell_type": "markdown",
      "source": [
        "**Step 3**: Use autodiff to calculate gradient of $C$ w.r.t. parameters"
      ],
      "metadata": {
        "id": "m5iFUw--fqxe"
      }
    },
    {
      "cell_type": "code",
      "source": [
        "C.backward()"
      ],
      "metadata": {
        "id": "60kow4ohfqun"
      },
      "execution_count": 13,
      "outputs": []
    },
    {
      "cell_type": "markdown",
      "source": [
        "The partial derivative of $C$ with respect to $m$ ($\\frac{\\partial C}{\\partial m}$) is:"
      ],
      "metadata": {
        "id": "-3asptBJfqoW"
      }
    },
    {
      "cell_type": "code",
      "source": [
        "m.grad"
      ],
      "metadata": {
        "id": "0a5wvO6EfqlW",
        "colab": {
          "base_uri": "https://localhost:8080/"
        },
        "outputId": "b46b7b4b-32a5-4bbb-f2c3-0f070a26f7b8"
      },
      "execution_count": 14,
      "outputs": [
        {
          "output_type": "execute_result",
          "data": {
            "text/plain": [
              "tensor([108.7800])"
            ]
          },
          "metadata": {},
          "execution_count": 14
        }
      ]
    },
    {
      "cell_type": "markdown",
      "source": [
        "And the partial derivative of $C$ with respect to $b$ ($\\frac{\\partial C}{\\partial b}$) is:"
      ],
      "metadata": {
        "id": "I_djoNy7fqim"
      }
    },
    {
      "cell_type": "code",
      "source": [
        "b.grad"
      ],
      "metadata": {
        "id": "ursCFXCpfqf-",
        "colab": {
          "base_uri": "https://localhost:8080/"
        },
        "outputId": "a8922f75-02ca-4534-b3aa-b2c8ac3e5c8a"
      },
      "execution_count": 15,
      "outputs": [
        {
          "output_type": "execute_result",
          "data": {
            "text/plain": [
              "tensor([15.5400])"
            ]
          },
          "metadata": {},
          "execution_count": 15
        }
      ]
    },
    {
      "cell_type": "markdown",
      "source": [
        " $\\frac{\\partial C}{\\partial m}$ and $\\frac{\\partial C}{\\partial b}$."
      ],
      "metadata": {
        "id": "NjcZQ0zgfqdW"
      }
    },
    {
      "cell_type": "markdown",
      "source": [
        "$$ \\frac{\\partial C}{\\partial m} = 2x(\\hat{y} - y) $$"
      ],
      "metadata": {
        "id": "X3cmPHAafqam"
      }
    },
    {
      "cell_type": "code",
      "source": [
        "2*x*(yhat.item()-y)"
      ],
      "metadata": {
        "colab": {
          "base_uri": "https://localhost:8080/"
        },
        "id": "AEBpYbkPIr9P",
        "outputId": "2551fec5-b84a-402f-fb66-853fe9e4887d"
      },
      "execution_count": 16,
      "outputs": [
        {
          "output_type": "execute_result",
          "data": {
            "text/plain": [
              "tensor(108.7800)"
            ]
          },
          "metadata": {},
          "execution_count": 16
        }
      ]
    },
    {
      "cell_type": "markdown",
      "source": [
        "$$ \\frac{\\partial C}{\\partial b} = 2(\\hat{y}-y) $$"
      ],
      "metadata": {
        "id": "k01JMAjxIr6H"
      }
    },
    {
      "cell_type": "code",
      "source": [
        "2*(yhat.item()-y)"
      ],
      "metadata": {
        "colab": {
          "base_uri": "https://localhost:8080/"
        },
        "id": "hkfyaXrLIr3X",
        "outputId": "456b0233-af34-4b76-a9b6-3d940034acd7"
      },
      "execution_count": 17,
      "outputs": [
        {
          "output_type": "execute_result",
          "data": {
            "text/plain": [
              "tensor(15.5400)"
            ]
          },
          "metadata": {},
          "execution_count": 17
        }
      ]
    },
    {
      "cell_type": "markdown",
      "source": [
        "### The Gradient of Cost, $\\nabla C$"
      ],
      "metadata": {
        "id": "9ubTWNAyIr0o"
      }
    },
    {
      "cell_type": "markdown",
      "source": [
        "The gradient of cost, which is symbolized $\\nabla C$ (pronounced \"nabla C\"), is a vector of all the partial derivatives of $C$ with respect to each of the individual model parameters:"
      ],
      "metadata": {
        "id": "8GYuYWnLIrx5"
      }
    },
    {
      "cell_type": "markdown",
      "source": [
        "$\\nabla C = \\nabla_p C = \\left[ \\frac{\\partial{C}}{\\partial{p_1}}, \\frac{\\partial{C}}{\\partial{p_2}}, \\cdots, \\frac{\\partial{C}}{\\partial{p_n}} \\right]^T $"
      ],
      "metadata": {
        "id": "Bx90Hn-LIrvA"
      }
    },
    {
      "cell_type": "markdown",
      "source": [
        "In this case, there are only two parameters, $b$ and $m$:"
      ],
      "metadata": {
        "id": "El2V1IxkIrrv"
      }
    },
    {
      "cell_type": "markdown",
      "source": [
        "$\\nabla C = \\left[ \\frac{\\partial{C}}{\\partial{b}}, \\frac{\\partial{C}}{\\partial{m}} \\right]^T $"
      ],
      "metadata": {
        "id": "lPwXBKijMctE"
      }
    },
    {
      "cell_type": "code",
      "source": [
        "gradient = torch.tensor([[b.grad.item(), m.grad.item()]]).T\n",
        "gradient"
      ],
      "metadata": {
        "colab": {
          "base_uri": "https://localhost:8080/"
        },
        "id": "eu1_vn_yMcqQ",
        "outputId": "9f0fb993-34f5-4e80-90b5-2ae99417c710"
      },
      "execution_count": 18,
      "outputs": [
        {
          "output_type": "execute_result",
          "data": {
            "text/plain": [
              "tensor([[ 15.5400],\n",
              "        [108.7800]])"
            ]
          },
          "metadata": {},
          "execution_count": 18
        }
      ]
    },
    {
      "cell_type": "code",
      "source": [
        "gradient.ndim"
      ],
      "metadata": {
        "colab": {
          "base_uri": "https://localhost:8080/"
        },
        "id": "UEdKEJVZNVOn",
        "outputId": "e789766b-242c-4e97-d9af-b2f8fd878e8f"
      },
      "execution_count": 19,
      "outputs": [
        {
          "output_type": "execute_result",
          "data": {
            "text/plain": [
              "2"
            ]
          },
          "metadata": {},
          "execution_count": 19
        }
      ]
    }
  ]
}